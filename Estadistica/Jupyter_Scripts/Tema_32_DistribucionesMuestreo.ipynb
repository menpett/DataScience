{
 "cells": [
  {
   "cell_type": "markdown",
   "id": "f1ddb225",
   "metadata": {},
   "source": [
    "*Creado por:*\n",
    "\n",
    "*Isabel Maniega*"
   ]
  },
  {
   "cell_type": "code",
   "execution_count": 6,
   "id": "c81c2235",
   "metadata": {},
   "outputs": [],
   "source": [
    "import pandas as pd\n",
    "import math"
   ]
  },
  {
   "cell_type": "markdown",
   "id": "7ef848b5",
   "metadata": {},
   "source": [
    "# Ejemplo 1"
   ]
  },
  {
   "cell_type": "markdown",
   "id": "9d390b88",
   "metadata": {},
   "source": [
    "Estamos interesados en la altura promedio de los árboles en un bosque en particular. Para obtener resultados rápidamente, hicimos que 5 estudiantes salieran y midieran una muestra de 20 árboles. Cada estudiante regresó con la altura promedio de los árboles de sus muestras. Resultados de la muestras:\n",
    "\n",
    "* 35.23\n",
    "* 36.71\n",
    "* 33.21\n",
    "* 38.2\n",
    "* 35.54\n",
    "\n",
    "Si se sabe que el promedio de la población de la altura de los árboles en el bosque es de 36 pies con la desviación estandar de 2 pies. ¿A cuántos errores estándar se aleja el promedio de los estudiantes de la media de la población?"
   ]
  },
  {
   "cell_type": "markdown",
   "id": "f8e90d42",
   "metadata": {},
   "source": [
    "*Para resolver este problema, primero necesitamos encontrar el promedio de los promedios de estos estudiantes para que:*"
   ]
  },
  {
   "cell_type": "code",
   "execution_count": 2,
   "id": "4bfa7920",
   "metadata": {},
   "outputs": [
    {
     "data": {
      "text/html": [
       "<div>\n",
       "<style scoped>\n",
       "    .dataframe tbody tr th:only-of-type {\n",
       "        vertical-align: middle;\n",
       "    }\n",
       "\n",
       "    .dataframe tbody tr th {\n",
       "        vertical-align: top;\n",
       "    }\n",
       "\n",
       "    .dataframe thead th {\n",
       "        text-align: right;\n",
       "    }\n",
       "</style>\n",
       "<table border=\"1\" class=\"dataframe\">\n",
       "  <thead>\n",
       "    <tr style=\"text-align: right;\">\n",
       "      <th></th>\n",
       "      <th>Media_arboles</th>\n",
       "    </tr>\n",
       "  </thead>\n",
       "  <tbody>\n",
       "    <tr>\n",
       "      <th>0</th>\n",
       "      <td>35.23</td>\n",
       "    </tr>\n",
       "    <tr>\n",
       "      <th>1</th>\n",
       "      <td>36.71</td>\n",
       "    </tr>\n",
       "    <tr>\n",
       "      <th>2</th>\n",
       "      <td>33.21</td>\n",
       "    </tr>\n",
       "    <tr>\n",
       "      <th>3</th>\n",
       "      <td>38.20</td>\n",
       "    </tr>\n",
       "    <tr>\n",
       "      <th>4</th>\n",
       "      <td>35.54</td>\n",
       "    </tr>\n",
       "  </tbody>\n",
       "</table>\n",
       "</div>"
      ],
      "text/plain": [
       "   Media_arboles\n",
       "0          35.23\n",
       "1          36.71\n",
       "2          33.21\n",
       "3          38.20\n",
       "4          35.54"
      ]
     },
     "execution_count": 2,
     "metadata": {},
     "output_type": "execute_result"
    }
   ],
   "source": [
    "df = pd.DataFrame({\"Media_arboles\": [35.23, 36.71, 33.21, 38.2, 35.54]})\n",
    "df"
   ]
  },
  {
   "cell_type": "code",
   "execution_count": 3,
   "id": "a6c0d161",
   "metadata": {},
   "outputs": [
    {
     "data": {
      "text/plain": [
       "Media_arboles    35.778\n",
       "dtype: float64"
      ]
     },
     "execution_count": 3,
     "metadata": {},
     "output_type": "execute_result"
    }
   ],
   "source": [
    "x = df.mean()\n",
    "x"
   ]
  },
  {
   "cell_type": "markdown",
   "id": "b09627cd",
   "metadata": {},
   "source": [
    "*Ahora encontramos nuestro error estándar de la muestra:*"
   ]
  },
  {
   "cell_type": "markdown",
   "id": "b6b57a90",
   "metadata": {},
   "source": [
    "SE = desviacion estandar / raiz cuadrada(numero de muestra)"
   ]
  },
  {
   "cell_type": "code",
   "execution_count": 5,
   "id": "e74fe6b5",
   "metadata": {},
   "outputs": [
    {
     "data": {
      "text/plain": [
       "0.8944271909999159"
      ]
     },
     "execution_count": 5,
     "metadata": {},
     "output_type": "execute_result"
    }
   ],
   "source": [
    "SE = 2 / math.sqrt(5)\n",
    "SE"
   ]
  },
  {
   "cell_type": "markdown",
   "id": "44f98315",
   "metadata": {},
   "source": [
    "*Ahora, para obtener el número de errores estándar de la media de nuestra observación, podemos utilizar la formula de la puntuación Z:*"
   ]
  },
  {
   "cell_type": "code",
   "execution_count": 6,
   "id": "ae53c48d",
   "metadata": {},
   "outputs": [],
   "source": [
    "µ = 36"
   ]
  },
  {
   "cell_type": "code",
   "execution_count": 7,
   "id": "3b0758a6",
   "metadata": {},
   "outputs": [
    {
     "data": {
      "text/plain": [
       "Media_arboles   -0.25\n",
       "dtype: float64"
      ]
     },
     "execution_count": 7,
     "metadata": {},
     "output_type": "execute_result"
    }
   ],
   "source": [
    "Zscore = (round((x - µ)/ SE, 2))\n",
    "Zscore"
   ]
  },
  {
   "cell_type": "markdown",
   "id": "c112adf4",
   "metadata": {},
   "source": [
    "*Así que nuestra distribución de muestra es relativamente cercana a la distribución de la población*"
   ]
  },
  {
   "cell_type": "markdown",
   "id": "900bb708",
   "metadata": {},
   "source": [
    "# Problema 1"
   ]
  },
  {
   "cell_type": "markdown",
   "id": "d4ee75a2",
   "metadata": {},
   "source": [
    "Una población distribuida normalmente tiene una media de 100 y una desviacion estándar de 20.\n",
    "¿ Cuál es la puntuación Z de una media muestral de 110, tomada de una muestra de tamaño 4?"
   ]
  },
  {
   "cell_type": "code",
   "execution_count": 11,
   "id": "5507d243",
   "metadata": {},
   "outputs": [],
   "source": [
    "µ = 100\n",
    "s = 20\n",
    "x = 110\n",
    "n = 4"
   ]
  },
  {
   "cell_type": "code",
   "execution_count": null,
   "id": "acbc6234",
   "metadata": {},
   "outputs": [],
   "source": [
    "SE = s/math.sqrt(n)"
   ]
  },
  {
   "cell_type": "markdown",
   "id": "e177186d",
   "metadata": {},
   "source": [
    "# Problema 2"
   ]
  },
  {
   "cell_type": "markdown",
   "id": "65512c4d",
   "metadata": {},
   "source": [
    "El tiempo medio conocido que se tarda en entregar una pizza es de 22.5 minutos con una desviación estándar de 2 minutos. Pedí pizza todas las semanas durante las últimas 10 semanas y obtuve un tiempo de 21.5 minutos.\n",
    "¿Cuál es la probabilidad de obtener este promedio?"
   ]
  },
  {
   "cell_type": "code",
   "execution_count": 12,
   "id": "f3fd5962",
   "metadata": {},
   "outputs": [],
   "source": [
    "def Zscore(mu,x,s,n):\n",
    "    SE = s/math.sqrt(n)    \n",
    "    return round(((x - mu)/SE), 2)"
   ]
  },
  {
   "cell_type": "code",
   "execution_count": 13,
   "id": "8d79a4c0",
   "metadata": {},
   "outputs": [],
   "source": [
    "mu = 22.5\n",
    "s = 2\n",
    "x = 21.5\n",
    "n = 10"
   ]
  },
  {
   "cell_type": "code",
   "execution_count": 14,
   "id": "c0519654",
   "metadata": {},
   "outputs": [
    {
     "data": {
      "text/plain": [
       "-1.58"
      ]
     },
     "execution_count": 14,
     "metadata": {},
     "output_type": "execute_result"
    }
   ],
   "source": [
    "Zscore_arbol= Zscore(mu,x,s,n)\n",
    "Zscore_arbol"
   ]
  },
  {
   "cell_type": "code",
   "execution_count": 15,
   "id": "6de86b5c",
   "metadata": {},
   "outputs": [
    {
     "data": {
      "text/plain": [
       "5.71"
      ]
     },
     "execution_count": 15,
     "metadata": {},
     "output_type": "execute_result"
    }
   ],
   "source": [
    "P = 0.0571*100\n",
    "P"
   ]
  },
  {
   "cell_type": "markdown",
   "id": "5282b58f",
   "metadata": {},
   "source": [
    "# Problema 3"
   ]
  },
  {
   "cell_type": "markdown",
   "id": "d9e8cf03",
   "metadata": {},
   "source": [
    "Si sigo pidiendo pizzas por la toda la eternidad. ¿A qué nivel puedo esperar que se acerque este promedio?"
   ]
  },
  {
   "cell_type": "markdown",
   "id": "d000465b",
   "metadata": {},
   "source": [
    "nº semanas=?"
   ]
  },
  {
   "cell_type": "code",
   "execution_count": null,
   "id": "ffd79a84",
   "metadata": {},
   "outputs": [],
   "source": []
  },
  {
   "cell_type": "markdown",
   "id": "5e8ec306",
   "metadata": {},
   "source": [
    "*Creado por:*\n",
    "\n",
    "*Isabel Maniega*"
   ]
  }
 ],
 "metadata": {
  "hide_input": false,
  "kernelspec": {
   "display_name": "Python 3 (ipykernel)",
   "language": "python",
   "name": "python3"
  },
  "language_info": {
   "codemirror_mode": {
    "name": "ipython",
    "version": 3
   },
   "file_extension": ".py",
   "mimetype": "text/x-python",
   "name": "python",
   "nbconvert_exporter": "python",
   "pygments_lexer": "ipython3",
   "version": "3.10.7"
  }
 },
 "nbformat": 4,
 "nbformat_minor": 5
}
