{
 "cells": [
  {
   "cell_type": "code",
   "execution_count": 1,
   "id": "2cf1bb2c",
   "metadata": {},
   "outputs": [],
   "source": [
    "# pip install seaborn"
   ]
  },
  {
   "cell_type": "code",
   "execution_count": 2,
   "id": "90160ee4",
   "metadata": {},
   "outputs": [],
   "source": [
    "import pandas as pd\n",
    "import numpy as np\n",
    "\n",
    "# Gráficos\n",
    "# =============================================================\n",
    "import matplotlib.pyplot as plt\n",
    "import seaborn as sns"
   ]
  },
  {
   "cell_type": "markdown",
   "id": "abd906f6",
   "metadata": {},
   "source": [
    "# Ejemplo 1: Notas"
   ]
  },
  {
   "cell_type": "code",
   "execution_count": 3,
   "id": "4bf2b83d",
   "metadata": {},
   "outputs": [
    {
     "data": {
      "text/html": [
       "<div>\n",
       "<style scoped>\n",
       "    .dataframe tbody tr th:only-of-type {\n",
       "        vertical-align: middle;\n",
       "    }\n",
       "\n",
       "    .dataframe tbody tr th {\n",
       "        vertical-align: top;\n",
       "    }\n",
       "\n",
       "    .dataframe thead th {\n",
       "        text-align: right;\n",
       "    }\n",
       "</style>\n",
       "<table border=\"1\" class=\"dataframe\">\n",
       "  <thead>\n",
       "    <tr style=\"text-align: right;\">\n",
       "      <th></th>\n",
       "      <th>notas_1</th>\n",
       "      <th>notas_2</th>\n",
       "      <th>notas_3</th>\n",
       "    </tr>\n",
       "  </thead>\n",
       "  <tbody>\n",
       "    <tr>\n",
       "      <th>0</th>\n",
       "      <td>15</td>\n",
       "      <td>16</td>\n",
       "      <td>17</td>\n",
       "    </tr>\n",
       "    <tr>\n",
       "      <th>1</th>\n",
       "      <td>16</td>\n",
       "      <td>21</td>\n",
       "      <td>22</td>\n",
       "    </tr>\n",
       "    <tr>\n",
       "      <th>2</th>\n",
       "      <td>15</td>\n",
       "      <td>16</td>\n",
       "      <td>15</td>\n",
       "    </tr>\n",
       "    <tr>\n",
       "      <th>3</th>\n",
       "      <td>17</td>\n",
       "      <td>16</td>\n",
       "      <td>22</td>\n",
       "    </tr>\n",
       "    <tr>\n",
       "      <th>4</th>\n",
       "      <td>14</td>\n",
       "      <td>13</td>\n",
       "      <td>14</td>\n",
       "    </tr>\n",
       "  </tbody>\n",
       "</table>\n",
       "</div>"
      ],
      "text/plain": [
       "   notas_1  notas_2  notas_3\n",
       "0       15       16       17\n",
       "1       16       21       22\n",
       "2       15       16       15\n",
       "3       17       16       22\n",
       "4       14       13       14"
      ]
     },
     "execution_count": 3,
     "metadata": {},
     "output_type": "execute_result"
    }
   ],
   "source": [
    "df = pd.DataFrame({\"notas_1\": [15,16,15,17,14,14,14,10,15,25], \"notas_2\": [16,21,16,16,13,15,15,19,22,15], \n",
    "                   \"notas_3\":[17,22,15,22,14,15,16,15,24,16]})\n",
    "df.head()"
   ]
  },
  {
   "cell_type": "markdown",
   "id": "fef2f487",
   "metadata": {},
   "source": [
    "# Variabilidad"
   ]
  },
  {
   "cell_type": "markdown",
   "id": "b4e3bc4f",
   "metadata": {},
   "source": [
    "### Desviación estándar"
   ]
  },
  {
   "cell_type": "markdown",
   "id": "ae32fa74",
   "metadata": {},
   "source": [
    "Calculamos la desviación estandar de los datos:"
   ]
  },
  {
   "cell_type": "markdown",
   "id": "55c165a2",
   "metadata": {},
   "source": [
    "Delta Degrees of Freedom --> ddof\n",
    "\n",
    "https://stackoverflow.com/questions/41204400/what-is-the-difference-between-numpy-var-and-statistics-variance-in-python"
   ]
  },
  {
   "cell_type": "code",
   "execution_count": 4,
   "id": "db5d0c19",
   "metadata": {},
   "outputs": [
    {
     "data": {
      "text/plain": [
       "3.6124783736376886"
      ]
     },
     "execution_count": 4,
     "metadata": {},
     "output_type": "execute_result"
    }
   ],
   "source": [
    "std_1 = df[\"notas_1\"].std(ddof=0)\n",
    "std_1"
   ]
  },
  {
   "cell_type": "code",
   "execution_count": 5,
   "id": "9b439f3a",
   "metadata": {},
   "outputs": [
    {
     "data": {
      "text/plain": [
       "2.749545416973504"
      ]
     },
     "execution_count": 5,
     "metadata": {},
     "output_type": "execute_result"
    }
   ],
   "source": [
    "std_2 = df[\"notas_2\"].std(ddof=0)\n",
    "std_2"
   ]
  },
  {
   "cell_type": "code",
   "execution_count": 6,
   "id": "bbbe3afe",
   "metadata": {},
   "outputs": [
    {
     "data": {
      "text/plain": [
       "3.4409301068170506"
      ]
     },
     "execution_count": 6,
     "metadata": {},
     "output_type": "execute_result"
    }
   ],
   "source": [
    "std_3 = df[\"notas_3\"].std(ddof=0)\n",
    "std_3"
   ]
  },
  {
   "cell_type": "markdown",
   "id": "527bf122",
   "metadata": {},
   "source": [
    "### Varianza"
   ]
  },
  {
   "cell_type": "code",
   "execution_count": 7,
   "id": "e0fd7b38",
   "metadata": {},
   "outputs": [
    {
     "data": {
      "text/plain": [
       "13.05"
      ]
     },
     "execution_count": 7,
     "metadata": {},
     "output_type": "execute_result"
    }
   ],
   "source": [
    "varianza_1 = df[\"notas_1\"].var(ddof=0)\n",
    "varianza_1"
   ]
  },
  {
   "cell_type": "code",
   "execution_count": 8,
   "id": "7ee4c7fb",
   "metadata": {},
   "outputs": [
    {
     "data": {
      "text/plain": [
       "7.56"
      ]
     },
     "execution_count": 8,
     "metadata": {},
     "output_type": "execute_result"
    }
   ],
   "source": [
    "varianza_2 = df[\"notas_2\"].var(ddof=0)\n",
    "varianza_2"
   ]
  },
  {
   "cell_type": "code",
   "execution_count": 9,
   "id": "b768b267",
   "metadata": {},
   "outputs": [
    {
     "data": {
      "text/plain": [
       "11.84"
      ]
     },
     "execution_count": 9,
     "metadata": {},
     "output_type": "execute_result"
    }
   ],
   "source": [
    "varianza_3 = df[\"notas_3\"].var(ddof=0)\n",
    "varianza_3"
   ]
  },
  {
   "cell_type": "markdown",
   "id": "3ac9da48",
   "metadata": {},
   "source": [
    "## Rango Intercuartílico o IQR"
   ]
  },
  {
   "cell_type": "markdown",
   "id": "63dc5f7a",
   "metadata": {},
   "source": [
    "Como calcular la IQR de las distintas notas:"
   ]
  },
  {
   "cell_type": "code",
   "execution_count": 11,
   "id": "caeffee3",
   "metadata": {},
   "outputs": [
    {
     "name": "stdout",
     "output_type": "stream",
     "text": [
      "IQR de las notas 1: 1.75, rango: 15\n"
     ]
    }
   ],
   "source": [
    "rango_1 = df[\"notas_1\"].max() - df[\"notas_1\"].min()\n",
    "iqr_1 = df[\"notas_1\"].quantile(0.75) - df[\"notas_1\"].quantile(0.25)\n",
    "print(f\"IQR de las notas 1: {iqr_1}, rango: {rango_1}\")"
   ]
  },
  {
   "cell_type": "code",
   "execution_count": 12,
   "id": "67c5c577",
   "metadata": {},
   "outputs": [
    {
     "name": "stdout",
     "output_type": "stream",
     "text": [
      "IQR de las notas 2: 3.25, rango: 9\n"
     ]
    }
   ],
   "source": [
    "rango_2 = df[\"notas_2\"].max() - df[\"notas_2\"].min()\n",
    "iqr_2 = df[\"notas_2\"].quantile(0.75) - df[\"notas_2\"].quantile(0.25)\n",
    "print(f\"IQR de las notas 2: {iqr_2}, rango: {rango_2}\")"
   ]
  },
  {
   "cell_type": "code",
   "execution_count": 13,
   "id": "182114ce",
   "metadata": {},
   "outputs": [
    {
     "name": "stdout",
     "output_type": "stream",
     "text": [
      "IQR de las notas 3: 5.75, rango: 10\n"
     ]
    }
   ],
   "source": [
    "rango_3 = df[\"notas_3\"].max() - df[\"notas_3\"].min()\n",
    "iqr_3 = df[\"notas_3\"].quantile(0.75) - df[\"notas_3\"].quantile(0.25)\n",
    "print(f\"IQR de las notas 3: {iqr_3}, rango: {rango_3}\")"
   ]
  },
  {
   "cell_type": "markdown",
   "id": "6e3cbf53",
   "metadata": {},
   "source": [
    "## Finding Outliers"
   ]
  },
  {
   "cell_type": "markdown",
   "id": "7dd0748b",
   "metadata": {},
   "source": [
    " * **Notas 1:**"
   ]
  },
  {
   "cell_type": "markdown",
   "id": "b26d6999",
   "metadata": {},
   "source": [
    "--> Superiores:"
   ]
  },
  {
   "cell_type": "code",
   "execution_count": 14,
   "id": "9060e791",
   "metadata": {},
   "outputs": [
    {
     "name": "stdout",
     "output_type": "stream",
     "text": [
      "18.375\n"
     ]
    }
   ],
   "source": [
    "superiores_1 = df[\"notas_1\"].quantile(0.75) + 1.5 * iqr_1\n",
    "print(superiores_1)"
   ]
  },
  {
   "cell_type": "code",
   "execution_count": 15,
   "id": "cd7a0f3b",
   "metadata": {},
   "outputs": [
    {
     "data": {
      "text/plain": [
       "0    15\n",
       "1    16\n",
       "2    15\n",
       "3    17\n",
       "4    14\n",
       "5    14\n",
       "6    14\n",
       "7    10\n",
       "8    15\n",
       "9    25\n",
       "Name: notas_1, dtype: int64"
      ]
     },
     "execution_count": 15,
     "metadata": {},
     "output_type": "execute_result"
    }
   ],
   "source": [
    "df.notas_1"
   ]
  },
  {
   "cell_type": "markdown",
   "id": "8d9e7571",
   "metadata": {},
   "source": [
    "Todos los valores superiores a 18.375 son outliers, en nuestro caso es el valor 25."
   ]
  },
  {
   "cell_type": "markdown",
   "id": "06ff408b",
   "metadata": {},
   "source": [
    "--> Inferiores"
   ]
  },
  {
   "cell_type": "code",
   "execution_count": 17,
   "id": "793e61c2",
   "metadata": {},
   "outputs": [
    {
     "data": {
      "text/plain": [
       "11.375"
      ]
     },
     "execution_count": 17,
     "metadata": {},
     "output_type": "execute_result"
    }
   ],
   "source": [
    "inferiores_1 = df[\"notas_1\"].quantile(0.25) - 1.5 * iqr_1\n",
    "inferiores_1"
   ]
  },
  {
   "cell_type": "markdown",
   "id": "fe28a2ce",
   "metadata": {},
   "source": [
    "Todos los valores inferiores a 11.375 son considerados outliers, en este caso el valor 10."
   ]
  },
  {
   "cell_type": "markdown",
   "id": "15790fb8",
   "metadata": {},
   "source": [
    " * **Notas 2:**"
   ]
  },
  {
   "cell_type": "markdown",
   "id": "c007f569",
   "metadata": {},
   "source": [
    "--> Superiores:"
   ]
  },
  {
   "cell_type": "code",
   "execution_count": 18,
   "id": "f15f24ac",
   "metadata": {},
   "outputs": [
    {
     "name": "stdout",
     "output_type": "stream",
     "text": [
      "23.125\n"
     ]
    }
   ],
   "source": [
    "superiores_2 = df[\"notas_2\"].quantile(0.75) + 1.5 * iqr_2\n",
    "print(superiores_2)"
   ]
  },
  {
   "cell_type": "code",
   "execution_count": 19,
   "id": "ac9d1692",
   "metadata": {},
   "outputs": [
    {
     "data": {
      "text/plain": [
       "0    16\n",
       "1    21\n",
       "2    16\n",
       "3    16\n",
       "4    13\n",
       "5    15\n",
       "6    15\n",
       "7    19\n",
       "8    22\n",
       "9    15\n",
       "Name: notas_2, dtype: int64"
      ]
     },
     "execution_count": 19,
     "metadata": {},
     "output_type": "execute_result"
    }
   ],
   "source": [
    "df.notas_2"
   ]
  },
  {
   "cell_type": "markdown",
   "id": "4c3d821b",
   "metadata": {},
   "source": [
    "--> Inferiores"
   ]
  },
  {
   "cell_type": "code",
   "execution_count": 20,
   "id": "54b51897",
   "metadata": {},
   "outputs": [
    {
     "data": {
      "text/plain": [
       "10.125"
      ]
     },
     "execution_count": 20,
     "metadata": {},
     "output_type": "execute_result"
    }
   ],
   "source": [
    "inferiores_2 = df[\"notas_2\"].quantile(0.25) - 1.5 * iqr_2\n",
    "inferiores_2"
   ]
  },
  {
   "cell_type": "markdown",
   "id": "9a7a5ba0",
   "metadata": {},
   "source": [
    " * **Notas 3:**"
   ]
  },
  {
   "cell_type": "markdown",
   "id": "ab8a36bc",
   "metadata": {},
   "source": [
    "--> Superiores:"
   ]
  },
  {
   "cell_type": "code",
   "execution_count": 21,
   "id": "8f9549e7",
   "metadata": {},
   "outputs": [
    {
     "name": "stdout",
     "output_type": "stream",
     "text": [
      "29.375\n"
     ]
    }
   ],
   "source": [
    "superiores_3 = df[\"notas_3\"].quantile(0.75) + 1.5 * iqr_3\n",
    "print(superiores_3)"
   ]
  },
  {
   "cell_type": "code",
   "execution_count": 22,
   "id": "6f187545",
   "metadata": {},
   "outputs": [
    {
     "data": {
      "text/plain": [
       "0    17\n",
       "1    22\n",
       "2    15\n",
       "3    22\n",
       "4    14\n",
       "5    15\n",
       "6    16\n",
       "7    15\n",
       "8    24\n",
       "9    16\n",
       "Name: notas_3, dtype: int64"
      ]
     },
     "execution_count": 22,
     "metadata": {},
     "output_type": "execute_result"
    }
   ],
   "source": [
    "df.notas_3"
   ]
  },
  {
   "cell_type": "markdown",
   "id": "42dce429",
   "metadata": {},
   "source": [
    "--> Inferiores"
   ]
  },
  {
   "cell_type": "code",
   "execution_count": 23,
   "id": "888fed06",
   "metadata": {},
   "outputs": [
    {
     "data": {
      "text/plain": [
       "6.375"
      ]
     },
     "execution_count": 23,
     "metadata": {},
     "output_type": "execute_result"
    }
   ],
   "source": [
    "inferiores_3 = df[\"notas_3\"].quantile(0.25) - 1.5 * iqr_3\n",
    "inferiores_3"
   ]
  },
  {
   "cell_type": "markdown",
   "id": "1f1c9764",
   "metadata": {},
   "source": [
    "## Máximos, Mínimos, cuartiles (Q3, Q1), Mediana/Media (Q2)"
   ]
  },
  {
   "cell_type": "markdown",
   "id": "ba3abb78",
   "metadata": {},
   "source": [
    " * **Notas 1:**"
   ]
  },
  {
   "cell_type": "code",
   "execution_count": 25,
   "id": "3fb8681e",
   "metadata": {},
   "outputs": [],
   "source": [
    "max_1 = df[\"notas_1\"].max()\n",
    "min_1 = df[\"notas_1\"].min()\n",
    "q3_1 = df[\"notas_1\"].quantile(0.75)\n",
    "q1_1 = df[\"notas_1\"].quantile(0.25)\n",
    "mediana_1 = df[\"notas_1\"].median()\n",
    "media_1 = df[\"notas_1\"].mean()"
   ]
  },
  {
   "cell_type": "code",
   "execution_count": 31,
   "id": "1560632a",
   "metadata": {},
   "outputs": [
    {
     "name": "stdout",
     "output_type": "stream",
     "text": [
      "Maximo: 25, Mínimo: 10, Q3: 15.75, Q1: 14.0, Media: 15.5\n"
     ]
    }
   ],
   "source": [
    "print(f\"Maximo: {max_1}, Mínimo: {min_1}, Q3: {q3_1}, Q1: {q1_1}, Media: {media_1}\")"
   ]
  },
  {
   "cell_type": "markdown",
   "id": "5a50d6a6",
   "metadata": {},
   "source": [
    " * **Notas 2:**"
   ]
  },
  {
   "cell_type": "code",
   "execution_count": 26,
   "id": "f2bd5ae4",
   "metadata": {},
   "outputs": [],
   "source": [
    "max_2 = df[\"notas_2\"].max()\n",
    "min_2 = df[\"notas_2\"].min()\n",
    "q3_2 = df[\"notas_2\"].quantile(0.75)\n",
    "q1_2 = df[\"notas_2\"].quantile(0.25)\n",
    "mediana_2 = df[\"notas_2\"].median()\n",
    "media_2 = df[\"notas_2\"].mean()"
   ]
  },
  {
   "cell_type": "code",
   "execution_count": 33,
   "id": "b02a8056",
   "metadata": {},
   "outputs": [
    {
     "name": "stdout",
     "output_type": "stream",
     "text": [
      "Maximo: 22, Mínimo: 13, Q3: 18.25, Q1: 15.0, Media: 16.8\n"
     ]
    }
   ],
   "source": [
    "print(f\"Maximo: {max_2}, Mínimo: {min_2}, Q3: {q3_2}, Q1: {q1_2}, Media: {media_2}\")"
   ]
  },
  {
   "cell_type": "markdown",
   "id": "c6c171cf",
   "metadata": {},
   "source": [
    " * **Notas 3:**"
   ]
  },
  {
   "cell_type": "code",
   "execution_count": 27,
   "id": "a3ae909e",
   "metadata": {},
   "outputs": [],
   "source": [
    "max_3 = df[\"notas_3\"].max()\n",
    "min_3 = df[\"notas_3\"].min()\n",
    "q3_3 = df[\"notas_3\"].quantile(0.75)\n",
    "q1_3 = df[\"notas_3\"].quantile(0.25)\n",
    "mediana_3 = df[\"notas_3\"].median()\n",
    "media_3 = df[\"notas_3\"].mean()"
   ]
  },
  {
   "cell_type": "code",
   "execution_count": 34,
   "id": "15d88e86",
   "metadata": {},
   "outputs": [
    {
     "name": "stdout",
     "output_type": "stream",
     "text": [
      "Maximo: 24, Mínimo: 14, Q3: 20.75, Q1: 15.0, Media: 17.6\n"
     ]
    }
   ],
   "source": [
    "print(f\"Maximo: {max_3}, Mínimo: {min_3}, Q3: {q3_3}, Q1: {q1_3}, Media: {media_3}\")"
   ]
  },
  {
   "cell_type": "code",
   "execution_count": 32,
   "id": "1925282f",
   "metadata": {},
   "outputs": [
    {
     "data": {
      "text/html": [
       "<div>\n",
       "<style scoped>\n",
       "    .dataframe tbody tr th:only-of-type {\n",
       "        vertical-align: middle;\n",
       "    }\n",
       "\n",
       "    .dataframe tbody tr th {\n",
       "        vertical-align: top;\n",
       "    }\n",
       "\n",
       "    .dataframe thead th {\n",
       "        text-align: right;\n",
       "    }\n",
       "</style>\n",
       "<table border=\"1\" class=\"dataframe\">\n",
       "  <thead>\n",
       "    <tr style=\"text-align: right;\">\n",
       "      <th></th>\n",
       "      <th>notas_1</th>\n",
       "      <th>notas_2</th>\n",
       "      <th>notas_3</th>\n",
       "    </tr>\n",
       "  </thead>\n",
       "  <tbody>\n",
       "    <tr>\n",
       "      <th>count</th>\n",
       "      <td>10.000000</td>\n",
       "      <td>10.000000</td>\n",
       "      <td>10.000000</td>\n",
       "    </tr>\n",
       "    <tr>\n",
       "      <th>mean</th>\n",
       "      <td>15.500000</td>\n",
       "      <td>16.800000</td>\n",
       "      <td>17.600000</td>\n",
       "    </tr>\n",
       "    <tr>\n",
       "      <th>std</th>\n",
       "      <td>3.807887</td>\n",
       "      <td>2.898275</td>\n",
       "      <td>3.627059</td>\n",
       "    </tr>\n",
       "    <tr>\n",
       "      <th>min</th>\n",
       "      <td>10.000000</td>\n",
       "      <td>13.000000</td>\n",
       "      <td>14.000000</td>\n",
       "    </tr>\n",
       "    <tr>\n",
       "      <th>25%</th>\n",
       "      <td>14.000000</td>\n",
       "      <td>15.000000</td>\n",
       "      <td>15.000000</td>\n",
       "    </tr>\n",
       "    <tr>\n",
       "      <th>50%</th>\n",
       "      <td>15.000000</td>\n",
       "      <td>16.000000</td>\n",
       "      <td>16.000000</td>\n",
       "    </tr>\n",
       "    <tr>\n",
       "      <th>75%</th>\n",
       "      <td>15.750000</td>\n",
       "      <td>18.250000</td>\n",
       "      <td>20.750000</td>\n",
       "    </tr>\n",
       "    <tr>\n",
       "      <th>max</th>\n",
       "      <td>25.000000</td>\n",
       "      <td>22.000000</td>\n",
       "      <td>24.000000</td>\n",
       "    </tr>\n",
       "  </tbody>\n",
       "</table>\n",
       "</div>"
      ],
      "text/plain": [
       "         notas_1    notas_2    notas_3\n",
       "count  10.000000  10.000000  10.000000\n",
       "mean   15.500000  16.800000  17.600000\n",
       "std     3.807887   2.898275   3.627059\n",
       "min    10.000000  13.000000  14.000000\n",
       "25%    14.000000  15.000000  15.000000\n",
       "50%    15.000000  16.000000  16.000000\n",
       "75%    15.750000  18.250000  20.750000\n",
       "max    25.000000  22.000000  24.000000"
      ]
     },
     "execution_count": 32,
     "metadata": {},
     "output_type": "execute_result"
    }
   ],
   "source": [
    "df.describe()"
   ]
  },
  {
   "cell_type": "markdown",
   "id": "1cfa0040",
   "metadata": {},
   "source": [
    "**Resultados notas 1:**"
   ]
  },
  {
   "cell_type": "code",
   "execution_count": 28,
   "id": "14ab82a6",
   "metadata": {},
   "outputs": [
    {
     "name": "stdout",
     "output_type": "stream",
     "text": [
      "Desviación estándar: 3.6124783736376886, Varianza: 13.05, Rango: 15, \n",
      "IQR: 1.75 Outlier Sup: 18.375, Outlier Inf: 11.375\n"
     ]
    }
   ],
   "source": [
    "print(f'Desviación estándar: {std_1}, Varianza: {varianza_1}, Rango: {rango_1}, \\nIQR: {iqr_1}\\\n",
    " Outlier Sup: {superiores_1}, Outlier Inf: {inferiores_1}')"
   ]
  },
  {
   "cell_type": "markdown",
   "id": "e677eb4a",
   "metadata": {},
   "source": [
    "**Resultados notas 2:**"
   ]
  },
  {
   "cell_type": "code",
   "execution_count": 29,
   "id": "b756f916",
   "metadata": {},
   "outputs": [
    {
     "name": "stdout",
     "output_type": "stream",
     "text": [
      "Desviación estándar: 2.749545416973504, Varianza: 7.56, Rango: 9, \n",
      "IQR: 3.25 Outlier Sup: 23.125, Outlier Inf: 10.125\n"
     ]
    }
   ],
   "source": [
    "print(f'Desviación estándar: {std_2}, Varianza: {varianza_2}, Rango: {rango_2}, \\nIQR: {iqr_2}\\\n",
    " Outlier Sup: {superiores_2}, Outlier Inf: {inferiores_2}')"
   ]
  },
  {
   "cell_type": "markdown",
   "id": "189f6b8b",
   "metadata": {},
   "source": [
    "**Resultados notas 3:**"
   ]
  },
  {
   "cell_type": "code",
   "execution_count": 30,
   "id": "289dea3e",
   "metadata": {},
   "outputs": [
    {
     "name": "stdout",
     "output_type": "stream",
     "text": [
      "Desviación estándar: 3.4409301068170506, Varianza: 11.84, Rango: 10, \n",
      "IQR: 5.75 Outlier Sup: 29.375, Outlier Inf: 6.375\n"
     ]
    }
   ],
   "source": [
    "print(f'Desviación estándar: {std_3}, Varianza: {varianza_3}, Rango: {rango_3}, \\nIQR: {iqr_3}\\\n",
    " Outlier Sup: {superiores_3}, Outlier Inf: {inferiores_3}')"
   ]
  },
  {
   "cell_type": "markdown",
   "id": "c978903d",
   "metadata": {},
   "source": [
    "## Diagrama de cajas"
   ]
  },
  {
   "cell_type": "markdown",
   "id": "3be849d3",
   "metadata": {},
   "source": [
    "<img src=\"boxplot.png\">"
   ]
  },
  {
   "cell_type": "code",
   "execution_count": 36,
   "id": "5bd2853b",
   "metadata": {},
   "outputs": [
    {
     "data": {
      "image/png": "[encoded data removed]",
      "text/plain": [
       "<Figure size 432x288 with 1 Axes>"
      ]
     },
     "metadata": {
      "needs_background": "light"
     },
     "output_type": "display_data"
    }
   ],
   "source": [
    "# usando pandas:\n",
    "boxplot = df.boxplot(column=[\"notas_1\", \"notas_2\", \"notas_3\"])"
   ]
  },
  {
   "cell_type": "code",
   "execution_count": 37,
   "id": "7cf60ae6",
   "metadata": {},
   "outputs": [
    {
     "data": {
      "text/plain": [
       "<AxesSubplot:>"
      ]
     },
     "execution_count": 37,
     "metadata": {},
     "output_type": "execute_result"
    },
    {
     "data": {
      "image/png": "[encoded data removed]",
      "text/plain": [
       "<Figure size 432x288 with 1 Axes>"
      ]
     },
     "metadata": {},
     "output_type": "display_data"
    }
   ],
   "source": [
    "# seaborn:\n",
    "sns.set_style(\"whitegrid\")\n",
    "sns.boxplot(data=df)"
   ]
  },
  {
   "cell_type": "markdown",
   "id": "45018015",
   "metadata": {},
   "source": [
    "# Ejemplo 2: Beneficios de una empresa"
   ]
  },
  {
   "cell_type": "code",
   "execution_count": 38,
   "id": "e64fb917",
   "metadata": {},
   "outputs": [
    {
     "data": {
      "text/html": [
       "<div>\n",
       "<style scoped>\n",
       "    .dataframe tbody tr th:only-of-type {\n",
       "        vertical-align: middle;\n",
       "    }\n",
       "\n",
       "    .dataframe tbody tr th {\n",
       "        vertical-align: top;\n",
       "    }\n",
       "\n",
       "    .dataframe thead th {\n",
       "        text-align: right;\n",
       "    }\n",
       "</style>\n",
       "<table border=\"1\" class=\"dataframe\">\n",
       "  <thead>\n",
       "    <tr style=\"text-align: right;\">\n",
       "      <th></th>\n",
       "      <th>Beneficios Enero ($)</th>\n",
       "      <th>Beneficios Febrero ($)</th>\n",
       "      <th>Beneficios Marzo ($)</th>\n",
       "    </tr>\n",
       "  </thead>\n",
       "  <tbody>\n",
       "    <tr>\n",
       "      <th>0</th>\n",
       "      <td>2500</td>\n",
       "      <td>3000</td>\n",
       "      <td>2900</td>\n",
       "    </tr>\n",
       "    <tr>\n",
       "      <th>1</th>\n",
       "      <td>2650</td>\n",
       "      <td>3225</td>\n",
       "      <td>2700</td>\n",
       "    </tr>\n",
       "    <tr>\n",
       "      <th>2</th>\n",
       "      <td>2740</td>\n",
       "      <td>3000</td>\n",
       "      <td>3400</td>\n",
       "    </tr>\n",
       "    <tr>\n",
       "      <th>3</th>\n",
       "      <td>2500</td>\n",
       "      <td>3100</td>\n",
       "      <td>2700</td>\n",
       "    </tr>\n",
       "  </tbody>\n",
       "</table>\n",
       "</div>"
      ],
      "text/plain": [
       "   Beneficios Enero ($)  Beneficios Febrero ($)  Beneficios Marzo ($)\n",
       "0                  2500                    3000                  2900\n",
       "1                  2650                    3225                  2700\n",
       "2                  2740                    3000                  3400\n",
       "3                  2500                    3100                  2700"
      ]
     },
     "execution_count": 38,
     "metadata": {},
     "output_type": "execute_result"
    }
   ],
   "source": [
    "df_2 = pd.DataFrame({\"Beneficios Enero ($)\": [2500,2650,2740,2500],\n",
    "                     \"Beneficios Febrero ($)\": [3000,3225,3000,3100],\n",
    "                     \"Beneficios Marzo ($)\": [2900,2700,3400,2700]})\n",
    "df_2.head()"
   ]
  },
  {
   "cell_type": "code",
   "execution_count": null,
   "id": "b24eb6e2",
   "metadata": {},
   "outputs": [],
   "source": []
  }
 ],
 "metadata": {
  "kernelspec": {
   "display_name": "Python 3 (ipykernel)",
   "language": "python",
   "name": "python3"
  },
  "language_info": {
   "codemirror_mode": {
    "name": "ipython",
    "version": 3
   },
   "file_extension": ".py",
   "mimetype": "text/x-python",
   "name": "python",
   "nbconvert_exporter": "python",
   "pygments_lexer": "ipython3",
   "version": "3.10.7"
  }
 },
 "nbformat": 4,
 "nbformat_minor": 5
}
