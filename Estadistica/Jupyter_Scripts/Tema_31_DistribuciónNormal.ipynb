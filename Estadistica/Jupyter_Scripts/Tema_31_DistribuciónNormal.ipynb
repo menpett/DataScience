{
 "cells": [
  {
   "cell_type": "markdown",
   "id": "8eba7e31",
   "metadata": {},
   "source": [
    "*Creado por:*\n",
    "    \n",
    "*Isabel Maniega*"
   ]
  },
  {
   "cell_type": "markdown",
   "id": "1be72f19",
   "metadata": {},
   "source": [
    "# Ejemplo 1"
   ]
  },
  {
   "cell_type": "markdown",
   "id": "5b5a2eb5",
   "metadata": {},
   "source": [
    "La estatura promedio de los estudiantes de una universidad privada es de 1.85 metros con una desviación estándar de 0.15 metros. ¿Qué porcentaje de estudiantes son más bajos o tan altos como Margie, que mide 2.05 metros?"
   ]
  },
  {
   "cell_type": "markdown",
   "id": "114e8488",
   "metadata": {},
   "source": [
    "*Para resolver este problema lo primero que necesitamos es encontrar nuestro Z-score:*"
   ]
  },
  {
   "cell_type": "code",
   "execution_count": 1,
   "id": "2ee639d7",
   "metadata": {},
   "outputs": [],
   "source": [
    "µ = 1.85\n",
    "x = 2.05\n",
    "s = 0.15"
   ]
  },
  {
   "cell_type": "code",
   "execution_count": 4,
   "id": "8349dd14",
   "metadata": {},
   "outputs": [],
   "source": [
    "def Zscore(mu,x,s):\n",
    "    return round(((x - mu)/s), 2)"
   ]
  },
  {
   "cell_type": "code",
   "execution_count": 5,
   "id": "7600206e",
   "metadata": {},
   "outputs": [
    {
     "data": {
      "text/plain": [
       "1.33"
      ]
     },
     "execution_count": 5,
     "metadata": {},
     "output_type": "execute_result"
    }
   ],
   "source": [
    "Zscore_Margie = Zscore(1.85,2.05,0.15)\n",
    "Zscore_Margie"
   ]
  },
  {
   "cell_type": "markdown",
   "id": "c9a6c52b",
   "metadata": {},
   "source": [
    "*Ahora necesitamos usar la tabla de puntuación z para encontrar la proporción por debajo de una puntuación de Z 1.33*"
   ]
  },
  {
   "cell_type": "markdown",
   "id": "ab87beed",
   "metadata": {},
   "source": [
    "*Para usar la tabla z, comenzamos en la columna más a la izquierda y encontramos los primeros dos dígitos de nuestro puntaje z (en este caso, 1.3), luego encontramos el tercer dígito en la parte superior de la tabla. Donde se cruzan la fila y la columna es nuestra proporción por debajo de este puntaje z.*"
   ]
  },
  {
   "cell_type": "markdown",
   "id": "37842d5c",
   "metadata": {},
   "source": [
    "<img src=\"tabla_Zscore.png\">"
   ]
  },
  {
   "cell_type": "markdown",
   "id": "d32632b1",
   "metadata": {},
   "source": [
    "*Esto significa que Margie es más alta que el 90,82% de sus compañeros.*"
   ]
  },
  {
   "cell_type": "markdown",
   "id": "fc71a72e",
   "metadata": {},
   "source": [
    "<img src=\"85%.png\">"
   ]
  },
  {
   "cell_type": "markdown",
   "id": "35a11a38",
   "metadata": {},
   "source": [
    "# Ejemplo 2"
   ]
  },
  {
   "cell_type": "markdown",
   "id": "2d64a727",
   "metadata": {},
   "source": [
    "Margie también quiere saber qué porcentaje de estudiantes son más altos que ella. Como el área bajo la curva normal es 1, podemos encontrar esa proporción:"
   ]
  },
  {
   "cell_type": "code",
   "execution_count": 3,
   "id": "6bb3906f",
   "metadata": {},
   "outputs": [
    {
     "data": {
      "text/plain": [
       "0.09179999999999999"
      ]
     },
     "execution_count": 3,
     "metadata": {},
     "output_type": "execute_result"
    }
   ],
   "source": [
    "mas_Altos = 1 - 0.9082\n",
    "mas_Altos"
   ]
  },
  {
   "cell_type": "code",
   "execution_count": 4,
   "id": "c812a30f",
   "metadata": {},
   "outputs": [
    {
     "data": {
      "text/plain": [
       "9.18"
      ]
     },
     "execution_count": 4,
     "metadata": {},
     "output_type": "execute_result"
    }
   ],
   "source": [
    "mas_Altos *=100\n",
    "mas_Altos"
   ]
  },
  {
   "cell_type": "markdown",
   "id": "fb626655",
   "metadata": {},
   "source": [
    "El 9.18% son más altos que Margie"
   ]
  },
  {
   "cell_type": "markdown",
   "id": "2f1bda0c",
   "metadata": {},
   "source": [
    "# Ejemplo 3"
   ]
  },
  {
   "cell_type": "markdown",
   "id": "f57b66b6",
   "metadata": {},
   "source": [
    "Anne solo mide 1.87 metros. ¿Qué proporción de compañeros de clase se encuentra entre las alturas de Anne y Margie?"
   ]
  },
  {
   "cell_type": "markdown",
   "id": "52f0aa2e",
   "metadata": {},
   "source": [
    "*Ya sabemos que el 90.82% de los estudiantes son más bajos que Margie.Así que primero encontraremos el porcentaje que son más bajos que Anne.*"
   ]
  },
  {
   "cell_type": "code",
   "execution_count": 5,
   "id": "afbe1d6c",
   "metadata": {},
   "outputs": [],
   "source": [
    "µ = 1.85\n",
    "x = 1.87\n",
    "s = 0.15"
   ]
  },
  {
   "cell_type": "code",
   "execution_count": 6,
   "id": "d2791ed2",
   "metadata": {},
   "outputs": [
    {
     "data": {
      "text/plain": [
       "0.13"
      ]
     },
     "execution_count": 6,
     "metadata": {},
     "output_type": "execute_result"
    }
   ],
   "source": [
    "Zscore_Margie = Zscore(1.85,1.87,0.15)\n",
    "Zscore_Margie"
   ]
  },
  {
   "cell_type": "markdown",
   "id": "45ea86de",
   "metadata": {},
   "source": [
    "Si usamos la tabla z vemos que este z-score corresponde a una proporción de 0.5517 o 55.17%. Entonces, para obtener la proporción entre los dos, restamos las dos proporciones entre sí. Esa proporción de personas cuya altura está entre la altura de Anne y Margie es:"
   ]
  },
  {
   "cell_type": "code",
   "execution_count": 7,
   "id": "62720845",
   "metadata": {},
   "outputs": [
    {
     "data": {
      "text/plain": [
       "35.64999999999999"
      ]
     },
     "execution_count": 7,
     "metadata": {},
     "output_type": "execute_result"
    }
   ],
   "source": [
    "proporcion = 90.82 - 55.17\n",
    "proporcion"
   ]
  },
  {
   "cell_type": "markdown",
   "id": "dfc32831",
   "metadata": {},
   "source": [
    "El resultado es de 35.64% está entre las dos."
   ]
  },
  {
   "cell_type": "markdown",
   "id": "10d825d8",
   "metadata": {},
   "source": [
    "# Ejercicio 1"
   ]
  },
  {
   "cell_type": "markdown",
   "id": "7d05cee6",
   "metadata": {},
   "source": [
    "En 2007-2008, la altura promedio de un jugador de baloncesto profesional fue de 2,00 metros \n",
    "con una desviación estándar de 0,02 metros. Harrison Barnes es un jugador de baloncesto que mide 2,03 \n",
    "metros. ¿Qué porcentaje de jugadores son más altos que Barnes?"
   ]
  },
  {
   "cell_type": "code",
   "execution_count": 7,
   "id": "6308b98d",
   "metadata": {},
   "outputs": [
    {
     "data": {
      "text/plain": [
       "1.5"
      ]
     },
     "execution_count": 7,
     "metadata": {},
     "output_type": "execute_result"
    }
   ],
   "source": [
    "Zscore_Harry = Zscore(2,2.03,0.02)\n",
    "Zscore_Harry"
   ]
  },
  {
   "cell_type": "markdown",
   "id": "64198295",
   "metadata": {},
   "source": [
    "Zscore_Harry -----> Porcentaje de 0.9332 mas bajos"
   ]
  },
  {
   "cell_type": "code",
   "execution_count": 10,
   "id": "9fc27c8b",
   "metadata": {},
   "outputs": [
    {
     "data": {
      "text/plain": [
       "6.68"
      ]
     },
     "execution_count": 10,
     "metadata": {},
     "output_type": "execute_result"
    }
   ],
   "source": [
    "mas_Altos_Harry = round((1 - 0.9332)*100,2)\n",
    "mas_Altos_Harry"
   ]
  },
  {
   "cell_type": "markdown",
   "id": "b0dd235d",
   "metadata": {},
   "source": [
    " El 6.68% son mas altos "
   ]
  },
  {
   "cell_type": "markdown",
   "id": "93424290",
   "metadata": {},
   "source": [
    "# Ejercicio 2"
   ]
  },
  {
   "cell_type": "markdown",
   "id": "da23016e",
   "metadata": {},
   "source": [
    "Chris Paul mide 1,83 metros. ¿Qué proporción de jugadores de baloncesto se encuentran entre \n",
    "las alturas de Paul y Barnes?"
   ]
  },
  {
   "cell_type": "code",
   "execution_count": 11,
   "id": "79344329",
   "metadata": {},
   "outputs": [
    {
     "data": {
      "text/plain": [
       "-8.5"
      ]
     },
     "execution_count": 11,
     "metadata": {},
     "output_type": "execute_result"
    }
   ],
   "source": [
    "Zscore_Paul = Zscore(2,1.83,0.02)\n",
    "Zscore_Paul"
   ]
  },
  {
   "cell_type": "markdown",
   "id": "603f2ed1",
   "metadata": {},
   "source": [
    "El 93.32% están entre los dos jugadores. Una Z mas a"
   ]
  },
  {
   "cell_type": "markdown",
   "id": "91d9c432",
   "metadata": {},
   "source": [
    "# Ejercicio 3"
   ]
  },
  {
   "cell_type": "markdown",
   "id": "fe2a8ab0",
   "metadata": {},
   "source": [
    "El 92 % de los candidatos obtuvo una puntuación tan buena o peor que la de Steve. Si el puntuación \n",
    "promedio fue 55 con una desviación estándar de 6 puntos, ¿cuál fue el puntuación de Steve?"
   ]
  },
  {
   "cell_type": "markdown",
   "id": "8912dee0",
   "metadata": {},
   "source": [
    "Para un 92% de candidatos con puntuaciones inferior a la de steve, nos da un Zscore de 1.4005 según tabla"
   ]
  },
  {
   "cell_type": "code",
   "execution_count": 14,
   "id": "0ea79a08",
   "metadata": {},
   "outputs": [
    {
     "data": {
      "text/plain": [
       "63.403"
      ]
     },
     "execution_count": 14,
     "metadata": {},
     "output_type": "execute_result"
    }
   ],
   "source": [
    "X_steve = (1.4005*6) + 55\n",
    "X_steve"
   ]
  },
  {
   "cell_type": "markdown",
   "id": "307e5071",
   "metadata": {},
   "source": [
    "Puntuación, 63,40."
   ]
  },
  {
   "cell_type": "markdown",
   "id": "b361e77e",
   "metadata": {},
   "source": [
    "*Creado por:*\n",
    "    \n",
    "*Isabel Maniega*"
   ]
  }
 ],
 "metadata": {
  "hide_input": false,
  "kernelspec": {
   "display_name": "Python 3 (ipykernel)",
   "language": "python",
   "name": "python3"
  },
  "language_info": {
   "codemirror_mode": {
    "name": "ipython",
    "version": 3
   },
   "file_extension": ".py",
   "mimetype": "text/x-python",
   "name": "python",
   "nbconvert_exporter": "python",
   "pygments_lexer": "ipython3",
   "version": "3.10.7"
  }
 },
 "nbformat": 4,
 "nbformat_minor": 5
}
