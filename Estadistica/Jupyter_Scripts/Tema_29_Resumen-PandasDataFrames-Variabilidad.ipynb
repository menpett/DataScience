{
 "cells": [
  {
   "cell_type": "markdown",
   "id": "3521c02f",
   "metadata": {},
   "source": [
    "!pip install seaborn ## Instalado"
   ]
  },
  {
   "cell_type": "code",
   "execution_count": 2,
   "id": "94d7b0ab",
   "metadata": {},
   "outputs": [],
   "source": [
    "import pandas as pd\n",
    "import numpy as np\n",
    "\n",
    "# gráficos\n",
    "import matplotlib.pyplot as plt\n",
    "import seaborn as sns"
   ]
  },
  {
   "cell_type": "markdown",
   "id": "d743a0dd",
   "metadata": {},
   "source": [
    "# Ejemplo 1: NOTAS"
   ]
  },
  {
   "cell_type": "code",
   "execution_count": 3,
   "id": "18db68d9",
   "metadata": {},
   "outputs": [
    {
     "data": {
      "text/html": [
       "<div>\n",
       "<style scoped>\n",
       "    .dataframe tbody tr th:only-of-type {\n",
       "        vertical-align: middle;\n",
       "    }\n",
       "\n",
       "    .dataframe tbody tr th {\n",
       "        vertical-align: top;\n",
       "    }\n",
       "\n",
       "    .dataframe thead th {\n",
       "        text-align: right;\n",
       "    }\n",
       "</style>\n",
       "<table border=\"1\" class=\"dataframe\">\n",
       "  <thead>\n",
       "    <tr style=\"text-align: right;\">\n",
       "      <th></th>\n",
       "      <th>notas_1</th>\n",
       "      <th>notas_2</th>\n",
       "      <th>notas_3</th>\n",
       "    </tr>\n",
       "  </thead>\n",
       "  <tbody>\n",
       "    <tr>\n",
       "      <th>0</th>\n",
       "      <td>15</td>\n",
       "      <td>16</td>\n",
       "      <td>17</td>\n",
       "    </tr>\n",
       "    <tr>\n",
       "      <th>1</th>\n",
       "      <td>16</td>\n",
       "      <td>21</td>\n",
       "      <td>22</td>\n",
       "    </tr>\n",
       "  </tbody>\n",
       "</table>\n",
       "</div>"
      ],
      "text/plain": [
       "   notas_1  notas_2  notas_3\n",
       "0       15       16       17\n",
       "1       16       21       22"
      ]
     },
     "execution_count": 3,
     "metadata": {},
     "output_type": "execute_result"
    }
   ],
   "source": [
    "df = pd.DataFrame({\"notas_1\": [15,16,15,17,14,14,14,10,15,25], \"notas_2\": [16,21,16,16,13,15,15,19,22,15], \n",
    "                   \"notas_3\":[17,22,15,22,14,15,16,15,24,16]})\n",
    "df.head(2)"
   ]
  },
  {
   "cell_type": "markdown",
   "id": "56eccc6b",
   "metadata": {},
   "source": [
    "### Medidas de Variabilidad:"
   ]
  },
  {
   "cell_type": "code",
   "execution_count": 4,
   "id": "b9fead3a",
   "metadata": {},
   "outputs": [],
   "source": [
    "# Desviación estandar: Delta Degrees of Freedom --> ddof\n",
    "std_1 = df.notas_1.std(ddof=0)\n",
    "std_2 = df.notas_2.std(ddof=0)\n",
    "std_3 = df.notas_3.std(ddof=0)"
   ]
  },
  {
   "cell_type": "code",
   "execution_count": 5,
   "id": "0a01393e",
   "metadata": {},
   "outputs": [],
   "source": [
    "# Varianza\n",
    "varianza_1 = df.notas_1.var(ddof=0)\n",
    "varianza_2 = df.notas_2.var(ddof=0)\n",
    "varianza_3 = df.notas_3.var(ddof=0)"
   ]
  },
  {
   "cell_type": "markdown",
   "id": "66ee9245",
   "metadata": {},
   "source": [
    "### Rango intercuartílico - IQR"
   ]
  },
  {
   "cell_type": "code",
   "execution_count": 6,
   "id": "e166bb20",
   "metadata": {},
   "outputs": [],
   "source": [
    "rango_1 = df.notas_1.max() - df.notas_1.min()\n",
    "iqr_1 = df.notas_1.quantile(0.75) - df.notas_1.quantile(0.25)"
   ]
  },
  {
   "cell_type": "code",
   "execution_count": 7,
   "id": "9b532335",
   "metadata": {},
   "outputs": [],
   "source": [
    "rango_2 = df.notas_2.max() - df.notas_2.min()\n",
    "iqr_2 = df.notas_2.quantile(0.75) - df.notas_2.quantile(0.25)"
   ]
  },
  {
   "cell_type": "code",
   "execution_count": 8,
   "id": "e5b32abc",
   "metadata": {},
   "outputs": [],
   "source": [
    "rango_3 = df.notas_3.max() - df.notas_3.min()\n",
    "iqr_3 = df.notas_3.quantile(0.75) - df.notas_3.quantile(0.25)"
   ]
  },
  {
   "cell_type": "markdown",
   "id": "3c650b1a",
   "metadata": {},
   "source": [
    "### Finding Outliers"
   ]
  },
  {
   "cell_type": "code",
   "execution_count": 9,
   "id": "430418f4",
   "metadata": {},
   "outputs": [],
   "source": [
    "superiores_1 = df.notas_1.quantile(0.75) + 1.5*iqr_1\n",
    "superiores_2 = df.notas_2.quantile(0.75) + 1.5*iqr_2\n",
    "superiores_3 = df.notas_3.quantile(0.75) + 1.5*iqr_3"
   ]
  },
  {
   "cell_type": "code",
   "execution_count": 10,
   "id": "d0b991e4",
   "metadata": {},
   "outputs": [],
   "source": [
    "inferiores_1 = df.notas_1.quantile(0.25) - 1.5*iqr_1\n",
    "inferiores_2 = df.notas_2.quantile(0.25) - 1.5*iqr_2\n",
    "inferiores_3 = df.notas_3.quantile(0.25) - 1.5*iqr_3"
   ]
  },
  {
   "cell_type": "code",
   "execution_count": 13,
   "id": "fa3a407e",
   "metadata": {},
   "outputs": [
    {
     "name": "stdout",
     "output_type": "stream",
     "text": [
      "Límite de valores válidos nota_1: 11.375 - 18.375\n",
      "Límite de valores válidos nota_2: 10.125 - 23.125\n",
      "Límite de valores válidos nota_3: 6.375 - 29.375\n"
     ]
    }
   ],
   "source": [
    "print(f'Límite de valores válidos nota_1: {inferiores_1} - {superiores_1}')\n",
    "print(f'Límite de valores válidos nota_2: {inferiores_2} - {superiores_2}')\n",
    "print(f'Límite de valores válidos nota_3: {inferiores_3} - {superiores_3}')"
   ]
  },
  {
   "cell_type": "code",
   "execution_count": null,
   "id": "7fd3dae6",
   "metadata": {},
   "outputs": [],
   "source": []
  }
 ],
 "metadata": {
  "kernelspec": {
   "display_name": "Python 3 (ipykernel)",
   "language": "python",
   "name": "python3"
  },
  "language_info": {
   "codemirror_mode": {
    "name": "ipython",
    "version": 3
   },
   "file_extension": ".py",
   "mimetype": "text/x-python",
   "name": "python",
   "nbconvert_exporter": "python",
   "pygments_lexer": "ipython3",
   "version": "3.10.7"
  }
 },
 "nbformat": 4,
 "nbformat_minor": 5
}
