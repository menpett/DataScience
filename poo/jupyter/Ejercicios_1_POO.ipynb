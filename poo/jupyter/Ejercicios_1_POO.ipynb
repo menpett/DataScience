{
 "cells": [
  {
   "cell_type": "markdown",
   "id": "b4679b30",
   "metadata": {},
   "source": [
    "*Creado por:*\n",
    "\n",
    "*Isabel Maniega*"
   ]
  },
  {
   "cell_type": "markdown",
   "id": "57d3e548",
   "metadata": {},
   "source": [
    "# Ejercicios"
   ]
  },
  {
   "cell_type": "markdown",
   "id": "dd300802",
   "metadata": {},
   "source": [
    "**1)** Crea el siguiente programa:\n",
    "* Una clase de nombre Librería\n",
    "* Inicia los siguientes atributos: nombre, sección, editorial y año\n",
    "* Crea una segunda clase con nombre Rosalia que herede la clase librería.\n",
    "* En esta clase Rosalia, crea una función \"result\" cuyo resultado sea los datos de los libros.\n",
    "* declara los Objetos siguientes:\n",
    "    * libro1 --> Oceanarium, Ciencia, Impedimenta, 2021\n",
    "    * libro2 --> 33 Botones, Novela negra, Atlantis, 2022\n",
    "    * libro3 --> Venganza en Compostela, Historia, Universo de letras, 2022"
   ]
  },
  {
   "cell_type": "markdown",
   "id": "92de85b2",
   "metadata": {},
   "source": [
    "##### La resolución, según Isabel:"
   ]
  },
  {
   "cell_type": "code",
   "execution_count": 45,
   "id": "41a33f86",
   "metadata": {},
   "outputs": [],
   "source": [
    "class Libreria:\n",
    "    def __init__(self,nombre, seccion, editorial, ano):\n",
    "        self.nombre = nombre\n",
    "        self.seccion = seccion\n",
    "        self.editorial = editorial\n",
    "        self.ano = ano"
   ]
  },
  {
   "cell_type": "code",
   "execution_count": 46,
   "id": "95955842",
   "metadata": {},
   "outputs": [],
   "source": [
    "class Rosalia(Libreria):\n",
    "    def result(self):\n",
    "        print('Nombre:', self.nombre)\n",
    "        print('Sección:', self.seccion)\n",
    "        print('Editorial:', self.editorial)\n",
    "        print('Año:', self.ano)"
   ]
  },
  {
   "cell_type": "code",
   "execution_count": 47,
   "id": "097d1c02",
   "metadata": {},
   "outputs": [],
   "source": [
    "# Objetos\n",
    "libro1 = Rosalia('Oceanarium', 'Ciencia', 'Impedimenta', 2021)\n",
    "libro2 = Rosalia('33 Botones', 'Novela negra', 'Atlantis', 2022)\n",
    "libro3 = Rosalia('Venganza en Compostela', 'Historia', 'Universo de letras', 2022)"
   ]
  },
  {
   "cell_type": "code",
   "execution_count": 48,
   "id": "11ac174b",
   "metadata": {},
   "outputs": [
    {
     "name": "stdout",
     "output_type": "stream",
     "text": [
      "Nombre: Oceanarium\n",
      "Sección: Ciencia\n",
      "Editorial: Impedimenta\n",
      "Año: 2021\n"
     ]
    }
   ],
   "source": [
    "Rosalia.result(libro1)"
   ]
  },
  {
   "cell_type": "code",
   "execution_count": 49,
   "id": "a11031aa",
   "metadata": {},
   "outputs": [
    {
     "name": "stdout",
     "output_type": "stream",
     "text": [
      "Nombre: 33 Botones\n",
      "Sección: Novela negra\n",
      "Editorial: Atlantis\n",
      "Año: 2022\n"
     ]
    }
   ],
   "source": [
    "Rosalia.result(libro2)"
   ]
  },
  {
   "cell_type": "code",
   "execution_count": 50,
   "id": "07edc3a1",
   "metadata": {},
   "outputs": [
    {
     "name": "stdout",
     "output_type": "stream",
     "text": [
      "Nombre: Venganza en Compostela\n",
      "Sección: Historia\n",
      "Editorial: Universo de letras\n",
      "Año: 2022\n"
     ]
    }
   ],
   "source": [
    "Rosalia.result(libro3)"
   ]
  },
  {
   "cell_type": "code",
   "execution_count": 51,
   "id": "1c3a538d",
   "metadata": {},
   "outputs": [
    {
     "name": "stdout",
     "output_type": "stream",
     "text": [
      "Nombre: Oceanarium\n",
      "Sección: Ciencia\n",
      "Editorial: Impedimenta\n",
      "Año: 2021\n"
     ]
    }
   ],
   "source": [
    "# Otra forma de llamar:\n",
    "libro1.result()"
   ]
  },
  {
   "cell_type": "markdown",
   "id": "029260aa",
   "metadata": {},
   "source": [
    "#### Utilizando la impresión sugerida por Isabel: \n",
    "    El print arroja la representación no informativa del objeto, por tanto se utiliza vars(), para hacer la versión vista del mismo pero arroja type---> dictionary"
   ]
  },
  {
   "cell_type": "code",
   "execution_count": 21,
   "id": "9e08c165",
   "metadata": {},
   "outputs": [],
   "source": [
    "class Libreria:\n",
    "    def __init__(self,nombre, seccion, editorial, ano):\n",
    "        self.Nombre = nombre\n",
    "        self.Seccion = seccion\n",
    "        self.Editorial = editorial\n",
    "        self.ano = ano"
   ]
  },
  {
   "cell_type": "code",
   "execution_count": 22,
   "id": "b6a386cd",
   "metadata": {},
   "outputs": [],
   "source": [
    "class Rosalia(Libreria):\n",
    "    def result(self): # con la explicación del MIT\n",
    "        return \"Nombre:\"+str(self.Nombre)+\"\\n\"+\"Seccion:\"+str(self.Seccion)+\"\\n\"+\"Editorial:\"+str(self.Editorial)+\"\\n\"+\"Año:\"+str(self.ano)"
   ]
  },
  {
   "cell_type": "code",
   "execution_count": 24,
   "id": "ad497212",
   "metadata": {},
   "outputs": [],
   "source": [
    "libro1 = Rosalia('Oceanarium', 'Ciencia', 'Impedimenta', 2021)"
   ]
  },
  {
   "cell_type": "code",
   "execution_count": 25,
   "id": "2e13184d",
   "metadata": {},
   "outputs": [
    {
     "name": "stdout",
     "output_type": "stream",
     "text": [
      "Nombre:Oceanarium\n",
      "Seccion:Ciencia\n",
      "Editorial:Impedimenta\n",
      "Año:2021\n"
     ]
    }
   ],
   "source": [
    "print(libro1.result())"
   ]
  },
  {
   "cell_type": "markdown",
   "id": "66537093",
   "metadata": {},
   "source": [
    "#### Utilizando lo visto en Lec8 del MIT\n",
    "    Incluye el método __str__ para imprimir"
   ]
  },
  {
   "cell_type": "code",
   "execution_count": 14,
   "id": "3bd667ac",
   "metadata": {},
   "outputs": [],
   "source": [
    "class Libreria:\n",
    "    def __init__(self,nombre, seccion, editorial, ano):\n",
    "        self.Nombre = nombre\n",
    "        self.Seccion = seccion\n",
    "        self.Editorial = editorial\n",
    "        self.ano = ano\n",
    "    def __str__(self):\n",
    "        return \"<\"+str(self.Nombre)+\",\"+str(self.Seccion)+\",\"+str(self.Editorial)+\",\"+str(self.ano)+\">\""
   ]
  },
  {
   "cell_type": "code",
   "execution_count": 15,
   "id": "11401cfb",
   "metadata": {},
   "outputs": [],
   "source": [
    "libro1 = Libreria('Oceanarium', 'Ciencia', 'Impedimenta', 2021)\n",
    "libro2 = Libreria('33 Botones', 'Novela negra', 'Atlantis', 2022)\n",
    "libro3 = Libreria('Venganza en Compostela', 'Historia', 'Universo de letras', 2022)"
   ]
  },
  {
   "cell_type": "code",
   "execution_count": 16,
   "id": "2b6fa422",
   "metadata": {},
   "outputs": [
    {
     "name": "stdout",
     "output_type": "stream",
     "text": [
      "<Oceanarium,Ciencia,Impedimenta,2021>\n"
     ]
    }
   ],
   "source": [
    "print(libro1)"
   ]
  },
  {
   "cell_type": "markdown",
   "id": "839ac91e",
   "metadata": {},
   "source": [
    "**2)** Crea otra libraría de nombre MiLibro, que corresponde a una nueva clase, define una función de nombre misLibros, cuyo resultado sea los datos de los libros:\n",
    "* libro4 --> Mi primera Novela, Novela, Bruño, 2019\n",
    "* libro5 --> Gatos, Literatura, Listado, 2018"
   ]
  },
  {
   "cell_type": "code",
   "execution_count": 54,
   "id": "b14ede6c",
   "metadata": {},
   "outputs": [],
   "source": [
    "class MiLibro(Libreria):\n",
    "    def misLibros(self):\n",
    "        print('Nombre:', self.nombre)\n",
    "        print('Sección:', self.seccion)\n",
    "        print('Editorial:', self.editorial)\n",
    "        print('Año:', self.ano)        "
   ]
  },
  {
   "cell_type": "code",
   "execution_count": 57,
   "id": "b7a83e6e",
   "metadata": {},
   "outputs": [],
   "source": [
    "libro4 = MiLibro('Mi primera Novela', 'Novela', 'Bruño', 2019)\n",
    "libro5 = MiLibro('Gatos', 'Literatura', 'Listado', 2018)"
   ]
  },
  {
   "cell_type": "markdown",
   "id": "9a6e14fa",
   "metadata": {},
   "source": [
    "* Realiza la media de los años de los libros 4 y 5"
   ]
  },
  {
   "cell_type": "code",
   "execution_count": 61,
   "id": "cd1f37a0",
   "metadata": {},
   "outputs": [
    {
     "data": {
      "text/plain": [
       "2018.5"
      ]
     },
     "execution_count": 61,
     "metadata": {},
     "output_type": "execute_result"
    }
   ],
   "source": [
    "media = (libro4.ano + libro5.ano)/2\n",
    "media"
   ]
  },
  {
   "cell_type": "markdown",
   "id": "59ecc045",
   "metadata": {},
   "source": [
    "**3)** Crea una clase llamada Persona. Sus atributos son: nombre, edad y DNI. Construye los siguientes métodos para la clase:\n",
    "\n",
    "* Un constructor, donde los datos pueden estar vacíos.\n",
    "* mostrar(): Muestra los datos de la persona.\n",
    "* esMayorDeEdad(): Devuelve un valor indicando si es mayor de edad."
   ]
  },
  {
   "cell_type": "code",
   "execution_count": 65,
   "id": "0635d2bb",
   "metadata": {},
   "outputs": [],
   "source": [
    "class Persona:\n",
    "    mayor = 18\n",
    "    def __init__(self, nombre, edad, DNI):\n",
    "        self.nombre = nombre\n",
    "        self.edad = edad\n",
    "        self.DNI = DNI\n",
    "        \n",
    "    def mostrar(self):\n",
    "        print('Nombre:',self.nombre)\n",
    "        print('Edad:',self.edad)\n",
    "        print('DNI:',self.DNI)\n",
    "        \n",
    "    def esMayorDeEdad(self):\n",
    "        if self.edad > 18:\n",
    "            print('Es mayor de edad de', Persona.mayor) \n",
    "        else:\n",
    "            print('Es menor de edad')\n",
    "        "
   ]
  },
  {
   "cell_type": "code",
   "execution_count": 71,
   "id": "8bf858d0",
   "metadata": {},
   "outputs": [],
   "source": [
    "persona1 = Persona('Ana', 28, '777777k')\n",
    "persona2 = Persona('Pedro', 12, '888888Y')"
   ]
  },
  {
   "cell_type": "code",
   "execution_count": 72,
   "id": "295038bc",
   "metadata": {},
   "outputs": [
    {
     "name": "stdout",
     "output_type": "stream",
     "text": [
      "Nombre: Ana\n",
      "Edad: 28\n",
      "DNI: 777777k\n"
     ]
    }
   ],
   "source": [
    "persona1.mostrar()"
   ]
  },
  {
   "cell_type": "code",
   "execution_count": 73,
   "id": "5bd8a70f",
   "metadata": {},
   "outputs": [
    {
     "name": "stdout",
     "output_type": "stream",
     "text": [
      "Es mayor de edad de 18\n"
     ]
    }
   ],
   "source": [
    "persona1.esMayorDeEdad()"
   ]
  },
  {
   "cell_type": "code",
   "execution_count": 74,
   "id": "73573b7f",
   "metadata": {},
   "outputs": [
    {
     "name": "stdout",
     "output_type": "stream",
     "text": [
      "Nombre: Pedro\n",
      "Edad: 12\n",
      "DNI: 888888Y\n"
     ]
    }
   ],
   "source": [
    "persona2.mostrar()"
   ]
  },
  {
   "cell_type": "code",
   "execution_count": 75,
   "id": "2f728355",
   "metadata": {},
   "outputs": [
    {
     "name": "stdout",
     "output_type": "stream",
     "text": [
      "Es menor de edad\n"
     ]
    }
   ],
   "source": [
    "persona2.esMayorDeEdad()"
   ]
  },
  {
   "cell_type": "markdown",
   "id": "d3788c2c",
   "metadata": {},
   "source": [
    "**4)** Crea una clase llamada Cuenta que tendrá los siguientes atributos: titular (que es una persona) y cantidad (puede tener decimales). Construye los siguientes métodos para la clase:\n",
    "\n",
    "* Un constructor, donde los datos pueden estar vacíos.\n",
    "* El atributo no se puede modificar directamente, sólo ingresando o retirando dinero.\n",
    "* mostrar(): Muestra los datos de la cuenta.\n",
    "* ingresar(cantidad): se ingresa una cantidad a la cuenta, si la cantidad introducida es negativa, no se hará nada.\n",
    "* retirar(cantidad): se retira una cantidad a la cuenta. La cuenta puede estar en números rojos si es saldo negativo."
   ]
  },
  {
   "cell_type": "code",
   "execution_count": 102,
   "id": "f1b69caf",
   "metadata": {},
   "outputs": [],
   "source": [
    "class Cuenta:\n",
    "    \n",
    "    def __init__(self, cantidad):\n",
    "        self.titular = ''\n",
    "        self.saldo = cantidad\n",
    "        \n",
    "    def __str__(self):\n",
    "        return 'Titular: ' + str(self.titular) + '\\n' + 'Saldo: ' + str(self.saldo)\n",
    "        \n",
    "    def ingresar(self, titular, cantidad):\n",
    "        self.titular = titular\n",
    "        self.saldo  = self.saldo + cantidad \n",
    "        if self.saldo > 0:\n",
    "            pass\n",
    "        else:\n",
    "            print('Revisar la cantidad indicada')        \n",
    "    \n",
    "    def retirar(self, titular, cantidad):\n",
    "        self.titular = titular\n",
    "        self.saldo = self.saldo - cantidad\n",
    "        if self.saldo >= 0 :\n",
    "            pass\n",
    "        else: \n",
    "            print('La cuenta puede estar en números rojos si es saldo negativo')  "
   ]
  },
  {
   "cell_type": "markdown",
   "id": "37fb9d43",
   "metadata": {},
   "source": [
    "* Ingresar en positivo"
   ]
  },
  {
   "cell_type": "code",
   "execution_count": 103,
   "id": "2d0446aa",
   "metadata": {},
   "outputs": [],
   "source": [
    "cuenta1 = Cuenta(22000)"
   ]
  },
  {
   "cell_type": "code",
   "execution_count": 104,
   "id": "4dc091a2",
   "metadata": {},
   "outputs": [],
   "source": [
    "cuenta1.ingresar('María', 25000)"
   ]
  },
  {
   "cell_type": "markdown",
   "id": "529f6eed",
   "metadata": {},
   "source": [
    "* Ingresar en negativo"
   ]
  },
  {
   "cell_type": "code",
   "execution_count": 105,
   "id": "73d1f122",
   "metadata": {},
   "outputs": [],
   "source": [
    "cuenta3 = Cuenta(30000)"
   ]
  },
  {
   "cell_type": "code",
   "execution_count": 106,
   "id": "1f398197",
   "metadata": {},
   "outputs": [
    {
     "name": "stdout",
     "output_type": "stream",
     "text": [
      "Titular: \n",
      "Saldo: 30000\n"
     ]
    }
   ],
   "source": [
    "print(cuenta3)"
   ]
  },
  {
   "cell_type": "code",
   "execution_count": 107,
   "id": "b06ba3ba",
   "metadata": {},
   "outputs": [],
   "source": [
    "cuenta3.ingresar('Pedro',-3000)"
   ]
  },
  {
   "cell_type": "code",
   "execution_count": 108,
   "id": "ea489a07",
   "metadata": {},
   "outputs": [
    {
     "name": "stdout",
     "output_type": "stream",
     "text": [
      "Titular: Pedro\n",
      "Saldo: 27000\n"
     ]
    }
   ],
   "source": [
    "print(cuenta3)"
   ]
  },
  {
   "cell_type": "markdown",
   "id": "ae7ed299",
   "metadata": {},
   "source": [
    "* Retirar dinero\n",
    "\n",
    "* Retirar dinero en numeros rojos"
   ]
  },
  {
   "cell_type": "code",
   "execution_count": 123,
   "id": "e92760bb",
   "metadata": {},
   "outputs": [],
   "source": [
    "cuenta2 = Cuenta(23000)"
   ]
  },
  {
   "cell_type": "code",
   "execution_count": 124,
   "id": "ab82a668",
   "metadata": {},
   "outputs": [
    {
     "name": "stdout",
     "output_type": "stream",
     "text": [
      "Titular: \n",
      "Saldo: 23000\n"
     ]
    }
   ],
   "source": [
    "print(cuenta2)"
   ]
  },
  {
   "cell_type": "code",
   "execution_count": 125,
   "id": "f2f1aa09",
   "metadata": {},
   "outputs": [
    {
     "name": "stdout",
     "output_type": "stream",
     "text": [
      "La cuenta puede estar en números rojos si es saldo negativo\n"
     ]
    }
   ],
   "source": [
    "cuenta2.retirar('Pedro', 25000)"
   ]
  },
  {
   "cell_type": "code",
   "execution_count": 126,
   "id": "4b92a547",
   "metadata": {},
   "outputs": [
    {
     "data": {
      "text/plain": [
       "-2000"
      ]
     },
     "execution_count": 126,
     "metadata": {},
     "output_type": "execute_result"
    }
   ],
   "source": [
    "cuenta2.saldo"
   ]
  },
  {
   "cell_type": "code",
   "execution_count": 127,
   "id": "618a2b45",
   "metadata": {},
   "outputs": [],
   "source": [
    "cuenta2.ingresar('Pedro', 35000)"
   ]
  },
  {
   "cell_type": "code",
   "execution_count": 128,
   "id": "69aa4693",
   "metadata": {},
   "outputs": [
    {
     "data": {
      "text/plain": [
       "33000"
      ]
     },
     "execution_count": 128,
     "metadata": {},
     "output_type": "execute_result"
    }
   ],
   "source": [
    "cuenta2.saldo"
   ]
  },
  {
   "cell_type": "code",
   "execution_count": 129,
   "id": "2dcef4fb",
   "metadata": {},
   "outputs": [
    {
     "name": "stdout",
     "output_type": "stream",
     "text": [
      "La cuenta puede estar en números rojos si es saldo negativo\n"
     ]
    }
   ],
   "source": [
    "cuenta2.retirar('Pedro', 35000)"
   ]
  },
  {
   "cell_type": "code",
   "execution_count": 130,
   "id": "808c5c70",
   "metadata": {},
   "outputs": [
    {
     "name": "stdout",
     "output_type": "stream",
     "text": [
      "Titular: Pedro\n",
      "Saldo: -2000\n"
     ]
    }
   ],
   "source": [
    "print(cuenta2)"
   ]
  },
  {
   "cell_type": "markdown",
   "id": "eab30154",
   "metadata": {},
   "source": [
    "**5)** Vamos a definir ahora una “Cuenta Joven”, para ello vamos a crear una nueva clase CuantaJoven que deriva de la anterior. Cuando se crea esta nueva clase, además del titular y la cantidad se debe guardar una bonificación que estará expresada en tanto por ciento.Construye los siguientes métodos para la clase:\n",
    "\n",
    "* Un constructor.\n",
    "* En esta ocasión los titulares de este tipo de cuenta tienen que ser mayor de edad., por lo tanto hay que crear un método esTitularValido() que devuelve verdadero si el titular es mayor de edad pero menor de 25 años y falso en caso contrario.\n",
    "* Además la retirada de dinero sólo se podrá hacer si el titular es válido.\n",
    "* El método mostrar() debe devolver el mensaje de “Cuenta Joven” y la bonificación de la cuenta.\n",
    "* Piensa los métodos heredados de la clase madre que hay que reescribir."
   ]
  },
  {
   "cell_type": "code",
   "execution_count": 215,
   "id": "fb3ebeec",
   "metadata": {},
   "outputs": [],
   "source": [
    "class Cuenta_Joven(Cuenta):\n",
    "    def __init__(self, cantidad, bonificacion):\n",
    "        Cuenta.__init__(self, cantidad)\n",
    "        self.bonificacion = bonificacion\n",
    "        self.edad = ''\n",
    "    \n",
    "    def esTitularValido(self, edad):\n",
    "        self.edad = edad\n",
    "        return edad in range(18,26)\n",
    "    \n",
    "    def retirar(self, titular, cantidad):\n",
    "        self.titular = titular\n",
    "        validez = Cuenta_Joven.esTitularValido(self,self.edad)\n",
    "        if (self.saldo >= 0) and (validez==True):\n",
    "            self.saldo = self.saldo - cantidad\n",
    "        else: \n",
    "            print('La cuenta puede estar en números rojos si es saldo negativo')          \n",
    "        \n",
    "    def __str__(self):\n",
    "        print('<--- Cuenta Joven --->')\n",
    "        print('\\n')\n",
    "        return 'Titular: ' + str(self.titular) + '\\n' + 'Saldo: ' + str(self.saldo)+ '\\n' + 'Bonificación: ' + str(self.bonificacion) + '%'"
   ]
  },
  {
   "cell_type": "code",
   "execution_count": 216,
   "id": "3e9730a6",
   "metadata": {},
   "outputs": [],
   "source": [
    "cuentaJ1 = Cuenta_Joven(22000,3)"
   ]
  },
  {
   "cell_type": "code",
   "execution_count": 217,
   "id": "14a0ca00",
   "metadata": {},
   "outputs": [
    {
     "name": "stdout",
     "output_type": "stream",
     "text": [
      "<--- Cuenta Joven --->\n",
      "\n",
      "\n",
      "Titular: \n",
      "Saldo: 22000\n",
      "Bonificación: 3%\n"
     ]
    }
   ],
   "source": [
    "print(cuentaJ1)"
   ]
  },
  {
   "cell_type": "markdown",
   "id": "aea43be0",
   "metadata": {},
   "source": [
    "* Mayor de edad"
   ]
  },
  {
   "cell_type": "code",
   "execution_count": 218,
   "id": "30506ed8",
   "metadata": {},
   "outputs": [
    {
     "data": {
      "text/plain": [
       "True"
      ]
     },
     "execution_count": 218,
     "metadata": {},
     "output_type": "execute_result"
    }
   ],
   "source": [
    "cuentaJ1.esTitularValido(23)"
   ]
  },
  {
   "cell_type": "code",
   "execution_count": 219,
   "id": "a4c9c165",
   "metadata": {},
   "outputs": [
    {
     "data": {
      "text/plain": [
       "23"
      ]
     },
     "execution_count": 219,
     "metadata": {},
     "output_type": "execute_result"
    }
   ],
   "source": [
    "cuentaJ1.edad"
   ]
  },
  {
   "cell_type": "code",
   "execution_count": 220,
   "id": "3a995d2b",
   "metadata": {},
   "outputs": [],
   "source": [
    "cuentaJ1.retirar('María', 5000)"
   ]
  },
  {
   "cell_type": "code",
   "execution_count": 221,
   "id": "fb371d63",
   "metadata": {},
   "outputs": [
    {
     "name": "stdout",
     "output_type": "stream",
     "text": [
      "<--- Cuenta Joven --->\n",
      "\n",
      "\n",
      "Titular: María\n",
      "Saldo: 17000\n",
      "Bonificación: 3%\n"
     ]
    }
   ],
   "source": [
    "print(cuentaJ1)"
   ]
  },
  {
   "cell_type": "markdown",
   "id": "e8047328",
   "metadata": {},
   "source": [
    "* Menor de edad"
   ]
  },
  {
   "cell_type": "code",
   "execution_count": null,
   "id": "a243de3e",
   "metadata": {},
   "outputs": [],
   "source": []
  },
  {
   "cell_type": "code",
   "execution_count": null,
   "id": "e9df5156",
   "metadata": {},
   "outputs": [],
   "source": []
  },
  {
   "cell_type": "markdown",
   "id": "0ec140b2",
   "metadata": {},
   "source": [
    "*Creado por:*\n",
    "\n",
    "*Isabel Maniega*"
   ]
  }
 ],
 "metadata": {
  "kernelspec": {
   "display_name": "Python 3 (ipykernel)",
   "language": "python",
   "name": "python3"
  },
  "language_info": {
   "codemirror_mode": {
    "name": "ipython",
    "version": 3
   },
   "file_extension": ".py",
   "mimetype": "text/x-python",
   "name": "python",
   "nbconvert_exporter": "python",
   "pygments_lexer": "ipython3",
   "version": "3.10.7"
  }
 },
 "nbformat": 4,
 "nbformat_minor": 5
}
