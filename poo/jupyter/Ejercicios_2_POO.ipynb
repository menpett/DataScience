{
 "cells": [
  {
   "cell_type": "markdown",
   "id": "a26e304d",
   "metadata": {},
   "source": [
    "*Creado por:*\n",
    "    \n",
    "*Isabel Maniega*"
   ]
  },
  {
   "cell_type": "markdown",
   "id": "4ffc33ab",
   "metadata": {},
   "source": [
    "# Ejercicios\n",
    "\n",
    "**1)** Crearemos un nuevo tipo llamado NumeroComplejo. Este tipo tiene un atributo x para la coordenada en x e y para la coordenada en y. Representa un número complejo de la forma (x, y).\n",
    "\n",
    "**2)** Ahora defina dentro de la clase NumeroComplejo un función imprimir donde muestre los valores de x e y.\n",
    "\n",
    "**3)** Define la función __str__ para la clase NumeroComplejo para poder imprimir usando la función print.\n",
    "\n",
    "**4)** definie una función que compara dos números complejos, ya que si dos objetos distintos tienen sus atributos iguales, no se consideran iguales.\n",
    "\n",
    "**5)** Realiza un método que sume dos numeros complejos sin modificiar los objetos originales, ya que se retorna un nuevo numero NumeroComplejo.\n",
    "\n",
    "**6)** Crea una clase persona. Sus atributos deben ser su nombre y su edad. Además crea un método cumpleaños, que aumente en 1 la edad de la persona.\n",
    "\n",
    "**7)** Para la clase anterior definir el método __str__. Debe retornar al menos el nombre de la persona.\n",
    "\n",
    "**8)** Extender la clase persona agregando un atributo saldo y un método transferencia(self, persona2, monto). El saldo representa el dinero que tiene la persona. El método transferencia hace que la Persona que llama el método le transfiera la cantidad monto al objeto persona2. Si no tiene el dinero suficiente no se ejecuta la acción."
   ]
  },
  {
   "cell_type": "code",
   "execution_count": 47,
   "id": "1cee294d",
   "metadata": {},
   "outputs": [],
   "source": [
    "class NumeroComplejo:\n",
    "    def __init__(self, x, y):\n",
    "        self.x = x\n",
    "        self.y = y\n",
    "    \n",
    "    def imprimir(self):\n",
    "        print(f'La función mostrar arroja: ({self.x},{self.y})')\n",
    "    \n",
    "    def comparar(self, other):                                              \n",
    "        if self.x == other.x and self.y == other.y:\n",
    "            print('No iguales')\n",
    "        else:\n",
    "            print('Iguales')\n",
    "    def suma(self, other):\n",
    "        real = self.x + other.x\n",
    "        imag = self.y + other.y\n",
    "        return '(' + str(real) + ',' + str(imag) + ')'\n",
    "    \n",
    "    def __str__(self):\n",
    "        return '(' + str(self.x) + ',' + str(self.y) + ')'"
   ]
  },
  {
   "cell_type": "code",
   "execution_count": 48,
   "id": "73742f4b",
   "metadata": {},
   "outputs": [],
   "source": [
    "NumeroComplejo1 = NumeroComplejo(5,12)"
   ]
  },
  {
   "cell_type": "code",
   "execution_count": 49,
   "id": "11c772f9",
   "metadata": {},
   "outputs": [
    {
     "name": "stdout",
     "output_type": "stream",
     "text": [
      "(5,12)\n"
     ]
    }
   ],
   "source": [
    "print(NumeroComplejo1)"
   ]
  },
  {
   "cell_type": "code",
   "execution_count": 50,
   "id": "eac381bb",
   "metadata": {},
   "outputs": [
    {
     "name": "stdout",
     "output_type": "stream",
     "text": [
      "La función mostrar arroja: (5,12)\n"
     ]
    }
   ],
   "source": [
    "NumeroComplejo1.imprimir()"
   ]
  },
  {
   "cell_type": "code",
   "execution_count": 51,
   "id": "32249126",
   "metadata": {},
   "outputs": [],
   "source": [
    "NumeroComplejo2 = NumeroComplejo(2,12)"
   ]
  },
  {
   "cell_type": "code",
   "execution_count": 52,
   "id": "69e45b85",
   "metadata": {},
   "outputs": [
    {
     "name": "stdout",
     "output_type": "stream",
     "text": [
      "Iguales\n"
     ]
    }
   ],
   "source": [
    "NumeroComplejo1.comparar(NumeroComplejo2)"
   ]
  },
  {
   "cell_type": "code",
   "execution_count": 53,
   "id": "e9c533ee",
   "metadata": {},
   "outputs": [
    {
     "data": {
      "text/plain": [
       "'(7,24)'"
      ]
     },
     "execution_count": 53,
     "metadata": {},
     "output_type": "execute_result"
    }
   ],
   "source": [
    "NumeroComplejo1.suma(NumeroComplejo2)"
   ]
  },
  {
   "cell_type": "code",
   "execution_count": 55,
   "id": "e26dc7e4",
   "metadata": {},
   "outputs": [],
   "source": [
    "class Persona:\n",
    "    def __init__(self, nombre, edad):\n",
    "        self.nombre = nombre\n",
    "        self.edad = edad\n",
    "    def cumpleanos(self):\n",
    "        self.edad = self.edad + 1\n",
    "    def __str__(self):\n",
    "        return \"Nombre:\"+str(self.nombre)+\"\\n\"+\"Edad:\"+str(self.edad)"
   ]
  },
  {
   "cell_type": "code",
   "execution_count": 59,
   "id": "5107b304",
   "metadata": {},
   "outputs": [
    {
     "name": "stdout",
     "output_type": "stream",
     "text": [
      "Nombre:María\n",
      "Edad:23\n"
     ]
    }
   ],
   "source": [
    "persona1 = Persona('María',23)\n",
    "print(persona1)"
   ]
  },
  {
   "cell_type": "code",
   "execution_count": 61,
   "id": "72c0bc0f",
   "metadata": {},
   "outputs": [],
   "source": [
    "persona1.cumpleanos()"
   ]
  },
  {
   "cell_type": "code",
   "execution_count": 62,
   "id": "5c97a14c",
   "metadata": {},
   "outputs": [
    {
     "name": "stdout",
     "output_type": "stream",
     "text": [
      "Nombre:María\n",
      "Edad:24\n"
     ]
    }
   ],
   "source": [
    "print(persona1)"
   ]
  },
  {
   "cell_type": "code",
   "execution_count": 58,
   "id": "fa63d756",
   "metadata": {},
   "outputs": [],
   "source": [
    "class Persona_1:\n",
    "    def __init__(self, nombre, edad, saldo):\n",
    "        self.nombre = nombre\n",
    "        self.edad = edad\n",
    "        self.saldo = saldo\n",
    "    def cumpleanos(self):\n",
    "        self.edad = self.edad + 1\n",
    "        \n",
    "    def transferencia(self, persona2, monto):\n",
    "        if self.saldo >= monto:\n",
    "            self.saldo = self.saldo - monto\n",
    "            persona2.saldo = persona2.saldo + monto\n",
    "            print(f'Transferencia realizada con exito a {persona2.nombre}: \\n Su saldo actual es: {self.saldo}')\n",
    "        else:\n",
    "            print('Saldo insuficiente')    \n",
    "    def __str__(self):\n",
    "        return \"Nombre:\"+str(self.nombre)+\"\\n\"+\"Edad:\"+str(self.edad)+\"\\n\"+\"Saldo:\"+str(self.saldo)"
   ]
  },
  {
   "cell_type": "code",
   "execution_count": 60,
   "id": "9dbfde8c",
   "metadata": {},
   "outputs": [
    {
     "name": "stdout",
     "output_type": "stream",
     "text": [
      "Nombre:Pedro\n",
      "Edad:23\n",
      "Saldo:23000\n"
     ]
    }
   ],
   "source": [
    "persona2 = Persona_1('Pedro',23,23000)\n",
    "print(persona2)"
   ]
  },
  {
   "cell_type": "code",
   "execution_count": 63,
   "id": "89e5dfe5",
   "metadata": {},
   "outputs": [
    {
     "name": "stdout",
     "output_type": "stream",
     "text": [
      "Nombre:Pablo\n",
      "Edad:32\n",
      "Saldo:45000\n"
     ]
    }
   ],
   "source": [
    "persona3 = Persona_1('Pablo',32,45000)\n",
    "print(persona3)"
   ]
  },
  {
   "cell_type": "code",
   "execution_count": 64,
   "id": "ac7d536e",
   "metadata": {},
   "outputs": [
    {
     "name": "stdout",
     "output_type": "stream",
     "text": [
      "Transferencia realizada con exito a Pablo: \n",
      " Su saldo actual es: 16000\n"
     ]
    }
   ],
   "source": [
    "persona2.transferencia(persona3,7000)"
   ]
  },
  {
   "cell_type": "code",
   "execution_count": 65,
   "id": "7d332cfa",
   "metadata": {},
   "outputs": [
    {
     "name": "stdout",
     "output_type": "stream",
     "text": [
      "Nombre:Pedro\n",
      "Edad:23\n",
      "Saldo:16000\n"
     ]
    }
   ],
   "source": [
    "print(persona2)"
   ]
  },
  {
   "cell_type": "code",
   "execution_count": 66,
   "id": "053545bb",
   "metadata": {},
   "outputs": [
    {
     "name": "stdout",
     "output_type": "stream",
     "text": [
      "Nombre:Pablo\n",
      "Edad:32\n",
      "Saldo:52000\n"
     ]
    }
   ],
   "source": [
    "print(persona3)"
   ]
  },
  {
   "cell_type": "markdown",
   "id": "515463c6",
   "metadata": {},
   "source": [
    "*Creado por:*\n",
    "\n",
    "*Isabel Maniega*"
   ]
  }
 ],
 "metadata": {
  "kernelspec": {
   "display_name": "Python 3 (ipykernel)",
   "language": "python",
   "name": "python3"
  },
  "language_info": {
   "codemirror_mode": {
    "name": "ipython",
    "version": 3
   },
   "file_extension": ".py",
   "mimetype": "text/x-python",
   "name": "python",
   "nbconvert_exporter": "python",
   "pygments_lexer": "ipython3",
   "version": "3.10.6"
  }
 },
 "nbformat": 4,
 "nbformat_minor": 5
}
