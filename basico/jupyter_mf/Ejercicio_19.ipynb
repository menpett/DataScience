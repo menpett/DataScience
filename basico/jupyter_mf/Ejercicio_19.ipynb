{
 "cells": [
  {
   "cell_type": "markdown",
   "id": "f2267a6b",
   "metadata": {},
   "source": [
    "# Ejercicio 1\n",
    "\n",
    "    Definir una función inversa() que calcule la inversion de una cadena. \n",
    "    Por ejemplo la cadena \"estoy probando\" debería devolver la cadena \"odnaborp yotse\".\n"
   ]
  },
  {
   "cell_type": "code",
   "execution_count": 3,
   "id": "89a2af7b",
   "metadata": {},
   "outputs": [],
   "source": [
    "def inversa(x):\n",
    "    x1 =[]\n",
    "    for i,j in enumerate(x):\n",
    "        x1.append(x[-1-i])\n",
    "    return ''.join(x1)\n",
    "    "
   ]
  },
  {
   "cell_type": "code",
   "execution_count": 4,
   "id": "992a9dec",
   "metadata": {},
   "outputs": [
    {
     "data": {
      "text/plain": [
       "'odnaborp yotse'"
      ]
     },
     "execution_count": 4,
     "metadata": {},
     "output_type": "execute_result"
    }
   ],
   "source": [
    "inversa(\"estoy probando\")"
   ]
  },
  {
   "cell_type": "markdown",
   "id": "ffb0ff67",
   "metadata": {},
   "source": [
    "# Ejercicio 2\n",
    "\n",
    "    Definir una funcion es_palindromo() que reconoce palindromo \n",
    "    palabras  que tiene el mismo aspecto escritas invertidas), ejemplo: es_palindromo(\"radar\")\n",
    "    tendría que devolver True."
   ]
  },
  {
   "cell_type": "code",
   "execution_count": 5,
   "id": "b5198c1c",
   "metadata": {},
   "outputs": [],
   "source": [
    "def es_palindromo(x):\n",
    "        if x == x[::-1]:\n",
    "            return 'Es palindromo'\n",
    "        else:\n",
    "            return 'NO es palindromo'"
   ]
  },
  {
   "cell_type": "code",
   "execution_count": 8,
   "id": "f6c8dcbd",
   "metadata": {},
   "outputs": [
    {
     "data": {
      "text/plain": [
       "'NO es palindromo'"
      ]
     },
     "execution_count": 8,
     "metadata": {},
     "output_type": "execute_result"
    }
   ],
   "source": [
    "es_palindromo(\"rAdar\")"
   ]
  },
  {
   "cell_type": "markdown",
   "id": "e01474f0",
   "metadata": {},
   "source": [
    "# Ejercicio 3\n",
    "\n",
    "    Definir una funcion superposicion() que tome dos listas y devuelva True si tiene al\n",
    "    menos 1 elemento en común o devuelva False en caso contrario. Escribe la función usando el bucle for aninado."
   ]
  },
  {
   "cell_type": "code",
   "execution_count": 15,
   "id": "1453eee1",
   "metadata": {},
   "outputs": [],
   "source": [
    "def superposicion(x1,x2):\n",
    "    for i in x1:\n",
    "        if i in x2:\n",
    "            return True\n",
    "    return False\n",
    "        "
   ]
  },
  {
   "cell_type": "code",
   "execution_count": 16,
   "id": "24c5c1b2",
   "metadata": {},
   "outputs": [
    {
     "data": {
      "text/plain": [
       "False"
      ]
     },
     "execution_count": 16,
     "metadata": {},
     "output_type": "execute_result"
    }
   ],
   "source": [
    "superposicion([1,2,3,4],[5,6,7,8])"
   ]
  },
  {
   "cell_type": "code",
   "execution_count": null,
   "id": "e5eaf722",
   "metadata": {},
   "outputs": [],
   "source": []
  }
 ],
 "metadata": {
  "kernelspec": {
   "display_name": "Python 3 (ipykernel)",
   "language": "python",
   "name": "python3"
  },
  "language_info": {
   "codemirror_mode": {
    "name": "ipython",
    "version": 3
   },
   "file_extension": ".py",
   "mimetype": "text/x-python",
   "name": "python",
   "nbconvert_exporter": "python",
   "pygments_lexer": "ipython3",
   "version": "3.10.6"
  }
 },
 "nbformat": 4,
 "nbformat_minor": 5
}
