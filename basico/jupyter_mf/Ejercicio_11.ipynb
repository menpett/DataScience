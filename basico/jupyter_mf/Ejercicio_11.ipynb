{
 "cells": [
  {
   "cell_type": "markdown",
   "id": "f6e6db42",
   "metadata": {},
   "source": [
    "### Importar las librerías"
   ]
  },
  {
   "cell_type": "code",
   "execution_count": 46,
   "id": "164d6c16",
   "metadata": {},
   "outputs": [],
   "source": [
    "import pandas as pd\n",
    "\n",
    "import matplotlib.pyplot as plt"
   ]
  },
  {
   "cell_type": "markdown",
   "id": "d290fc01",
   "metadata": {},
   "source": [
    "# EJERCICIO 1\n",
    "\n",
    "    Escribe el código necesario en Python para:\n",
    "    \n",
    "    almacenar con una lista de nombre \"clientes\" los siguientes nombres:\n",
    "    \n",
    "    \"Ana Pérez\", \"Juan García\", \"Andres Álvarez\", \"Luis Ramos\", \"Pedro Cadenas\",\"Estefanía Miguélez\", \"Alberto Delgado\", \"Susana Castro\", \"Luis González\"\n",
    "\n",
    "    1) Para ese listado de clientes imprime todos ellos, 1 a 1\n",
    "\n",
    "    2) Dentro de ese grupo de clientes..\n",
    "    se pide buscar..al cliente de nombre: \"Juan García\" si es posible\n",
    "    Si lo encuentra, debería imprimir un mensaje tal que así:\n",
    "    \"el cliente -nombre del cliente- se encuentra en mi Base de Datos de Clientes\"\n",
    "    Si no se le encuentra, debería salir un mensaje tal que así:\n",
    "    \"el cliente -nombre del cliente- NO se encuentra en mi Base de Datos de Clientes\"\n",
    "    Nota: Comprueba en el caso de llevar o no acento\n",
    "    Para:\n",
    "    Juan García\n",
    "    Juan Garcia\n",
    "    Ojo con la tilde..\n",
    "\n",
    "    3) Crea un DataFrame, de nombre df\n",
    "    con esa información en base a la siguiente relación de clientes y tarifas contratadas (€)\n",
    "        clientes: Ana Pérez, Juan García, Andrés Álvarez, Luis Ramos, Pedro Cadenas,Estefanía Miguélez, Alberto Delgado, Susana Castro, Luis González\n",
    "        tarifas: 40,50,50,35,45,50,60,50,45\n",
    "\n",
    "    4) Imprime las primeras 5 filas del DataFrame de 2 formas distintas\n",
    "\n",
    "\n",
    "    5) De ese DataFrame, selecciona solamente la columna \"tarifas\" e imprímela\n",
    "        (con 1 forma es suficiente, pero si sabes 2 mejor)\n",
    "\n",
    "    6) Descomenta las siguientes líneas (algunos trucos y cosas útiles).\n",
    "        Ponlo en formato función!!\n",
    "\n",
    "        df.tarifas.value_counts()\n",
    "\n",
    "        df.tarifas.value_counts().plot(kind=\"bar\")\n",
    "        plt.show()\n",
    "\n",
    "        df.tarifas.plot(kind=\"bar\")\n",
    "        plt.show\n",
    "\n",
    "        print(df)\n",
    "\n",
    "    7) De ese DataFrame, selecciona solamente aquellos clientes con tarifa superior a 50 euros (50 no incluído)\n"
   ]
  },
  {
   "cell_type": "code",
   "execution_count": 2,
   "id": "8dbeb3ec",
   "metadata": {},
   "outputs": [
    {
     "data": {
      "text/plain": [
       "['Ana Pérez',\n",
       " 'Juan García',\n",
       " 'Andres Álvarez',\n",
       " 'Luis Ramos',\n",
       " 'Pedro Cadenas',\n",
       " 'Estefanía Miguélez',\n",
       " 'Alberto Delgado',\n",
       " 'Susana Castro',\n",
       " 'Luis González']"
      ]
     },
     "execution_count": 2,
     "metadata": {},
     "output_type": "execute_result"
    }
   ],
   "source": [
    "clientes = [\"Ana Pérez\", \"Juan García\", \"Andres Álvarez\", \"Luis Ramos\", \"Pedro Cadenas\",\"Estefanía Miguélez\", \"Alberto Delgado\", \"Susana Castro\", \"Luis González\"]\n",
    "clientes   "
   ]
  },
  {
   "cell_type": "code",
   "execution_count": 3,
   "id": "e626691f",
   "metadata": {},
   "outputs": [
    {
     "name": "stdout",
     "output_type": "stream",
     "text": [
      "Ana Pérez\n",
      "Juan García\n",
      "Andres Álvarez\n",
      "Luis Ramos\n",
      "Pedro Cadenas\n",
      "Estefanía Miguélez\n",
      "Alberto Delgado\n",
      "Susana Castro\n",
      "Luis González\n"
     ]
    }
   ],
   "source": [
    "for i in clientes:\n",
    "    print(i)"
   ]
  },
  {
   "cell_type": "code",
   "execution_count": 32,
   "id": "b97d5215",
   "metadata": {},
   "outputs": [],
   "source": [
    "def buscar(clientes):\n",
    "    nombre = input('Indique el nombre a buscar:...')\n",
    "    clientes1 = []\n",
    "    vocales_tilde = ['á','é','í','ó','ú']\n",
    "    vocales = ['a','e','i','o','u']\n",
    "    \n",
    "    for i in clientes:\n",
    "        nombre_lista = list(i)\n",
    "        for i1,j1 in enumerate(nombre_lista):\n",
    "            if j1 in vocales_tilde:\n",
    "                index = vocales_tilde.index(j1)\n",
    "                i =i.replace(vocales_tilde[index],vocales[index])\n",
    "        clientes1.append(i)\n",
    "        \n",
    "    if nombre in clientes or nombre in clientes1:\n",
    "        print(f'El cliente -{nombre}- se encuentra en mi Base de Datos de Clientes')\n",
    "    else:\n",
    "        print(f'El cliente -{nombre}- NO se encuentra en mi Base de Datos de Clientes')"
   ]
  },
  {
   "cell_type": "code",
   "execution_count": 34,
   "id": "2ff2db6d",
   "metadata": {},
   "outputs": [
    {
     "name": "stdout",
     "output_type": "stream",
     "text": [
      "Indique el nombre a buscar:...Juan Garcia\n",
      "El cliente -Juan Garcia- se encuentra en mi Base de Datos de Clientes\n"
     ]
    }
   ],
   "source": [
    "buscar(clientes)"
   ]
  },
  {
   "cell_type": "code",
   "execution_count": 54,
   "id": "ec200228",
   "metadata": {},
   "outputs": [],
   "source": [
    "clientes= 'Ana Pérez, Juan García, Andrés Álvarez, Luis Ramos, Pedro Cadenas, Estefanía Miguélez, Alberto Delgado, Susana Castro, Luis González'\n",
    "clientes = clientes.split(', ')"
   ]
  },
  {
   "cell_type": "code",
   "execution_count": 55,
   "id": "ea49db01",
   "metadata": {},
   "outputs": [],
   "source": [
    "tarifas = [40,50,50,35,45,50,60,50,45]"
   ]
  },
  {
   "cell_type": "code",
   "execution_count": 58,
   "id": "4d67e595",
   "metadata": {},
   "outputs": [],
   "source": [
    "df = pd.DataFrame(list(zip(clientes,tarifas)), columns = ['Clientes','Tarifas'])\n"
   ]
  },
  {
   "cell_type": "code",
   "execution_count": 57,
   "id": "d97e65ad",
   "metadata": {},
   "outputs": [
    {
     "data": {
      "text/html": [
       "<div>\n",
       "<style scoped>\n",
       "    .dataframe tbody tr th:only-of-type {\n",
       "        vertical-align: middle;\n",
       "    }\n",
       "\n",
       "    .dataframe tbody tr th {\n",
       "        vertical-align: top;\n",
       "    }\n",
       "\n",
       "    .dataframe thead th {\n",
       "        text-align: right;\n",
       "    }\n",
       "</style>\n",
       "<table border=\"1\" class=\"dataframe\">\n",
       "  <thead>\n",
       "    <tr style=\"text-align: right;\">\n",
       "      <th></th>\n",
       "      <th>Clientes</th>\n",
       "      <th>Tarifas</th>\n",
       "    </tr>\n",
       "  </thead>\n",
       "  <tbody>\n",
       "    <tr>\n",
       "      <th>0</th>\n",
       "      <td>Ana Pérez</td>\n",
       "      <td>40</td>\n",
       "    </tr>\n",
       "    <tr>\n",
       "      <th>1</th>\n",
       "      <td>Juan García</td>\n",
       "      <td>50</td>\n",
       "    </tr>\n",
       "    <tr>\n",
       "      <th>2</th>\n",
       "      <td>Andrés Álvarez</td>\n",
       "      <td>50</td>\n",
       "    </tr>\n",
       "    <tr>\n",
       "      <th>3</th>\n",
       "      <td>Luis Ramos</td>\n",
       "      <td>35</td>\n",
       "    </tr>\n",
       "    <tr>\n",
       "      <th>4</th>\n",
       "      <td>Pedro Cadenas</td>\n",
       "      <td>45</td>\n",
       "    </tr>\n",
       "  </tbody>\n",
       "</table>\n",
       "</div>"
      ],
      "text/plain": [
       "         Clientes  Tarifas\n",
       "0       Ana Pérez       40\n",
       "1     Juan García       50\n",
       "2  Andrés Álvarez       50\n",
       "3      Luis Ramos       35\n",
       "4   Pedro Cadenas       45"
      ]
     },
     "execution_count": 57,
     "metadata": {},
     "output_type": "execute_result"
    }
   ],
   "source": [
    "df.head(5)"
   ]
  },
  {
   "cell_type": "code",
   "execution_count": 60,
   "id": "df21c2b6",
   "metadata": {},
   "outputs": [
    {
     "data": {
      "text/html": [
       "<div>\n",
       "<style scoped>\n",
       "    .dataframe tbody tr th:only-of-type {\n",
       "        vertical-align: middle;\n",
       "    }\n",
       "\n",
       "    .dataframe tbody tr th {\n",
       "        vertical-align: top;\n",
       "    }\n",
       "\n",
       "    .dataframe thead th {\n",
       "        text-align: right;\n",
       "    }\n",
       "</style>\n",
       "<table border=\"1\" class=\"dataframe\">\n",
       "  <thead>\n",
       "    <tr style=\"text-align: right;\">\n",
       "      <th></th>\n",
       "      <th>Clientes</th>\n",
       "      <th>Tarifas</th>\n",
       "    </tr>\n",
       "  </thead>\n",
       "  <tbody>\n",
       "    <tr>\n",
       "      <th>0</th>\n",
       "      <td>Ana Pérez</td>\n",
       "      <td>40</td>\n",
       "    </tr>\n",
       "    <tr>\n",
       "      <th>1</th>\n",
       "      <td>Juan García</td>\n",
       "      <td>50</td>\n",
       "    </tr>\n",
       "    <tr>\n",
       "      <th>2</th>\n",
       "      <td>Andrés Álvarez</td>\n",
       "      <td>50</td>\n",
       "    </tr>\n",
       "    <tr>\n",
       "      <th>3</th>\n",
       "      <td>Luis Ramos</td>\n",
       "      <td>35</td>\n",
       "    </tr>\n",
       "    <tr>\n",
       "      <th>4</th>\n",
       "      <td>Pedro Cadenas</td>\n",
       "      <td>45</td>\n",
       "    </tr>\n",
       "  </tbody>\n",
       "</table>\n",
       "</div>"
      ],
      "text/plain": [
       "         Clientes  Tarifas\n",
       "0       Ana Pérez       40\n",
       "1     Juan García       50\n",
       "2  Andrés Álvarez       50\n",
       "3      Luis Ramos       35\n",
       "4   Pedro Cadenas       45"
      ]
     },
     "execution_count": 60,
     "metadata": {},
     "output_type": "execute_result"
    }
   ],
   "source": [
    "df.loc[0:4,:]"
   ]
  },
  {
   "cell_type": "code",
   "execution_count": 65,
   "id": "2dc791c1",
   "metadata": {},
   "outputs": [
    {
     "data": {
      "text/html": [
       "<div>\n",
       "<style scoped>\n",
       "    .dataframe tbody tr th:only-of-type {\n",
       "        vertical-align: middle;\n",
       "    }\n",
       "\n",
       "    .dataframe tbody tr th {\n",
       "        vertical-align: top;\n",
       "    }\n",
       "\n",
       "    .dataframe thead th {\n",
       "        text-align: right;\n",
       "    }\n",
       "</style>\n",
       "<table border=\"1\" class=\"dataframe\">\n",
       "  <thead>\n",
       "    <tr style=\"text-align: right;\">\n",
       "      <th></th>\n",
       "      <th>Tarifas</th>\n",
       "    </tr>\n",
       "  </thead>\n",
       "  <tbody>\n",
       "    <tr>\n",
       "      <th>0</th>\n",
       "      <td>40</td>\n",
       "    </tr>\n",
       "    <tr>\n",
       "      <th>1</th>\n",
       "      <td>50</td>\n",
       "    </tr>\n",
       "    <tr>\n",
       "      <th>2</th>\n",
       "      <td>50</td>\n",
       "    </tr>\n",
       "    <tr>\n",
       "      <th>3</th>\n",
       "      <td>35</td>\n",
       "    </tr>\n",
       "    <tr>\n",
       "      <th>4</th>\n",
       "      <td>45</td>\n",
       "    </tr>\n",
       "    <tr>\n",
       "      <th>5</th>\n",
       "      <td>50</td>\n",
       "    </tr>\n",
       "    <tr>\n",
       "      <th>6</th>\n",
       "      <td>60</td>\n",
       "    </tr>\n",
       "    <tr>\n",
       "      <th>7</th>\n",
       "      <td>50</td>\n",
       "    </tr>\n",
       "    <tr>\n",
       "      <th>8</th>\n",
       "      <td>45</td>\n",
       "    </tr>\n",
       "  </tbody>\n",
       "</table>\n",
       "</div>"
      ],
      "text/plain": [
       "   Tarifas\n",
       "0       40\n",
       "1       50\n",
       "2       50\n",
       "3       35\n",
       "4       45\n",
       "5       50\n",
       "6       60\n",
       "7       50\n",
       "8       45"
      ]
     },
     "execution_count": 65,
     "metadata": {},
     "output_type": "execute_result"
    }
   ],
   "source": [
    "df_tarifas = df[['Tarifas']]\n",
    "df_tarifas"
   ]
  },
  {
   "cell_type": "code",
   "execution_count": 74,
   "id": "b0f9838a",
   "metadata": {},
   "outputs": [],
   "source": [
    "def funciones(df):\n",
    "    \n",
    "    df.Tarifas.value_counts()\n",
    "    df.Tarifas.value_counts().plot(kind=\"bar\")\n",
    "    plt.show()\n",
    "\n",
    "    df.Tarifas.plot(kind=\"bar\")\n",
    "    plt.show\n",
    "\n",
    "    print(df)\n"
   ]
  },
  {
   "cell_type": "code",
   "execution_count": 75,
   "id": "f703d912",
   "metadata": {},
   "outputs": [
    {
     "data": {
      "image/png": "[encoded data removed]",
      "text/plain": [
       "<Figure size 640x480 with 1 Axes>"
      ]
     },
     "metadata": {},
     "output_type": "display_data"
    },
    {
     "name": "stdout",
     "output_type": "stream",
     "text": [
      "             Clientes  Tarifas\n",
      "0           Ana Pérez       40\n",
      "1         Juan García       50\n",
      "2      Andrés Álvarez       50\n",
      "3          Luis Ramos       35\n",
      "4       Pedro Cadenas       45\n",
      "5  Estefanía Miguélez       50\n",
      "6     Alberto Delgado       60\n",
      "7       Susana Castro       50\n",
      "8       Luis González       45\n"
     ]
    },
    {
     "data": {
      "image/png": "[encoded data removed]",
      "text/plain": [
       "<Figure size 640x480 with 1 Axes>"
      ]
     },
     "metadata": {},
     "output_type": "display_data"
    }
   ],
   "source": [
    "funciones(df)"
   ]
  },
  {
   "cell_type": "code",
   "execution_count": 76,
   "id": "d3b5487c",
   "metadata": {},
   "outputs": [
    {
     "data": {
      "text/html": [
       "<div>\n",
       "<style scoped>\n",
       "    .dataframe tbody tr th:only-of-type {\n",
       "        vertical-align: middle;\n",
       "    }\n",
       "\n",
       "    .dataframe tbody tr th {\n",
       "        vertical-align: top;\n",
       "    }\n",
       "\n",
       "    .dataframe thead th {\n",
       "        text-align: right;\n",
       "    }\n",
       "</style>\n",
       "<table border=\"1\" class=\"dataframe\">\n",
       "  <thead>\n",
       "    <tr style=\"text-align: right;\">\n",
       "      <th></th>\n",
       "      <th>Clientes</th>\n",
       "      <th>Tarifas</th>\n",
       "    </tr>\n",
       "  </thead>\n",
       "  <tbody>\n",
       "    <tr>\n",
       "      <th>6</th>\n",
       "      <td>Alberto Delgado</td>\n",
       "      <td>60</td>\n",
       "    </tr>\n",
       "  </tbody>\n",
       "</table>\n",
       "</div>"
      ],
      "text/plain": [
       "          Clientes  Tarifas\n",
       "6  Alberto Delgado       60"
      ]
     },
     "execution_count": 76,
     "metadata": {},
     "output_type": "execute_result"
    }
   ],
   "source": [
    "df_mayor50 = df[df.Tarifas > 50]\n",
    "df_mayor50 "
   ]
  },
  {
   "cell_type": "markdown",
   "id": "1267963c",
   "metadata": {},
   "source": [
    "# EJERCICIO 2\n",
    "\n",
    "    Número par o impar\n",
    "\n",
    "    Prueba para los números 6 y 3\n",
    "\n",
    "    Realiza un algortimo para saber si son pares o impares"
   ]
  },
  {
   "cell_type": "code",
   "execution_count": 79,
   "id": "cc7fd64f",
   "metadata": {},
   "outputs": [
    {
     "name": "stdout",
     "output_type": "stream",
     "text": [
      "Numero:....6\n",
      "Número par\n"
     ]
    }
   ],
   "source": [
    "def par_impar():\n",
    "    num = int(input('Numero:....'))\n",
    "    if num % 2 == 0:\n",
    "        print('Número par')\n",
    "    else:\n",
    "        print('Número impar')\n",
    "\n",
    "par_impar()"
   ]
  },
  {
   "cell_type": "markdown",
   "id": "cbcd4c20",
   "metadata": {},
   "source": [
    "# EJERCICIO 3\n",
    "\n",
    "\n",
    "        Intercambio de valores entre variables\n",
    "        Siendo por ejemplo:\n",
    "        x = 3 e y = 2\n",
    "        Se pide hacer un pequeño algoritmo que me intercambie esos valores.\n",
    "        Y que sea el resultado:\n",
    "        x = 2 e y = 3\n",
    "\n",
    "\n",
    "    1) Hazlo sin funciones\n",
    "\n",
    "    2) Hazlo mismo con una función"
   ]
  },
  {
   "cell_type": "code",
   "execution_count": 84,
   "id": "a7f30ade",
   "metadata": {},
   "outputs": [],
   "source": [
    "x = 3 ; y = 2"
   ]
  },
  {
   "cell_type": "code",
   "execution_count": 83,
   "id": "4c882607",
   "metadata": {},
   "outputs": [
    {
     "name": "stdout",
     "output_type": "stream",
     "text": [
      "x = 2 ; y = 3\n"
     ]
    }
   ],
   "source": [
    "y,x = 3,2\n",
    "print(f'x = {x} ; y = {y}')"
   ]
  },
  {
   "cell_type": "code",
   "execution_count": 87,
   "id": "99ac7810",
   "metadata": {},
   "outputs": [
    {
     "name": "stdout",
     "output_type": "stream",
     "text": [
      "x = 2 ; y = 3\n"
     ]
    }
   ],
   "source": [
    "(lambda x,y: print(f'x = {y} ; y = {x}'))(3,2)\n"
   ]
  },
  {
   "cell_type": "code",
   "execution_count": null,
   "id": "5c6aa82d",
   "metadata": {},
   "outputs": [],
   "source": []
  }
 ],
 "metadata": {
  "kernelspec": {
   "display_name": "Python 3 (ipykernel)",
   "language": "python",
   "name": "python3"
  },
  "language_info": {
   "codemirror_mode": {
    "name": "ipython",
    "version": 3
   },
   "file_extension": ".py",
   "mimetype": "text/x-python",
   "name": "python",
   "nbconvert_exporter": "python",
   "pygments_lexer": "ipython3",
   "version": "3.10.6"
  }
 },
 "nbformat": 4,
 "nbformat_minor": 5
}
