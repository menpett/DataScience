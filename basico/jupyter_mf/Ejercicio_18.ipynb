{
 "cells": [
  {
   "cell_type": "markdown",
   "id": "3da8209b",
   "metadata": {},
   "source": [
    "# EJERCICIO 1\n",
    "\n",
    "    Definir una función max()\n",
    "    que tome como argumento dos números y devuelva el mayor de ellos. \n",
    "    (Es cierto que python tiene una función max() incorporada,\n",
    "    pero hacerla nosotros mismos es un muy buen ejercicio).\n"
   ]
  },
  {
   "cell_type": "code",
   "execution_count": 1,
   "id": "52a326f4",
   "metadata": {},
   "outputs": [],
   "source": [
    "def funcion_max(x1,x2):\n",
    "    if x1 > x2:\n",
    "        return f'{x1} es mayor que {x2}'\n",
    "    else:\n",
    "        return f'{x2} es mayor que {x1}'"
   ]
  },
  {
   "cell_type": "code",
   "execution_count": 2,
   "id": "06f15595",
   "metadata": {},
   "outputs": [
    {
     "data": {
      "text/plain": [
       "'5 es mayor que 3'"
      ]
     },
     "execution_count": 2,
     "metadata": {},
     "output_type": "execute_result"
    }
   ],
   "source": [
    "funcion_max(3,5)"
   ]
  },
  {
   "cell_type": "markdown",
   "id": "4a2535ae",
   "metadata": {},
   "source": [
    "# EJERCICIO 2\n",
    "\n",
    "\n",
    "    Definir una función max_de_tres(), \n",
    "    que tome tres números como argumentos y \n",
    "    devuelva el mayor de ellos.\n"
   ]
  },
  {
   "cell_type": "code",
   "execution_count": 16,
   "id": "3258e247",
   "metadata": {},
   "outputs": [],
   "source": [
    "def max_de_tres(x1,x2,x3):\n",
    "    \n",
    "    if x1 > x2 and x1 > x3:\n",
    "        return x1\n",
    "    elif x2 > x3:\n",
    "        return x2\n",
    "    else:\n",
    "        return x3\n",
    "            "
   ]
  },
  {
   "cell_type": "code",
   "execution_count": 17,
   "id": "4af67c30",
   "metadata": {},
   "outputs": [
    {
     "name": "stdout",
     "output_type": "stream",
     "text": [
      "[1]\n"
     ]
    }
   ],
   "source": [
    "max_de_tres(1,2,3)"
   ]
  },
  {
   "cell_type": "markdown",
   "id": "c21fe65d",
   "metadata": {},
   "source": [
    "# EJERCICIO 3\n",
    "\n",
    "\n",
    "    Definir una función que calcule la longitud de una lista \n",
    "    o una cadena dada. \n",
    "    (Es cierto que python tiene la función len() incorporada, \n",
    "    pero escribirla por nosotros mismos resulta un muy buen ejercicio."
   ]
  },
  {
   "cell_type": "code",
   "execution_count": 26,
   "id": "5088bc55",
   "metadata": {},
   "outputs": [],
   "source": [
    "def funcion_len(x):\n",
    "    n = 0\n",
    "    for i in x:\n",
    "        n += 1\n",
    "    return n"
   ]
  },
  {
   "cell_type": "code",
   "execution_count": 27,
   "id": "8f1cf6be",
   "metadata": {},
   "outputs": [
    {
     "data": {
      "text/plain": [
       "4"
      ]
     },
     "execution_count": 27,
     "metadata": {},
     "output_type": "execute_result"
    }
   ],
   "source": [
    "funcion_len('Hola')"
   ]
  },
  {
   "cell_type": "code",
   "execution_count": 29,
   "id": "1cef937d",
   "metadata": {},
   "outputs": [
    {
     "data": {
      "text/plain": [
       "3"
      ]
     },
     "execution_count": 29,
     "metadata": {},
     "output_type": "execute_result"
    }
   ],
   "source": [
    "funcion_len([1,2,3])"
   ]
  },
  {
   "cell_type": "markdown",
   "id": "a3329c50",
   "metadata": {},
   "source": [
    "# EJERCICIO 4\n",
    "\n",
    "Escribir una función que tome un carácter y devuelva True si es una vocal,\n",
    "    de lo contrario devuelve False."
   ]
  },
  {
   "cell_type": "code",
   "execution_count": 38,
   "id": "2ac5fff1",
   "metadata": {},
   "outputs": [],
   "source": [
    "def caracter(x):\n",
    "    if x in 'aeiouAEIOU':\n",
    "        return True\n",
    "    else: \n",
    "        return False "
   ]
  },
  {
   "cell_type": "code",
   "execution_count": 39,
   "id": "48ae89c9",
   "metadata": {},
   "outputs": [
    {
     "data": {
      "text/plain": [
       "True"
      ]
     },
     "execution_count": 39,
     "metadata": {},
     "output_type": "execute_result"
    }
   ],
   "source": [
    "caracter('A')"
   ]
  },
  {
   "cell_type": "markdown",
   "id": "5601f4d3",
   "metadata": {},
   "source": [
    "# EJERCICIO 5\n",
    "\n",
    "    Escribir una función suma() y una función multip() que sumen y multipliquen\n",
    "    respectivamente todos los números de una lista.\n",
    "    Por ejemplo: suma([1,2,3,4]) debería devolver 10 y multip([1,2,3,4]) debería devolver 24."
   ]
  },
  {
   "cell_type": "code",
   "execution_count": 30,
   "id": "1ec0462a",
   "metadata": {},
   "outputs": [],
   "source": [
    "class funciones():\n",
    "    def suma(x):\n",
    "        return sum(x)\n",
    "    def multi(x):\n",
    "        mul = 1\n",
    "        for i in x:\n",
    "            mul = mul * i \n",
    "            \n",
    "        return mul"
   ]
  },
  {
   "cell_type": "code",
   "execution_count": 31,
   "id": "530533ee",
   "metadata": {},
   "outputs": [
    {
     "data": {
      "text/plain": [
       "10"
      ]
     },
     "execution_count": 31,
     "metadata": {},
     "output_type": "execute_result"
    }
   ],
   "source": [
    "funciones.suma([1,2,3,4])"
   ]
  },
  {
   "cell_type": "code",
   "execution_count": 32,
   "id": "a9b8be12",
   "metadata": {},
   "outputs": [
    {
     "data": {
      "text/plain": [
       "24"
      ]
     },
     "execution_count": 32,
     "metadata": {},
     "output_type": "execute_result"
    }
   ],
   "source": [
    "funciones.multi([1,2,3,4])"
   ]
  },
  {
   "cell_type": "code",
   "execution_count": null,
   "id": "ffca787b",
   "metadata": {},
   "outputs": [],
   "source": []
  }
 ],
 "metadata": {
  "kernelspec": {
   "display_name": "Python 3 (ipykernel)",
   "language": "python",
   "name": "python3"
  },
  "language_info": {
   "codemirror_mode": {
    "name": "ipython",
    "version": 3
   },
   "file_extension": ".py",
   "mimetype": "text/x-python",
   "name": "python",
   "nbconvert_exporter": "python",
   "pygments_lexer": "ipython3",
   "version": "3.10.6"
  }
 },
 "nbformat": 4,
 "nbformat_minor": 5
}
