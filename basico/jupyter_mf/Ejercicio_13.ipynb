{
 "cells": [
  {
   "cell_type": "markdown",
   "id": "57f21647",
   "metadata": {},
   "source": [
    "### Librerias"
   ]
  },
  {
   "cell_type": "code",
   "execution_count": 1,
   "id": "64f05392",
   "metadata": {},
   "outputs": [],
   "source": [
    "import pandas as pd\n",
    "import numpy as np\n",
    "import matplotlib.pyplot as plt"
   ]
  },
  {
   "cell_type": "markdown",
   "id": "b901e256",
   "metadata": {},
   "source": [
    "# EJERCICIO 1\n",
    "\n",
    "    NO HACE FALTA HACERLO EN FORMATO FUNCIÓN!\n",
    "\n",
    "    Se pide por tanto:\n",
    "\n",
    "    -1- Leer el archivo train.csv de Titanic dataset con pandas (carpeta src)\n",
    "\n",
    "    -2- Imprimir algunas filas de la parte de arriba y otras de la parte del final\n",
    "\n",
    "    -3- Imprimir algunos parámetros estadísticos\n",
    "\n",
    "    -4- Ver si en todas las columnas tenemos el mismo número de datos (solo verlo)\n",
    "\n",
    "    -5- Ver el número de hombres y mujeres que hay\n",
    "\n",
    "    -6- Hacer alguna gráfica con pandas relativa al número de hombres y mujeres que hay\n",
    "\n",
    "    Si quieres hacer alguna cosa más también puedes\n"
   ]
  },
  {
   "cell_type": "code",
   "execution_count": 7,
   "id": "985321a0",
   "metadata": {},
   "outputs": [],
   "source": [
    "df = pd.read_csv('E:/OneDrive/Documentos/DATA_SCIENCE/Datos_csv/train.csv')"
   ]
  },
  {
   "cell_type": "code",
   "execution_count": 8,
   "id": "4366ab66",
   "metadata": {},
   "outputs": [
    {
     "data": {
      "text/html": [
       "<div>\n",
       "<style scoped>\n",
       "    .dataframe tbody tr th:only-of-type {\n",
       "        vertical-align: middle;\n",
       "    }\n",
       "\n",
       "    .dataframe tbody tr th {\n",
       "        vertical-align: top;\n",
       "    }\n",
       "\n",
       "    .dataframe thead th {\n",
       "        text-align: right;\n",
       "    }\n",
       "</style>\n",
       "<table border=\"1\" class=\"dataframe\">\n",
       "  <thead>\n",
       "    <tr style=\"text-align: right;\">\n",
       "      <th></th>\n",
       "      <th>PassengerId</th>\n",
       "      <th>Survived</th>\n",
       "      <th>Pclass</th>\n",
       "      <th>Name</th>\n",
       "      <th>Sex</th>\n",
       "      <th>Age</th>\n",
       "      <th>SibSp</th>\n",
       "      <th>Parch</th>\n",
       "      <th>Ticket</th>\n",
       "      <th>Fare</th>\n",
       "      <th>Cabin</th>\n",
       "      <th>Embarked</th>\n",
       "    </tr>\n",
       "  </thead>\n",
       "  <tbody>\n",
       "    <tr>\n",
       "      <th>0</th>\n",
       "      <td>1</td>\n",
       "      <td>0</td>\n",
       "      <td>3</td>\n",
       "      <td>Braund, Mr. Owen Harris</td>\n",
       "      <td>male</td>\n",
       "      <td>22.0</td>\n",
       "      <td>1</td>\n",
       "      <td>0</td>\n",
       "      <td>A/5 21171</td>\n",
       "      <td>7.2500</td>\n",
       "      <td>NaN</td>\n",
       "      <td>S</td>\n",
       "    </tr>\n",
       "    <tr>\n",
       "      <th>1</th>\n",
       "      <td>2</td>\n",
       "      <td>1</td>\n",
       "      <td>1</td>\n",
       "      <td>Cumings, Mrs. John Bradley (Florence Briggs Th...</td>\n",
       "      <td>female</td>\n",
       "      <td>38.0</td>\n",
       "      <td>1</td>\n",
       "      <td>0</td>\n",
       "      <td>PC 17599</td>\n",
       "      <td>71.2833</td>\n",
       "      <td>C85</td>\n",
       "      <td>C</td>\n",
       "    </tr>\n",
       "  </tbody>\n",
       "</table>\n",
       "</div>"
      ],
      "text/plain": [
       "   PassengerId  Survived  Pclass  \\\n",
       "0            1         0       3   \n",
       "1            2         1       1   \n",
       "\n",
       "                                                Name     Sex   Age  SibSp  \\\n",
       "0                            Braund, Mr. Owen Harris    male  22.0      1   \n",
       "1  Cumings, Mrs. John Bradley (Florence Briggs Th...  female  38.0      1   \n",
       "\n",
       "   Parch     Ticket     Fare Cabin Embarked  \n",
       "0      0  A/5 21171   7.2500   NaN        S  \n",
       "1      0   PC 17599  71.2833   C85        C  "
      ]
     },
     "execution_count": 8,
     "metadata": {},
     "output_type": "execute_result"
    }
   ],
   "source": [
    "df.head(2)"
   ]
  },
  {
   "cell_type": "code",
   "execution_count": 9,
   "id": "a91edaf1",
   "metadata": {},
   "outputs": [
    {
     "data": {
      "text/html": [
       "<div>\n",
       "<style scoped>\n",
       "    .dataframe tbody tr th:only-of-type {\n",
       "        vertical-align: middle;\n",
       "    }\n",
       "\n",
       "    .dataframe tbody tr th {\n",
       "        vertical-align: top;\n",
       "    }\n",
       "\n",
       "    .dataframe thead th {\n",
       "        text-align: right;\n",
       "    }\n",
       "</style>\n",
       "<table border=\"1\" class=\"dataframe\">\n",
       "  <thead>\n",
       "    <tr style=\"text-align: right;\">\n",
       "      <th></th>\n",
       "      <th>PassengerId</th>\n",
       "      <th>Survived</th>\n",
       "      <th>Pclass</th>\n",
       "      <th>Name</th>\n",
       "      <th>Sex</th>\n",
       "      <th>Age</th>\n",
       "      <th>SibSp</th>\n",
       "      <th>Parch</th>\n",
       "      <th>Ticket</th>\n",
       "      <th>Fare</th>\n",
       "      <th>Cabin</th>\n",
       "      <th>Embarked</th>\n",
       "    </tr>\n",
       "  </thead>\n",
       "  <tbody>\n",
       "    <tr>\n",
       "      <th>889</th>\n",
       "      <td>890</td>\n",
       "      <td>1</td>\n",
       "      <td>1</td>\n",
       "      <td>Behr, Mr. Karl Howell</td>\n",
       "      <td>male</td>\n",
       "      <td>26.0</td>\n",
       "      <td>0</td>\n",
       "      <td>0</td>\n",
       "      <td>111369</td>\n",
       "      <td>30.00</td>\n",
       "      <td>C148</td>\n",
       "      <td>C</td>\n",
       "    </tr>\n",
       "    <tr>\n",
       "      <th>890</th>\n",
       "      <td>891</td>\n",
       "      <td>0</td>\n",
       "      <td>3</td>\n",
       "      <td>Dooley, Mr. Patrick</td>\n",
       "      <td>male</td>\n",
       "      <td>32.0</td>\n",
       "      <td>0</td>\n",
       "      <td>0</td>\n",
       "      <td>370376</td>\n",
       "      <td>7.75</td>\n",
       "      <td>NaN</td>\n",
       "      <td>Q</td>\n",
       "    </tr>\n",
       "  </tbody>\n",
       "</table>\n",
       "</div>"
      ],
      "text/plain": [
       "     PassengerId  Survived  Pclass                   Name   Sex   Age  SibSp  \\\n",
       "889          890         1       1  Behr, Mr. Karl Howell  male  26.0      0   \n",
       "890          891         0       3    Dooley, Mr. Patrick  male  32.0      0   \n",
       "\n",
       "     Parch  Ticket   Fare Cabin Embarked  \n",
       "889      0  111369  30.00  C148        C  \n",
       "890      0  370376   7.75   NaN        Q  "
      ]
     },
     "execution_count": 9,
     "metadata": {},
     "output_type": "execute_result"
    }
   ],
   "source": [
    "df.tail(2)"
   ]
  },
  {
   "cell_type": "code",
   "execution_count": 10,
   "id": "884c587d",
   "metadata": {},
   "outputs": [
    {
     "data": {
      "text/html": [
       "<div>\n",
       "<style scoped>\n",
       "    .dataframe tbody tr th:only-of-type {\n",
       "        vertical-align: middle;\n",
       "    }\n",
       "\n",
       "    .dataframe tbody tr th {\n",
       "        vertical-align: top;\n",
       "    }\n",
       "\n",
       "    .dataframe thead th {\n",
       "        text-align: right;\n",
       "    }\n",
       "</style>\n",
       "<table border=\"1\" class=\"dataframe\">\n",
       "  <thead>\n",
       "    <tr style=\"text-align: right;\">\n",
       "      <th></th>\n",
       "      <th>PassengerId</th>\n",
       "      <th>Survived</th>\n",
       "      <th>Pclass</th>\n",
       "      <th>Age</th>\n",
       "      <th>SibSp</th>\n",
       "      <th>Parch</th>\n",
       "      <th>Fare</th>\n",
       "    </tr>\n",
       "  </thead>\n",
       "  <tbody>\n",
       "    <tr>\n",
       "      <th>count</th>\n",
       "      <td>891.000000</td>\n",
       "      <td>891.000000</td>\n",
       "      <td>891.000000</td>\n",
       "      <td>714.000000</td>\n",
       "      <td>891.000000</td>\n",
       "      <td>891.000000</td>\n",
       "      <td>891.000000</td>\n",
       "    </tr>\n",
       "    <tr>\n",
       "      <th>mean</th>\n",
       "      <td>446.000000</td>\n",
       "      <td>0.383838</td>\n",
       "      <td>2.308642</td>\n",
       "      <td>29.699118</td>\n",
       "      <td>0.523008</td>\n",
       "      <td>0.381594</td>\n",
       "      <td>32.204208</td>\n",
       "    </tr>\n",
       "    <tr>\n",
       "      <th>std</th>\n",
       "      <td>257.353842</td>\n",
       "      <td>0.486592</td>\n",
       "      <td>0.836071</td>\n",
       "      <td>14.526497</td>\n",
       "      <td>1.102743</td>\n",
       "      <td>0.806057</td>\n",
       "      <td>49.693429</td>\n",
       "    </tr>\n",
       "    <tr>\n",
       "      <th>min</th>\n",
       "      <td>1.000000</td>\n",
       "      <td>0.000000</td>\n",
       "      <td>1.000000</td>\n",
       "      <td>0.420000</td>\n",
       "      <td>0.000000</td>\n",
       "      <td>0.000000</td>\n",
       "      <td>0.000000</td>\n",
       "    </tr>\n",
       "    <tr>\n",
       "      <th>25%</th>\n",
       "      <td>223.500000</td>\n",
       "      <td>0.000000</td>\n",
       "      <td>2.000000</td>\n",
       "      <td>20.125000</td>\n",
       "      <td>0.000000</td>\n",
       "      <td>0.000000</td>\n",
       "      <td>7.910400</td>\n",
       "    </tr>\n",
       "    <tr>\n",
       "      <th>50%</th>\n",
       "      <td>446.000000</td>\n",
       "      <td>0.000000</td>\n",
       "      <td>3.000000</td>\n",
       "      <td>28.000000</td>\n",
       "      <td>0.000000</td>\n",
       "      <td>0.000000</td>\n",
       "      <td>14.454200</td>\n",
       "    </tr>\n",
       "    <tr>\n",
       "      <th>75%</th>\n",
       "      <td>668.500000</td>\n",
       "      <td>1.000000</td>\n",
       "      <td>3.000000</td>\n",
       "      <td>38.000000</td>\n",
       "      <td>1.000000</td>\n",
       "      <td>0.000000</td>\n",
       "      <td>31.000000</td>\n",
       "    </tr>\n",
       "    <tr>\n",
       "      <th>max</th>\n",
       "      <td>891.000000</td>\n",
       "      <td>1.000000</td>\n",
       "      <td>3.000000</td>\n",
       "      <td>80.000000</td>\n",
       "      <td>8.000000</td>\n",
       "      <td>6.000000</td>\n",
       "      <td>512.329200</td>\n",
       "    </tr>\n",
       "  </tbody>\n",
       "</table>\n",
       "</div>"
      ],
      "text/plain": [
       "       PassengerId    Survived      Pclass         Age       SibSp  \\\n",
       "count   891.000000  891.000000  891.000000  714.000000  891.000000   \n",
       "mean    446.000000    0.383838    2.308642   29.699118    0.523008   \n",
       "std     257.353842    0.486592    0.836071   14.526497    1.102743   \n",
       "min       1.000000    0.000000    1.000000    0.420000    0.000000   \n",
       "25%     223.500000    0.000000    2.000000   20.125000    0.000000   \n",
       "50%     446.000000    0.000000    3.000000   28.000000    0.000000   \n",
       "75%     668.500000    1.000000    3.000000   38.000000    1.000000   \n",
       "max     891.000000    1.000000    3.000000   80.000000    8.000000   \n",
       "\n",
       "            Parch        Fare  \n",
       "count  891.000000  891.000000  \n",
       "mean     0.381594   32.204208  \n",
       "std      0.806057   49.693429  \n",
       "min      0.000000    0.000000  \n",
       "25%      0.000000    7.910400  \n",
       "50%      0.000000   14.454200  \n",
       "75%      0.000000   31.000000  \n",
       "max      6.000000  512.329200  "
      ]
     },
     "execution_count": 10,
     "metadata": {},
     "output_type": "execute_result"
    }
   ],
   "source": [
    "df.describe()"
   ]
  },
  {
   "cell_type": "code",
   "execution_count": 18,
   "id": "110ba9cd",
   "metadata": {},
   "outputs": [
    {
     "data": {
      "text/plain": [
       "PassengerId    891\n",
       "Survived       891\n",
       "Pclass         891\n",
       "Name           891\n",
       "Sex            891\n",
       "Age            714\n",
       "SibSp          891\n",
       "Parch          891\n",
       "Ticket         891\n",
       "Fare           891\n",
       "Cabin          204\n",
       "Embarked       889\n",
       "dtype: int64"
      ]
     },
     "execution_count": 18,
     "metadata": {},
     "output_type": "execute_result"
    }
   ],
   "source": [
    "df.count()"
   ]
  },
  {
   "cell_type": "code",
   "execution_count": 14,
   "id": "a336edc8",
   "metadata": {},
   "outputs": [
    {
     "data": {
      "text/plain": [
       "male      577\n",
       "female    314\n",
       "Name: Sex, dtype: int64"
      ]
     },
     "execution_count": 14,
     "metadata": {},
     "output_type": "execute_result"
    }
   ],
   "source": [
    "df.Sex.value_counts()"
   ]
  },
  {
   "cell_type": "code",
   "execution_count": 16,
   "id": "f1528e39",
   "metadata": {},
   "outputs": [
    {
     "data": {
      "text/plain": [
       "<AxesSubplot:>"
      ]
     },
     "execution_count": 16,
     "metadata": {},
     "output_type": "execute_result"
    },
    {
     "data": {
      "image/png": "[encoded data removed]",
      "text/plain": [
       "<Figure size 640x480 with 1 Axes>"
      ]
     },
     "metadata": {},
     "output_type": "display_data"
    }
   ],
   "source": [
    "df.Sex.value_counts().plot(kind = 'bar')"
   ]
  },
  {
   "cell_type": "code",
   "execution_count": 20,
   "id": "cb681755",
   "metadata": {},
   "outputs": [
    {
     "data": {
      "text/plain": [
       "<AxesSubplot:>"
      ]
     },
     "execution_count": 20,
     "metadata": {},
     "output_type": "execute_result"
    },
    {
     "data": {
      "image/png": "[encoded data removed]",
      "text/plain": [
       "<Figure size 640x480 with 1 Axes>"
      ]
     },
     "metadata": {},
     "output_type": "display_data"
    }
   ],
   "source": [
    "df.Pclass.value_counts().plot(kind = 'bar')"
   ]
  },
  {
   "cell_type": "code",
   "execution_count": null,
   "id": "921fd822",
   "metadata": {},
   "outputs": [],
   "source": [
    "EJERCICIO 2\n",
    "\n",
    "    Dadas estas matrices:\n",
    "        * m1 = [[1, 10, 20], [30, 40, 50]]\n",
    "        * m2 = [[60, 80, 90,]]\n",
    "        * m3 = [[-2, 3, 5], [8, 6, 2]]\n",
    "\n",
    "    1) Comprueba si todos los valores de las matrices son mayores de 0\n",
    "\n",
    "    2) Si en la matriz m2 se encuentra el valor 80\n",
    "\n",
    "    3) Selecciona de m1 las dos últimas columnas\n",
    "\n",
    "    4) Concatena la m1 con m2, cuyo nombre de la matriz resultante sea m4\n",
    "\n",
    "    5) Convierte m1 y m3 en \"np.matrix\" asignando el nombre de matriz_1 y matriz_3, respectivamente\n",
    "\n",
    "    6) Realiza la resta, suma y producto de la matriz_1 y matriz_3\n",
    "\n",
    "    7) Realiza las traza de la matriz de m4\n"
   ]
  },
  {
   "cell_type": "code",
   "execution_count": 21,
   "id": "bc00505b",
   "metadata": {},
   "outputs": [],
   "source": [
    "m1 = [[1, 10, 20], [30, 40, 50]]\n",
    "m2 = [[60, 80, 90,]]\n",
    "m3 = [[-2, 3, 5], [8, 6, 2]]"
   ]
  },
  {
   "cell_type": "code",
   "execution_count": 25,
   "id": "ff8ad39c",
   "metadata": {},
   "outputs": [
    {
     "name": "stdout",
     "output_type": "stream",
     "text": [
      "NO todos los valores de las matrices son mayores de 0\n"
     ]
    }
   ],
   "source": [
    "m = m1+m2+m3\n",
    "m_array = np.array(m)\n",
    "if np.all(m_array > 0) == True:\n",
    "    print('todos los valores de las matrices son mayores de 0')\n",
    "else:\n",
    "    print('NO todos los valores de las matrices son mayores de 0')"
   ]
  },
  {
   "cell_type": "code",
   "execution_count": 26,
   "id": "3c82eff0",
   "metadata": {},
   "outputs": [
    {
     "name": "stdout",
     "output_type": "stream",
     "text": [
      "Si, en la matriz m2 se encuentra el valor 80\n"
     ]
    }
   ],
   "source": [
    "if np.any(np.array(m2) == 80) == True:\n",
    "    print('Si, en la matriz m2 se encuentra el valor 80')\n",
    "else:\n",
    "    print('NO, en la matriz m2 se encuentra el valor 80')"
   ]
  },
  {
   "cell_type": "code",
   "execution_count": 27,
   "id": "c414ad97",
   "metadata": {},
   "outputs": [
    {
     "data": {
      "text/plain": [
       "array([[10, 20],\n",
       "       [40, 50]])"
      ]
     },
     "execution_count": 27,
     "metadata": {},
     "output_type": "execute_result"
    }
   ],
   "source": [
    "m1_1 = np.array(m1)\n",
    "m1_1[:, [1,2]]"
   ]
  },
  {
   "cell_type": "code",
   "execution_count": 35,
   "id": "ce89480a",
   "metadata": {},
   "outputs": [
    {
     "name": "stdout",
     "output_type": "stream",
     "text": [
      "[[1, 10, 20], [30, 40, 50], [60, 80, 90]]\n",
      "\n",
      "\n",
      "[[ 1 10 20]\n",
      " [30 40 50]\n",
      " [60 80 90]]\n"
     ]
    }
   ],
   "source": [
    "m4 = m1 + m2\n",
    "m4_1 = np.array(m4)\n",
    "print(m4)\n",
    "print('\\n')\n",
    "print(m4_1)"
   ]
  },
  {
   "cell_type": "code",
   "execution_count": 37,
   "id": "6b11354b",
   "metadata": {},
   "outputs": [
    {
     "name": "stdout",
     "output_type": "stream",
     "text": [
      "[[ 1 10 20]\n",
      " [30 40 50]]\n",
      "\n",
      "\n",
      "[[60 80 90]]\n"
     ]
    }
   ],
   "source": [
    "matriz_1 = np.matrix(m1)\n",
    "matriz_3 = np.matrix(m2)\n",
    "print(matriz_1)\n",
    "print('\\n')\n",
    "print(matriz_3)"
   ]
  },
  {
   "cell_type": "code",
   "execution_count": 39,
   "id": "4e7732bf",
   "metadata": {},
   "outputs": [
    {
     "name": "stdout",
     "output_type": "stream",
     "text": [
      "[[-59 -70 -70]\n",
      " [-30 -40 -40]]\n"
     ]
    }
   ],
   "source": [
    "matriz13 = matriz_1 - matriz_3\n",
    "print(matriz13)"
   ]
  },
  {
   "cell_type": "code",
   "execution_count": 40,
   "id": "686f6015",
   "metadata": {},
   "outputs": [
    {
     "name": "stdout",
     "output_type": "stream",
     "text": [
      "[[ 61  90 110]\n",
      " [ 90 120 140]]\n"
     ]
    }
   ],
   "source": [
    "matriz13 = matriz_1 + matriz_3\n",
    "print(matriz13)"
   ]
  },
  {
   "cell_type": "code",
   "execution_count": 42,
   "id": "95963225",
   "metadata": {},
   "outputs": [
    {
     "name": "stdout",
     "output_type": "stream",
     "text": [
      "[[2660]\n",
      " [9500]]\n"
     ]
    }
   ],
   "source": [
    "matriz13 = matriz_1 * matriz_3.T\n",
    "print(matriz13)"
   ]
  },
  {
   "cell_type": "code",
   "execution_count": 44,
   "id": "412afb2a",
   "metadata": {},
   "outputs": [
    {
     "data": {
      "text/plain": [
       "131"
      ]
     },
     "execution_count": 44,
     "metadata": {},
     "output_type": "execute_result"
    }
   ],
   "source": [
    "np.trace(m4)"
   ]
  },
  {
   "cell_type": "markdown",
   "id": "e39df4b8",
   "metadata": {},
   "source": [
    "# EJERCICIO 3\n",
    "\n",
    "    * Numeros Primos: Crear un listado de los numeros primos menores de 30\n",
    "    Explicación inicial teórica\n",
    "    (véase Tema_7..)\n",
    "    Nota:\n",
    "    si quieres apendiza el número 2,\n",
    "    y a partir de ahí crea el algoritmo para apendizar los demas\n",
    "    (menores de 30 en todo caso)\n",
    "\n",
    "\n",
    "    1) Pide por teclado un número y di si es o no primo\n",
    "\n",
    "    2) Escribe los números primos menores de 30\n",
    "\n",
    "    3) Numeros Primos: Crear un listado de los numeros primos menores de 200\n",
    "\n",
    "    4) Números Primos: Haz un listado de números primos entre 50 y 100\n",
    "\n",
    "    5) Numeros Primos: Haz un listado de los 10 primeros números primos\n",
    "        Si puedes hazlo de más de una forma, no necesario aun así"
   ]
  },
  {
   "cell_type": "code",
   "execution_count": 46,
   "id": "7f95bc8a",
   "metadata": {},
   "outputs": [
    {
     "name": "stdout",
     "output_type": "stream",
     "text": [
      "[0.0, 0.0]\n",
      "[0.0, 1.0, 0.0]\n",
      "[0.0, 0.0, 1.0, 0.0]\n",
      "[0.0, 1.0, 2.0, 1.0, 0.0]\n",
      "[0.0, 0.0, 0.0, 2.0, 1.0, 0.0]\n",
      "[0.0, 1.0, 1.0, 3.0, 2.0, 1.0, 0.0]\n",
      "[]\n"
     ]
    }
   ],
   "source": [
    "import numpy as np\n",
    "\n",
    "lista_primos = []\n",
    "n = 2\n",
    "\n",
    "while n <= 7:\n",
    "    vector = np.arange(1,n+1)\n",
    "    vector_1 = (np.ones((1,n)))*n\n",
    "    vector_2 = vector_1%vector\n",
    "    vector_2 = vector_2.tolist()\n",
    "    i1 = 0\n",
    "    for i in vector_2:\n",
    "        print(i)\n",
    "#         if i == 0:\n",
    "#             print(i)\n",
    "#             i1 += 1\n",
    "#         print(i1)\n",
    "            \n",
    "    if i1 == 2:\n",
    "        lista_primos = lista_primos.append(n)\n",
    "    n += 1\n",
    "print(lista_primos)"
   ]
  },
  {
   "cell_type": "code",
   "execution_count": 11,
   "id": "3d603da4",
   "metadata": {
    "scrolled": true
   },
   "outputs": [
    {
     "data": {
      "text/plain": [
       "[1, 2, 3, 4, 5, 6, 7]"
      ]
     },
     "execution_count": 11,
     "metadata": {},
     "output_type": "execute_result"
    }
   ],
   "source": [
    "vector = range(1,7+1)\n",
    "list(vector)"
   ]
  },
  {
   "cell_type": "code",
   "execution_count": null,
   "id": "adebbdd8",
   "metadata": {},
   "outputs": [],
   "source": []
  }
 ],
 "metadata": {
  "kernelspec": {
   "display_name": "Python 3 (ipykernel)",
   "language": "python",
   "name": "python3"
  },
  "language_info": {
   "codemirror_mode": {
    "name": "ipython",
    "version": 3
   },
   "file_extension": ".py",
   "mimetype": "text/x-python",
   "name": "python",
   "nbconvert_exporter": "python",
   "pygments_lexer": "ipython3",
   "version": "3.10.6"
  }
 },
 "nbformat": 4,
 "nbformat_minor": 5
}
