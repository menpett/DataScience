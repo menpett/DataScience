{
 "cells": [
  {
   "cell_type": "markdown",
   "id": "66af8ea0",
   "metadata": {},
   "source": [
    "### Librerias:"
   ]
  },
  {
   "cell_type": "code",
   "execution_count": 1,
   "id": "af35f992",
   "metadata": {},
   "outputs": [],
   "source": [
    "import pandas as pd\n",
    "import numpy as np"
   ]
  },
  {
   "cell_type": "markdown",
   "id": "62b15164",
   "metadata": {},
   "source": [
    "# EJERCICIO 1\n",
    "\n",
    "    \n",
    "    Crea una matriz con ayuda numpy:\n",
    "\n",
    "        1) Cuya matriz contenga 4 filas por 4 columnas de ceros\n",
    "\n",
    "        2) Apartir de la matriz de ceros crea la matriz identidad"
   ]
  },
  {
   "cell_type": "code",
   "execution_count": 7,
   "id": "987897ae",
   "metadata": {},
   "outputs": [],
   "source": [
    "matriz_0 = np.zeros((4,4))"
   ]
  },
  {
   "cell_type": "markdown",
   "id": "ae5c512c",
   "metadata": {},
   "source": [
    "    \n",
    "    Crea una matriz con ayuda numpy:\n",
    "\n",
    "        1) Cuya matriz contenga 4 filas por 4 columnas de ceros\n",
    "\n",
    "        2) Apartir de la matriz de ceros crea la matriz identidad"
   ]
  },
  {
   "cell_type": "code",
   "execution_count": 8,
   "id": "4b1ab700",
   "metadata": {},
   "outputs": [
    {
     "data": {
      "text/plain": [
       "array([[0., 0., 0., 0.],\n",
       "       [0., 0., 0., 0.],\n",
       "       [0., 0., 0., 0.],\n",
       "       [0., 0., 0., 0.]])"
      ]
     },
     "execution_count": 8,
     "metadata": {},
     "output_type": "execute_result"
    }
   ],
   "source": [
    "matriz_0"
   ]
  },
  {
   "cell_type": "code",
   "execution_count": 9,
   "id": "e0c60303",
   "metadata": {},
   "outputs": [
    {
     "data": {
      "text/plain": [
       "array([[1., 0., 0., 0.],\n",
       "       [0., 1., 0., 0.],\n",
       "       [0., 0., 1., 0.],\n",
       "       [0., 0., 0., 1.]])"
      ]
     },
     "execution_count": 9,
     "metadata": {},
     "output_type": "execute_result"
    }
   ],
   "source": [
    "for i,j in enumerate(matriz_0):\n",
    "    for i1,j1 in enumerate(matriz_0):\n",
    "        if i==i1:\n",
    "            matriz_0[i][i1]= 1\n",
    "matriz_0"
   ]
  },
  {
   "cell_type": "markdown",
   "id": "73e9b880",
   "metadata": {},
   "source": [
    "# EJERCICIO 2\n",
    "\n",
    "    Crea una matriz con ayuda numpy:\n",
    "\n",
    "        Primera fila contenga: 3, 6, 8\n",
    "        Segunda fila contenga: 20, 5, 7\n",
    "        Tercera fila contenga: 10, 14, 1"
   ]
  },
  {
   "cell_type": "code",
   "execution_count": 11,
   "id": "ab104678",
   "metadata": {},
   "outputs": [
    {
     "data": {
      "text/plain": [
       "array([[ 3,  6,  8],\n",
       "       [20,  5,  7],\n",
       "       [10, 14,  1]])"
      ]
     },
     "execution_count": 11,
     "metadata": {},
     "output_type": "execute_result"
    }
   ],
   "source": [
    "matriz_1 = np.array([\n",
    "    [3, 6, 8],\n",
    "    [20, 5, 7],\n",
    "    [10, 14, 1]\n",
    "])\n",
    "matriz_1"
   ]
  },
  {
   "cell_type": "code",
   "execution_count": 13,
   "id": "d1bc1c65",
   "metadata": {},
   "outputs": [
    {
     "data": {
      "text/plain": [
       "array([[ 3, 20, 10],\n",
       "       [ 6,  5, 14],\n",
       "       [ 8,  7,  1]])"
      ]
     },
     "execution_count": 13,
     "metadata": {},
     "output_type": "execute_result"
    }
   ],
   "source": [
    "matriz_2 = matriz_1.T\n",
    "matriz_2 "
   ]
  },
  {
   "cell_type": "code",
   "execution_count": 15,
   "id": "4e28cfed",
   "metadata": {},
   "outputs": [
    {
     "data": {
      "text/plain": [
       "array([[ 3, 20, 10],\n",
       "       [ 6,  5, 14],\n",
       "       [ 8,  7,  1]])"
      ]
     },
     "execution_count": 15,
     "metadata": {},
     "output_type": "execute_result"
    }
   ],
   "source": [
    "matriz_22 = np.transpose(matriz_1)\n",
    "matriz_22"
   ]
  },
  {
   "cell_type": "code",
   "execution_count": 17,
   "id": "5c20471f",
   "metadata": {},
   "outputs": [
    {
     "data": {
      "text/plain": [
       "(3, 3)"
      ]
     },
     "execution_count": 17,
     "metadata": {},
     "output_type": "execute_result"
    }
   ],
   "source": [
    "matriz_1.shape"
   ]
  },
  {
   "cell_type": "code",
   "execution_count": 18,
   "id": "b846cc61",
   "metadata": {},
   "outputs": [
    {
     "data": {
      "text/plain": [
       "9"
      ]
     },
     "execution_count": 18,
     "metadata": {},
     "output_type": "execute_result"
    }
   ],
   "source": [
    "matriz_1.size"
   ]
  },
  {
   "cell_type": "code",
   "execution_count": 19,
   "id": "d869a6b4",
   "metadata": {},
   "outputs": [
    {
     "data": {
      "text/plain": [
       "False"
      ]
     },
     "execution_count": 19,
     "metadata": {},
     "output_type": "execute_result"
    }
   ],
   "source": [
    "np.all(matriz_1<0)"
   ]
  },
  {
   "cell_type": "code",
   "execution_count": 20,
   "id": "f8aadf71",
   "metadata": {},
   "outputs": [
    {
     "data": {
      "text/plain": [
       "True"
      ]
     },
     "execution_count": 20,
     "metadata": {},
     "output_type": "execute_result"
    }
   ],
   "source": [
    "np.any(matriz_1>10)"
   ]
  },
  {
   "cell_type": "code",
   "execution_count": 21,
   "id": "64311368",
   "metadata": {},
   "outputs": [
    {
     "data": {
      "text/plain": [
       "array([ 1.  ,  5.75, 10.5 , 15.25, 20.  ])"
      ]
     },
     "execution_count": 21,
     "metadata": {},
     "output_type": "execute_result"
    }
   ],
   "source": [
    "np.linspace(matriz_1.min(), matriz_1.max(),5)"
   ]
  },
  {
   "cell_type": "code",
   "execution_count": 22,
   "id": "7481dedf",
   "metadata": {},
   "outputs": [
    {
     "name": "stdout",
     "output_type": "stream",
     "text": [
      "La matriz contiene el valor 7\n"
     ]
    }
   ],
   "source": [
    "if (7 in matriz_1)== True:\n",
    "    print('La matriz contiene el valor 7')\n",
    "else:\n",
    "    print('La matriz NO contiene el valor 7')"
   ]
  },
  {
   "cell_type": "code",
   "execution_count": 23,
   "id": "bbef081d",
   "metadata": {},
   "outputs": [
    {
     "data": {
      "text/plain": [
       "array([ 3,  6,  8, 20,  5,  7, 10, 14,  1])"
      ]
     },
     "execution_count": 23,
     "metadata": {},
     "output_type": "execute_result"
    }
   ],
   "source": [
    "matriz_3 = np.ravel(matriz_1)\n",
    "matriz_3"
   ]
  },
  {
   "cell_type": "code",
   "execution_count": 31,
   "id": "850eff44",
   "metadata": {},
   "outputs": [
    {
     "data": {
      "text/plain": [
       "array([ 3.,  6.,  8., 20.,  5.,  7., 10., 14.,  1.])"
      ]
     },
     "execution_count": 31,
     "metadata": {},
     "output_type": "execute_result"
    }
   ],
   "source": [
    "matriz_4 = np.array([])\n",
    "for i in matriz_1:\n",
    "    for j in i:\n",
    "        matriz_4 = np.append(matriz_4,j)\n",
    "\n",
    "matriz_4"
   ]
  },
  {
   "cell_type": "code",
   "execution_count": 34,
   "id": "b908c8be",
   "metadata": {},
   "outputs": [
    {
     "data": {
      "text/plain": [
       "array([  27,  216,  512, 8000,  125,  343, 1000, 2744,    1], dtype=int32)"
      ]
     },
     "execution_count": 34,
     "metadata": {},
     "output_type": "execute_result"
    }
   ],
   "source": [
    "matriz_5 = matriz_1.flatten()\n",
    "matriz_5 = pow(matriz_5,3)\n",
    "matriz_5"
   ]
  }
 ],
 "metadata": {
  "kernelspec": {
   "display_name": "Python 3 (ipykernel)",
   "language": "python",
   "name": "python3"
  },
  "language_info": {
   "codemirror_mode": {
    "name": "ipython",
    "version": 3
   },
   "file_extension": ".py",
   "mimetype": "text/x-python",
   "name": "python",
   "nbconvert_exporter": "python",
   "pygments_lexer": "ipython3",
   "version": "3.10.6"
  }
 },
 "nbformat": 4,
 "nbformat_minor": 5
}
