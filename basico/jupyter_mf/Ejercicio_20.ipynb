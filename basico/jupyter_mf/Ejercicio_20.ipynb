{
 "cells": [
  {
   "cell_type": "markdown",
   "id": "a31f7543",
   "metadata": {},
   "source": [
    " Basándote en la teoría explicada en clase sobre Python realiza los siguientes ejercicios"
   ]
  },
  {
   "cell_type": "markdown",
   "id": "186ffc3d",
   "metadata": {},
   "source": [
    "# EJERCICIO 1\n",
    "\n",
    "    Definir una función generar_n_caracteres() que tome un entero n\n",
    "    y devuelva el caracter multiplicado por n.\n",
    "    Por ejemplo: generar_n_caracteres(5, \"x\") debería devolver \"xxxxx\"."
   ]
  },
  {
   "cell_type": "code",
   "execution_count": 2,
   "id": "73ac94c1",
   "metadata": {},
   "outputs": [],
   "source": [
    "def generar_n_caracteres(n):\n",
    "    return f\"El carácter es: {n*'x'}\"    "
   ]
  },
  {
   "cell_type": "code",
   "execution_count": 3,
   "id": "91ceebda",
   "metadata": {},
   "outputs": [
    {
     "data": {
      "text/plain": [
       "'El caracter es: xxxxx'"
      ]
     },
     "execution_count": 3,
     "metadata": {},
     "output_type": "execute_result"
    }
   ],
   "source": [
    "generar_n_caracteres(5)"
   ]
  },
  {
   "cell_type": "markdown",
   "id": "a4a5b839",
   "metadata": {},
   "source": [
    "# EJERCICIO 2\n",
    "\n",
    "    Definir un diagrama procedimiento() que tome una lista de números enteros\n",
    "    e imprima un diagrama en la pantalla. Ejemplo: procedimiento([4, 9, 7])\n",
    "    debería imprimir lo siguiente:"
   ]
  },
  {
   "cell_type": "code",
   "execution_count": 12,
   "id": "0373b84e",
   "metadata": {},
   "outputs": [],
   "source": [
    "def procedimiento(lista):\n",
    "    for i in lista:\n",
    "        print(generar_n_caracteres(i))\n",
    "        "
   ]
  },
  {
   "cell_type": "code",
   "execution_count": 13,
   "id": "b1beb0f3",
   "metadata": {},
   "outputs": [
    {
     "name": "stdout",
     "output_type": "stream",
     "text": [
      "El caracter es: xxxx\n",
      "El caracter es: xxxxxxxxx\n",
      "El caracter es: xxxxxxx\n"
     ]
    }
   ],
   "source": [
    "procedimiento([4, 9, 7])"
   ]
  },
  {
   "cell_type": "markdown",
   "id": "9798cf3d",
   "metadata": {},
   "source": [
    "# EJERCICIO 3\n",
    "\n",
    "    Escribir una función mas_larga() que tome una lista de palabras y devuelva la mas larga."
   ]
  },
  {
   "cell_type": "code",
   "execution_count": 22,
   "id": "4d9d6974",
   "metadata": {},
   "outputs": [],
   "source": [
    "def mas_larga(lista):\n",
    "    n_letras = []\n",
    "    for i in lista:\n",
    "        n = len(i)\n",
    "        n_letras = n_letras.append(n)\n",
    "        print(n_letras)\n",
    "        \n",
    "    index = n_letras.index(max(n_letras))\n",
    "    \n",
    "    return f'La palabra más larga es {lista[index]}'\n",
    "        \n",
    "        "
   ]
  },
  {
   "cell_type": "code",
   "execution_count": 23,
   "id": "d61c587a",
   "metadata": {},
   "outputs": [
    {
     "name": "stdout",
     "output_type": "stream",
     "text": [
      "None\n"
     ]
    },
    {
     "ename": "AttributeError",
     "evalue": "'NoneType' object has no attribute 'append'",
     "output_type": "error",
     "traceback": [
      "\u001b[1;31m---------------------------------------------------------------------------\u001b[0m",
      "\u001b[1;31mAttributeError\u001b[0m                            Traceback (most recent call last)",
      "Input \u001b[1;32mIn [23]\u001b[0m, in \u001b[0;36m<cell line: 1>\u001b[1;34m()\u001b[0m\n\u001b[1;32m----> 1\u001b[0m \u001b[43mmas_larga\u001b[49m\u001b[43m(\u001b[49m\u001b[43m[\u001b[49m\u001b[38;5;124;43m\"\u001b[39;49m\u001b[38;5;124;43mcoche\u001b[39;49m\u001b[38;5;124;43m\"\u001b[39;49m\u001b[43m,\u001b[49m\u001b[43m \u001b[49m\u001b[38;5;124;43m\"\u001b[39;49m\u001b[38;5;124;43mtortuga\u001b[39;49m\u001b[38;5;124;43m\"\u001b[39;49m\u001b[43m,\u001b[49m\u001b[43m \u001b[49m\u001b[38;5;124;43m\"\u001b[39;49m\u001b[38;5;124;43mbici\u001b[39;49m\u001b[38;5;124;43m\"\u001b[39;49m\u001b[43m]\u001b[49m\u001b[43m)\u001b[49m\n",
      "Input \u001b[1;32mIn [22]\u001b[0m, in \u001b[0;36mmas_larga\u001b[1;34m(lista)\u001b[0m\n\u001b[0;32m      3\u001b[0m \u001b[38;5;28;01mfor\u001b[39;00m i \u001b[38;5;129;01min\u001b[39;00m lista:\n\u001b[0;32m      4\u001b[0m     n \u001b[38;5;241m=\u001b[39m \u001b[38;5;28mlen\u001b[39m(i)\n\u001b[1;32m----> 5\u001b[0m     n_letras \u001b[38;5;241m=\u001b[39m \u001b[43mn_letras\u001b[49m\u001b[38;5;241;43m.\u001b[39;49m\u001b[43mappend\u001b[49m(n)\n\u001b[0;32m      6\u001b[0m     \u001b[38;5;28mprint\u001b[39m(n_letras)\n\u001b[0;32m      8\u001b[0m index \u001b[38;5;241m=\u001b[39m n_letras\u001b[38;5;241m.\u001b[39mindex(\u001b[38;5;28mmax\u001b[39m(n_letras))\n",
      "\u001b[1;31mAttributeError\u001b[0m: 'NoneType' object has no attribute 'append'"
     ]
    }
   ],
   "source": [
    "mas_larga([\"coche\", \"tortuga\", \"bici\"])"
   ]
  },
  {
   "cell_type": "markdown",
   "id": "afe0f367",
   "metadata": {},
   "source": [
    "# EJERCICIO 4\n",
    "\n",
    "    Escribir una función filtrar_palabras() que tome una lista de palabras y un entero n,\n",
    "    y devuelva las palabras que tengan mas de n caracteres."
   ]
  },
  {
   "cell_type": "markdown",
   "id": "a4c37054",
   "metadata": {},
   "source": [
    "# EJERCICIO 5\n",
    "\n",
    "    Escribir un programa que ingrese una cadena de texto.\n",
    "    El programa tiene que evaluar la cadena y decir cuantas letras mayúsculas tiene."
   ]
  },
  {
   "cell_type": "markdown",
   "id": "5ef89868",
   "metadata": {},
   "source": [
    "# EJERCICIO 6\n",
    "\n",
    "    Definir una tupla con 10 edades de personas.\n",
    "        * Imprimir la cantidad de personas con edades superiores a 20."
   ]
  },
  {
   "cell_type": "markdown",
   "id": "3f906167",
   "metadata": {},
   "source": [
    "# EJERCICIO 7\n",
    "\n",
    "    Definir una lista con un conjunto de nombres, imprimir la cantidad de comienzan con la letra a.\n",
    "    También se puede hacer elegir al usuario la letra a buscar.  (Un poco mas emocionante)"
   ]
  },
  {
   "cell_type": "markdown",
   "id": "f9d784ee",
   "metadata": {},
   "source": [
    "# EJERCICIO 8\n",
    "\n",
    "    Crear una función contar_vocales(),\n",
    "    que reciba una palabra y cuente cuantas letras \"a\" tiene,\n",
    "    cuantas letras \"e\" tiene y así hasta completar todas las vocales.\n",
    "    Se puede hacer que el usuario sea quien elija la palabra."
   ]
  },
  {
   "cell_type": "code",
   "execution_count": null,
   "id": "f4934881",
   "metadata": {},
   "outputs": [],
   "source": []
  }
 ],
 "metadata": {
  "kernelspec": {
   "display_name": "Python 3 (ipykernel)",
   "language": "python",
   "name": "python3"
  },
  "language_info": {
   "codemirror_mode": {
    "name": "ipython",
    "version": 3
   },
   "file_extension": ".py",
   "mimetype": "text/x-python",
   "name": "python",
   "nbconvert_exporter": "python",
   "pygments_lexer": "ipython3",
   "version": "3.10.6"
  }
 },
 "nbformat": 4,
 "nbformat_minor": 5
}
