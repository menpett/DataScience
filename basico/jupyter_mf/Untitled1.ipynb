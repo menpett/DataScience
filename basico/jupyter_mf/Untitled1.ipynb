{
 "cells": [
  {
   "cell_type": "code",
   "execution_count": 2,
   "id": "a5934cc5",
   "metadata": {},
   "outputs": [],
   "source": [
    "import numpy as np"
   ]
  },
  {
   "cell_type": "markdown",
   "id": "fd070322",
   "metadata": {},
   "source": [
    "# EJERCICIO 1\n",
    "\n",
    "\n",
    "    Dado: \"np.arange(2,10)\" sigue los siguientes pasos:\n",
    "    \n",
    "    \n",
    "        1) Escribe esa instrucción y asígnaselo a la variable \"a\"\n",
    "\n",
    "\n",
    "        2) ¿Es equivalente a \"np.arange(2,10,1)\"?\n",
    "\n",
    "        3) Se pide quedarse con aquellos números menores de 5.\n",
    "\n",
    "            hazlo con numpy si puedes para la variable \"a\"\n",
    "\n",
    "        4) Hazlo pasando esa información (de \"a\") a una lista\n",
    "\n",
    "        5) En base a los resultados..\n",
    "\n",
    "            ¿Es posible recorrer 1 a 1 un array de numpy?\n",
    "\n",
    "        6) Haz el mismo proceso programando una sola línea (toma \"a\" como referencia)\n"
   ]
  },
  {
   "cell_type": "code",
   "execution_count": 3,
   "id": "7cc88eaa",
   "metadata": {},
   "outputs": [
    {
     "data": {
      "text/plain": [
       "array([2, 3, 4, 5, 6, 7, 8, 9])"
      ]
     },
     "execution_count": 3,
     "metadata": {},
     "output_type": "execute_result"
    }
   ],
   "source": [
    "a = np.arange(2,10)\n",
    "a"
   ]
  },
  {
   "cell_type": "code",
   "execution_count": null,
   "id": "2056d7b5",
   "metadata": {},
   "outputs": [],
   "source": []
  }
 ],
 "metadata": {
  "kernelspec": {
   "display_name": "Python 3 (ipykernel)",
   "language": "python",
   "name": "python3"
  },
  "language_info": {
   "codemirror_mode": {
    "name": "ipython",
    "version": 3
   },
   "file_extension": ".py",
   "mimetype": "text/x-python",
   "name": "python",
   "nbconvert_exporter": "python",
   "pygments_lexer": "ipython3",
   "version": "3.10.7"
  }
 },
 "nbformat": 4,
 "nbformat_minor": 5
}
