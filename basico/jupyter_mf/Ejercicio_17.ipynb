{
 "cells": [
  {
   "cell_type": "markdown",
   "id": "388deb7d",
   "metadata": {},
   "source": [
    "# EJERCICIO 1\n",
    "\n",
    "        Crea la clase \"matematicas\" y dentro de esa clase crea las funciones suma y resta,\n",
    "        en dichas funciones nos deberán devolver el resultado de la suma y de la resta, siguiendo los siguientes pasos:\n",
    "\n",
    "    Crea la clase matematicas\n",
    "    crea la funcion suma en la cual se le pase un valor (x):\n",
    "              y = 10 + x\n",
    "              retornar el resultado\n",
    "    crea la funcion resta en la cual se le pase un valor(x):\n",
    "              y = 10- x\n",
    "              retornar el resultado\n",
    "    Imprime el resultado de la función suma y de la funcion resta para un valor de x = 5, x = 10"
   ]
  },
  {
   "cell_type": "code",
   "execution_count": 3,
   "id": "01952e7d",
   "metadata": {},
   "outputs": [],
   "source": [
    "class matematicas:\n",
    "        def suma(x):\n",
    "            return 10 + x\n",
    "        def resta(x):\n",
    "            return 10 - x\n",
    "    "
   ]
  },
  {
   "cell_type": "code",
   "execution_count": 4,
   "id": "77f5fdd4",
   "metadata": {},
   "outputs": [
    {
     "data": {
      "text/plain": [
       "15"
      ]
     },
     "execution_count": 4,
     "metadata": {},
     "output_type": "execute_result"
    }
   ],
   "source": [
    "matematicas.suma(5)"
   ]
  },
  {
   "cell_type": "code",
   "execution_count": 5,
   "id": "270792b8",
   "metadata": {},
   "outputs": [
    {
     "data": {
      "text/plain": [
       "5"
      ]
     },
     "execution_count": 5,
     "metadata": {},
     "output_type": "execute_result"
    }
   ],
   "source": [
    "matematicas.resta(5)"
   ]
  },
  {
   "cell_type": "code",
   "execution_count": 4,
   "id": "5e5cd5b5",
   "metadata": {},
   "outputs": [
    {
     "data": {
      "text/plain": [
       "15"
      ]
     },
     "execution_count": 4,
     "metadata": {},
     "output_type": "execute_result"
    }
   ],
   "source": [
    "matematicas.suma(10)"
   ]
  },
  {
   "cell_type": "code",
   "execution_count": 6,
   "id": "8a6d88ff",
   "metadata": {},
   "outputs": [
    {
     "data": {
      "text/plain": [
       "0"
      ]
     },
     "execution_count": 6,
     "metadata": {},
     "output_type": "execute_result"
    }
   ],
   "source": [
    "matematicas.resta(10)"
   ]
  },
  {
   "cell_type": "markdown",
   "id": "34740996",
   "metadata": {},
   "source": [
    "# EJERCICIO 2\n",
    "\n",
    "        Crea dos clases una llamala \"libros\" y otra clase \"materias\".\n",
    "        A la clase libros declara una función con nombre \"tipos\" y dentro de clase materias declara una función con nombre \"asignaturas\".\n",
    "        A la función tipos retorne el valor name = \"Data Science\" y la función asignaturas retorne nombre = \"Big Data\"\n",
    "\n",
    "    1) Prueba a retornar el resultados de la clase libros y la función tipos\n",
    "\n",
    "    2) Prueba a retornar el resultados de la clase materias y la función asignaturas\n",
    "\n",
    "    3) Prueba a retornar el resultados de la clase materias y la función tipos\n",
    "        ¿ Qué es lo que observas ?"
   ]
  },
  {
   "cell_type": "code",
   "execution_count": 10,
   "id": "b4d306f4",
   "metadata": {},
   "outputs": [],
   "source": [
    "class libros:\n",
    "    def tipos():\n",
    "        return \"Data Science\"\n"
   ]
  },
  {
   "cell_type": "code",
   "execution_count": 11,
   "id": "9f1b814d",
   "metadata": {},
   "outputs": [],
   "source": [
    "class materias:\n",
    "    def asignaturas():\n",
    "        return \"Big Data\""
   ]
  },
  {
   "cell_type": "code",
   "execution_count": 12,
   "id": "32288525",
   "metadata": {},
   "outputs": [
    {
     "data": {
      "text/plain": [
       "'Data Science'"
      ]
     },
     "execution_count": 12,
     "metadata": {},
     "output_type": "execute_result"
    }
   ],
   "source": [
    "libros.tipos()"
   ]
  },
  {
   "cell_type": "code",
   "execution_count": 13,
   "id": "6dedae07",
   "metadata": {},
   "outputs": [
    {
     "data": {
      "text/plain": [
       "'Big Data'"
      ]
     },
     "execution_count": 13,
     "metadata": {},
     "output_type": "execute_result"
    }
   ],
   "source": [
    "materias.asignaturas()"
   ]
  },
  {
   "cell_type": "code",
   "execution_count": 14,
   "id": "ac9d47a7",
   "metadata": {},
   "outputs": [
    {
     "ename": "AttributeError",
     "evalue": "type object 'materias' has no attribute 'tipos'",
     "output_type": "error",
     "traceback": [
      "\u001b[1;31m---------------------------------------------------------------------------\u001b[0m",
      "\u001b[1;31mAttributeError\u001b[0m                            Traceback (most recent call last)",
      "Input \u001b[1;32mIn [14]\u001b[0m, in \u001b[0;36m<cell line: 1>\u001b[1;34m()\u001b[0m\n\u001b[1;32m----> 1\u001b[0m \u001b[43mmaterias\u001b[49m\u001b[38;5;241;43m.\u001b[39;49m\u001b[43mtipos\u001b[49m()\n",
      "\u001b[1;31mAttributeError\u001b[0m: type object 'materias' has no attribute 'tipos'"
     ]
    }
   ],
   "source": [
    "materias.tipos()"
   ]
  },
  {
   "cell_type": "code",
   "execution_count": 16,
   "id": "a8920503",
   "metadata": {},
   "outputs": [],
   "source": [
    "class materias(libros):\n",
    "    def asignaturas():\n",
    "        return \"Big Data\""
   ]
  },
  {
   "cell_type": "code",
   "execution_count": 17,
   "id": "b2c43d12",
   "metadata": {},
   "outputs": [
    {
     "data": {
      "text/plain": [
       "'Data Science'"
      ]
     },
     "execution_count": 17,
     "metadata": {},
     "output_type": "execute_result"
    }
   ],
   "source": [
    "materias.tipos()"
   ]
  },
  {
   "cell_type": "code",
   "execution_count": null,
   "id": "164a8a4c",
   "metadata": {},
   "outputs": [],
   "source": []
  }
 ],
 "metadata": {
  "kernelspec": {
   "display_name": "Python 3 (ipykernel)",
   "language": "python",
   "name": "python3"
  },
  "language_info": {
   "codemirror_mode": {
    "name": "ipython",
    "version": 3
   },
   "file_extension": ".py",
   "mimetype": "text/x-python",
   "name": "python",
   "nbconvert_exporter": "python",
   "pygments_lexer": "ipython3",
   "version": "3.10.6"
  }
 },
 "nbformat": 4,
 "nbformat_minor": 5
}
