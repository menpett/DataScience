{
 "cells": [
  {
   "cell_type": "markdown",
   "id": "b2433727",
   "metadata": {},
   "source": [
    "# EJERCICIO 1\n",
    "    \n",
    "        Mínimo de una lista de números (lista de nombre \"listado\"): 30, 20, 10, 50, 40\n",
    "        \n",
    "        1) Escribe el listado e ímprimelo\n",
    "        2) Prueba con min(listado)\n",
    "        3) Realiza lo mismo pero con bucles y condicionales\n",
    "        "
   ]
  },
  {
   "cell_type": "code",
   "execution_count": 63,
   "id": "9ee8291a",
   "metadata": {},
   "outputs": [],
   "source": [
    "listado = [30, 20, 10, 50, 40]"
   ]
  },
  {
   "cell_type": "code",
   "execution_count": 64,
   "id": "c937cb39",
   "metadata": {},
   "outputs": [
    {
     "data": {
      "text/plain": [
       "10"
      ]
     },
     "execution_count": 64,
     "metadata": {},
     "output_type": "execute_result"
    }
   ],
   "source": [
    "min(listado)"
   ]
  },
  {
   "cell_type": "code",
   "execution_count": 66,
   "id": "721c6962",
   "metadata": {},
   "outputs": [
    {
     "name": "stdout",
     "output_type": "stream",
     "text": [
      "0 30\n",
      "1 20\n",
      "2 10\n",
      "3 50\n",
      "4 40\n"
     ]
    }
   ],
   "source": [
    "listado1 = []\n",
    "for i,j in enumerate(listado):\n",
    "    if j <= listado[i+1]:\n",
    "        listado1.append(j)\n",
    "listado1 "
   ]
  },
  {
   "cell_type": "markdown",
   "id": "6d6d3d02",
   "metadata": {},
   "source": [
    "\n",
    "# EJERCICIO 2\n",
    "\n",
    "    Máximo de una lista de números (lista de nombre \"listado\"): 30, 20, 10, 50, 40\n",
    "\n",
    "    1) Escribe el listado e ímprimelo\n",
    "\n",
    "    2) Prueba con max(listado)\n",
    "\n",
    "    3) Realiza lo mismo pero con bucles y condicionales"
   ]
  },
  {
   "cell_type": "markdown",
   "id": "dffa2a59",
   "metadata": {},
   "source": [
    "# EJERCICIO 3\n",
    "\n",
    "    Ordena de menor a mayor un listado de números: 30, 20, 10, 50, 40 (de nombre \"listado\")\n",
    "\n",
    "    Pista: si quieres almacena esos números en una lista de nombre: \"listado_ascendente\"\n",
    "\n",
    "    1) Escribe el listado e ímprimelo\n",
    "\n",
    "    2) Prueba a usar sort()\n",
    "\n",
    "    3) Realiza lo mismo pero con bucles y condicionales"
   ]
  },
  {
   "cell_type": "markdown",
   "id": "80c68556",
   "metadata": {},
   "source": [
    "# EJERCICIO 4\n",
    "\n",
    "    Ordena de mayor a menor un listado de números: 30, 20, 10, 50, 40 (de nombre \"listado\")\n",
    "\n",
    "    1) Escribe el listado e ímprimelo\n",
    "\n",
    "    2) Prueba a usar sort()\n",
    "\n",
    "    3) Realiza lo mismo pero con bucles y condicionales"
   ]
  },
  {
   "cell_type": "markdown",
   "id": "4a7fe395",
   "metadata": {},
   "source": [
    "# EJERCICIO 5\n",
    "\n",
    "    Escribe el código necesario en Python para:\n",
    "    * almacenar con una lista de nombre \"módulos\" las siguientes materias de un programa de Ciencia de Datos:\n",
    "    Big Data, Python, Algoritmos, Machine Learning, Deep Learning, NLP.\n",
    "\n",
    "    1) Para ese listado imprime todas ellas, 1 a 1\n",
    "\n",
    "    2) dentro de ese grupo de materias, existen unas materias que son básicas en todos los programas.\n",
    "    y que forman la base de conocimientos iniciales para afrontar con éxito el resto de un programa.\n",
    "    Las mismas son: Python y Algoritmos (aunque en la práctica hay más cosas)\n",
    "    Se pide almacenar las mismas en un listado secundario, de nombre: \"esenciales\" (por ejemplo)\n",
    "    Imprime ese listado al terminar de almacenarlos.\n",
    "\n",
    "    3) Crea un DataFrame, de nombre df con esa información en base\n",
    "    a la siguiente relación de módulos y horas de clase módulos:\n",
    "    Big Data, Python, Algoritmos, Machine Learning, Deep Learning, NLP\n",
    "    horas: 25, 15, 5, 15, 5, 10\"\"\"\n",
    "\n",
    "    4) De ese DataFrame, selecciona solamente la columna \"horas\" e imprímela\n",
    "\n",
    "    5) Muestra el gráfico (plot) para la columna \"horas\"\n",
    "\n",
    "    6) De ese DataFrame, selecciona solamente aquellas materias que tienen 20 o más horas de dedicación\n",
    "\n",
    "    7) De ese DataFrame, selecciona solamente aquellas materias que tienen menos de 10 horas de dedicación\n",
    "\n",
    "    8) De ese DataFrame, selecciona solamente (si fuera posible)\n",
    "        aquellas materias que tienen mas de 26 horas de dedicación\n",
    "        \n",
    "    9) Apendiza, (si puedes), una nueva columna llamada \"docente\" con el instructor encargado de la materia.\n",
    "        Y cuyos nombres serán: Enrique, Susana, Juan, Ana, Laura, Patricia"
   ]
  }
 ],
 "metadata": {
  "kernelspec": {
   "display_name": "Python 3 (ipykernel)",
   "language": "python",
   "name": "python3"
  },
  "language_info": {
   "codemirror_mode": {
    "name": "ipython",
    "version": 3
   },
   "file_extension": ".py",
   "mimetype": "text/x-python",
   "name": "python",
   "nbconvert_exporter": "python",
   "pygments_lexer": "ipython3",
   "version": "3.10.6"
  }
 },
 "nbformat": 4,
 "nbformat_minor": 5
}
