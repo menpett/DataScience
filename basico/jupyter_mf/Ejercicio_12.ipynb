{
 "cells": [
  {
   "cell_type": "code",
   "execution_count": 1,
   "id": "343224cd",
   "metadata": {},
   "outputs": [],
   "source": [
    "import pandas as pd\n",
    "import numpy as np"
   ]
  },
  {
   "cell_type": "markdown",
   "id": "442e8018",
   "metadata": {},
   "source": [
    "# EJERCICIO 1\n",
    "\n",
    "    1) Haz un programa que calcule los múltiplos de 3\n",
    "    Para ello primero debe preguntarse al usuario cuántos múltiplos desea añadir.\n",
    "    Nota: Puedes usar un bucle while si lo deseas\n",
    "\n",
    "\n",
    "    2) Haz lo mismo con np.arange\n"
   ]
  },
  {
   "cell_type": "code",
   "execution_count": 8,
   "id": "c10ae05f",
   "metadata": {},
   "outputs": [],
   "source": [
    "def num_multiplo():\n",
    "    multiplo,n = 0,1\n",
    "    num_mul = int(input('cuántos múltiplos desea añadir:...'))\n",
    "    \n",
    "    while n <= num_mul:\n",
    "        multiplo = multiplo + 3\n",
    "        print(multiplo)          \n",
    "        \n",
    "        n += 1\n",
    "        "
   ]
  },
  {
   "cell_type": "code",
   "execution_count": 9,
   "id": "c00d5ed1",
   "metadata": {},
   "outputs": [
    {
     "name": "stdout",
     "output_type": "stream",
     "text": [
      "cuántos múltiplos desea añadir:...3\n",
      "3\n",
      "6\n",
      "9\n"
     ]
    }
   ],
   "source": [
    "num_multiplo()"
   ]
  },
  {
   "cell_type": "code",
   "execution_count": 14,
   "id": "a081b302",
   "metadata": {},
   "outputs": [],
   "source": [
    "def num_multiplo1():\n",
    "    num_mul = int(input('cuántos múltiplos desea añadir:...'))\n",
    "    multiplos_3 = np.arange(3,(num_mul*3)+1,3)\n",
    "    return f'Los multiplos de 3 en array {multiplos_3}', multiplos_3"
   ]
  },
  {
   "cell_type": "code",
   "execution_count": 15,
   "id": "04b45a20",
   "metadata": {},
   "outputs": [
    {
     "name": "stdout",
     "output_type": "stream",
     "text": [
      "cuántos múltiplos desea añadir:...3\n"
     ]
    },
    {
     "data": {
      "text/plain": [
       "('Los multiplos de 3 en array [3 6 9]', array([3, 6, 9]))"
      ]
     },
     "execution_count": 15,
     "metadata": {},
     "output_type": "execute_result"
    }
   ],
   "source": [
    "num_multiplo1()"
   ]
  },
  {
   "cell_type": "markdown",
   "id": "369db10c",
   "metadata": {},
   "source": [
    "# EJERCICIO 2\n",
    "\n",
    "    Dado el listado del apartado 2\n",
    "    Dada esta lista de variable \"listado\" y \"valores\": 10, 10, 20, 20, 20, 30, 40\n",
    "    Se pide:\n",
    "\n",
    "\n",
    "    1) Crea un DataFrame con esa información e imprímelo\n",
    "\n",
    "\n",
    "    2) Usa value_counts() para determinar cuántas repeticiones hay de cada número en esa columna\n",
    "\n",
    "\n",
    "    3) Haz un \".shape\" a esa información del value_counts()\n",
    "\n",
    "        NOTA: Escribe: .shape justo al final\n",
    "\n",
    "\n",
    "    4) A esa misma instrucción con value_counts() escribe al final \".values\"\n",
    "\n",
    "        Y veras la información..\n",
    "\n",
    "        pasa esa información a lista si puedes\n",
    "\n",
    "        y guarda ese listado como \"repeticiones\"\n",
    "\n",
    "\n",
    "    5) A esa información de value_counts() añade al final \".index\"\n",
    "\n",
    "        Y pasa posteriormente a lista esa información\n",
    "\n",
    "        y guarda ese listado con el nombre: \"valores\"\n",
    "\n",
    "\n",
    "    6) Crea un DataFrame con 2 columnas,\n",
    "\n",
    "        1 para \"valores\"\n",
    "\n",
    "        1 para \"repeticiones\"\n",
    "\n",
    "        llámalo: \"df_value_counts\" (por ejemplo)\n",
    "\n",
    "        Y observa..\n",
    "\n",
    "\n",
    "    7) Haz lo siguiente: \"df.value_counts()\"\n",
    "\n",
    "    8) Observa si hay diferencias entre: \"df\" y \"df_value_counts\"\n"
   ]
  },
  {
   "cell_type": "code",
   "execution_count": 19,
   "id": "0dfbf645",
   "metadata": {},
   "outputs": [
    {
     "name": "stdout",
     "output_type": "stream",
     "text": [
      "cuántos múltiplos desea añadir:...8\n"
     ]
    },
    {
     "data": {
      "text/plain": [
       "[3, 6, 9, 12, 15, 18, 21, 24]"
      ]
     },
     "execution_count": 19,
     "metadata": {},
     "output_type": "execute_result"
    }
   ],
   "source": [
    "listado = num_multiplo1()[1].tolist()\n",
    "listado "
   ]
  },
  {
   "cell_type": "code",
   "execution_count": 22,
   "id": "f9bc5f07",
   "metadata": {},
   "outputs": [
    {
     "data": {
      "text/plain": [
       "[10, 10, 20, 20, 20, 30, 40]"
      ]
     },
     "execution_count": 22,
     "metadata": {},
     "output_type": "execute_result"
    }
   ],
   "source": [
    "valores = [10, 10, 20, 20, 20, 30, 40]\n",
    "valores"
   ]
  },
  {
   "cell_type": "code",
   "execution_count": 23,
   "id": "7bd9e615",
   "metadata": {},
   "outputs": [
    {
     "data": {
      "text/html": [
       "<div>\n",
       "<style scoped>\n",
       "    .dataframe tbody tr th:only-of-type {\n",
       "        vertical-align: middle;\n",
       "    }\n",
       "\n",
       "    .dataframe tbody tr th {\n",
       "        vertical-align: top;\n",
       "    }\n",
       "\n",
       "    .dataframe thead th {\n",
       "        text-align: right;\n",
       "    }\n",
       "</style>\n",
       "<table border=\"1\" class=\"dataframe\">\n",
       "  <thead>\n",
       "    <tr style=\"text-align: right;\">\n",
       "      <th></th>\n",
       "      <th>listado</th>\n",
       "      <th>valores</th>\n",
       "    </tr>\n",
       "  </thead>\n",
       "  <tbody>\n",
       "    <tr>\n",
       "      <th>0</th>\n",
       "      <td>3</td>\n",
       "      <td>10</td>\n",
       "    </tr>\n",
       "    <tr>\n",
       "      <th>1</th>\n",
       "      <td>6</td>\n",
       "      <td>10</td>\n",
       "    </tr>\n",
       "    <tr>\n",
       "      <th>2</th>\n",
       "      <td>9</td>\n",
       "      <td>20</td>\n",
       "    </tr>\n",
       "    <tr>\n",
       "      <th>3</th>\n",
       "      <td>12</td>\n",
       "      <td>20</td>\n",
       "    </tr>\n",
       "    <tr>\n",
       "      <th>4</th>\n",
       "      <td>15</td>\n",
       "      <td>20</td>\n",
       "    </tr>\n",
       "    <tr>\n",
       "      <th>5</th>\n",
       "      <td>18</td>\n",
       "      <td>30</td>\n",
       "    </tr>\n",
       "    <tr>\n",
       "      <th>6</th>\n",
       "      <td>21</td>\n",
       "      <td>40</td>\n",
       "    </tr>\n",
       "  </tbody>\n",
       "</table>\n",
       "</div>"
      ],
      "text/plain": [
       "   listado  valores\n",
       "0        3       10\n",
       "1        6       10\n",
       "2        9       20\n",
       "3       12       20\n",
       "4       15       20\n",
       "5       18       30\n",
       "6       21       40"
      ]
     },
     "execution_count": 23,
     "metadata": {},
     "output_type": "execute_result"
    }
   ],
   "source": [
    "df = pd.DataFrame(list(zip(listado,valores)), columns = ['listado','valores'])\n",
    "df"
   ]
  },
  {
   "cell_type": "code",
   "execution_count": 26,
   "id": "f6a44528",
   "metadata": {},
   "outputs": [
    {
     "data": {
      "text/html": [
       "<div>\n",
       "<style scoped>\n",
       "    .dataframe tbody tr th:only-of-type {\n",
       "        vertical-align: middle;\n",
       "    }\n",
       "\n",
       "    .dataframe tbody tr th {\n",
       "        vertical-align: top;\n",
       "    }\n",
       "\n",
       "    .dataframe thead th {\n",
       "        text-align: right;\n",
       "    }\n",
       "</style>\n",
       "<table border=\"1\" class=\"dataframe\">\n",
       "  <thead>\n",
       "    <tr style=\"text-align: right;\">\n",
       "      <th></th>\n",
       "      <th>listado</th>\n",
       "    </tr>\n",
       "  </thead>\n",
       "  <tbody>\n",
       "    <tr>\n",
       "      <th>0</th>\n",
       "      <td>10</td>\n",
       "    </tr>\n",
       "    <tr>\n",
       "      <th>1</th>\n",
       "      <td>10</td>\n",
       "    </tr>\n",
       "    <tr>\n",
       "      <th>2</th>\n",
       "      <td>20</td>\n",
       "    </tr>\n",
       "    <tr>\n",
       "      <th>3</th>\n",
       "      <td>20</td>\n",
       "    </tr>\n",
       "    <tr>\n",
       "      <th>4</th>\n",
       "      <td>20</td>\n",
       "    </tr>\n",
       "    <tr>\n",
       "      <th>5</th>\n",
       "      <td>30</td>\n",
       "    </tr>\n",
       "    <tr>\n",
       "      <th>6</th>\n",
       "      <td>40</td>\n",
       "    </tr>\n",
       "  </tbody>\n",
       "</table>\n",
       "</div>"
      ],
      "text/plain": [
       "   listado\n",
       "0       10\n",
       "1       10\n",
       "2       20\n",
       "3       20\n",
       "4       20\n",
       "5       30\n",
       "6       40"
      ]
     },
     "execution_count": 26,
     "metadata": {},
     "output_type": "execute_result"
    }
   ],
   "source": [
    "df = pd.DataFrame(valores, columns = ['listado'])\n",
    "df"
   ]
  },
  {
   "cell_type": "code",
   "execution_count": 27,
   "id": "b97e514e",
   "metadata": {},
   "outputs": [
    {
     "data": {
      "text/plain": [
       "listado\n",
       "20         3\n",
       "10         2\n",
       "30         1\n",
       "40         1\n",
       "dtype: int64"
      ]
     },
     "execution_count": 27,
     "metadata": {},
     "output_type": "execute_result"
    }
   ],
   "source": [
    "df.value_counts()"
   ]
  },
  {
   "cell_type": "code",
   "execution_count": 28,
   "id": "7a1610e1",
   "metadata": {},
   "outputs": [
    {
     "data": {
      "text/plain": [
       "(4,)"
      ]
     },
     "execution_count": 28,
     "metadata": {},
     "output_type": "execute_result"
    }
   ],
   "source": [
    "df.value_counts().shape"
   ]
  },
  {
   "cell_type": "code",
   "execution_count": 31,
   "id": "70f904dc",
   "metadata": {},
   "outputs": [
    {
     "data": {
      "text/plain": [
       "[3, 2, 1, 1]"
      ]
     },
     "execution_count": 31,
     "metadata": {},
     "output_type": "execute_result"
    }
   ],
   "source": [
    "repeticiones = df.value_counts().values.tolist()\n",
    "repeticiones "
   ]
  },
  {
   "cell_type": "code",
   "execution_count": 32,
   "id": "03df890d",
   "metadata": {},
   "outputs": [
    {
     "data": {
      "text/plain": [
       "[(20,), (10,), (30,), (40,)]"
      ]
     },
     "execution_count": 32,
     "metadata": {},
     "output_type": "execute_result"
    }
   ],
   "source": [
    "valores = df.value_counts().index.tolist()\n",
    "valores"
   ]
  },
  {
   "cell_type": "code",
   "execution_count": 35,
   "id": "9b68d9cd",
   "metadata": {},
   "outputs": [
    {
     "data": {
      "text/html": [
       "<div>\n",
       "<style scoped>\n",
       "    .dataframe tbody tr th:only-of-type {\n",
       "        vertical-align: middle;\n",
       "    }\n",
       "\n",
       "    .dataframe tbody tr th {\n",
       "        vertical-align: top;\n",
       "    }\n",
       "\n",
       "    .dataframe thead th {\n",
       "        text-align: right;\n",
       "    }\n",
       "</style>\n",
       "<table border=\"1\" class=\"dataframe\">\n",
       "  <thead>\n",
       "    <tr style=\"text-align: right;\">\n",
       "      <th></th>\n",
       "      <th>repeticiones</th>\n",
       "      <th>valores</th>\n",
       "    </tr>\n",
       "  </thead>\n",
       "  <tbody>\n",
       "    <tr>\n",
       "      <th>0</th>\n",
       "      <td>3</td>\n",
       "      <td>(20,)</td>\n",
       "    </tr>\n",
       "    <tr>\n",
       "      <th>1</th>\n",
       "      <td>2</td>\n",
       "      <td>(10,)</td>\n",
       "    </tr>\n",
       "    <tr>\n",
       "      <th>2</th>\n",
       "      <td>1</td>\n",
       "      <td>(30,)</td>\n",
       "    </tr>\n",
       "    <tr>\n",
       "      <th>3</th>\n",
       "      <td>1</td>\n",
       "      <td>(40,)</td>\n",
       "    </tr>\n",
       "  </tbody>\n",
       "</table>\n",
       "</div>"
      ],
      "text/plain": [
       "   repeticiones valores\n",
       "0             3   (20,)\n",
       "1             2   (10,)\n",
       "2             1   (30,)\n",
       "3             1   (40,)"
      ]
     },
     "execution_count": 35,
     "metadata": {},
     "output_type": "execute_result"
    }
   ],
   "source": [
    "df_value_counts = pd.DataFrame(list(zip(repeticiones,valores)), columns = ['repeticiones','valores'])\n",
    "df_value_counts"
   ]
  },
  {
   "cell_type": "code",
   "execution_count": 39,
   "id": "bddcd2b6",
   "metadata": {},
   "outputs": [
    {
     "data": {
      "text/plain": [
       "listado\n",
       "20         3\n",
       "10         2\n",
       "30         1\n",
       "40         1\n",
       "dtype: int64"
      ]
     },
     "execution_count": 39,
     "metadata": {},
     "output_type": "execute_result"
    }
   ],
   "source": [
    "df.value_counts()"
   ]
  },
  {
   "cell_type": "markdown",
   "id": "9b04f4ef",
   "metadata": {},
   "source": [
    "# EJERCICIO 3\n",
    "\n",
    "    Comparación de matrices. Haz el código que testee si esas 2 matrices son iguales\n",
    "    1)Dadas:\n",
    "    matriz1 = np.array([[1,2],[3,4]])\n",
    "    matriz2 = np.array([[1,2],[3,8]])\n",
    "    \n",
    "    PISTAS:\n",
    "\n",
    "        -1- RECORRER MATRIZ1 Y MATRIZ2 CON LA PARAMETRIZACIÓN de i y j\n",
    "        COMPROBAR: ( matriz1 [ i ][ j ] == matriz2 [ i ][ j ] )\n",
    "        -2- crear una variable contador (inicializada en 0) y, cuando detecte, un número de una matriz en una posición concreta, y sea diferente del número que tiene LA OTRA MATRIZ..entonces..\n",
    "        -3- incremento 1 unidad en dicho contador:\n",
    "        SI los números son DISTINTOS\n",
    "        --> entonces, que se incremente en 1 unidad..\n",
    "        de tal manera que si ese contador=0 (al final)--> son todos iguales --> matriz1 = matriz2\n",
    "        y si es distinto de 0 -> es que POR LO MENOS 1 vez encontró un número diferente\n",
    "        matriz1 != matriz2\n",
    "        -4- puedes usar np.arange( ) si lo deseas para las filas y para las columnas\n",
    "        -5- recuerda el ejercicio del cronómetro para tener una referencia"
   ]
  },
  {
   "cell_type": "code",
   "execution_count": 71,
   "id": "656a8e69",
   "metadata": {},
   "outputs": [],
   "source": [
    "matriz1 = np.array([[1,2],[3,4]])\n",
    "matriz2 = np.array([[1,2],[3,8]])"
   ]
  },
  {
   "cell_type": "code",
   "execution_count": 72,
   "id": "8ba0e82b",
   "metadata": {},
   "outputs": [
    {
     "name": "stdout",
     "output_type": "stream",
     "text": [
      "Matrices NO iguales\n"
     ]
    }
   ],
   "source": [
    "n = 1\n",
    "for i,j in enumerate(matriz1):\n",
    "    for i1,j1 in enumerate(j):\n",
    "        if matriz1 [ i ][ i1 ] == matriz2 [ i ][ i1 ]:\n",
    "            if n == (matriz1.shape[0]*matriz1.shape[1]):\n",
    "                print('Matrices iguales')\n",
    "        else:\n",
    "            print('Matrices NO iguales')\n",
    "\n",
    "        n += 1\n",
    "         \n",
    "        "
   ]
  },
  {
   "cell_type": "code",
   "execution_count": 74,
   "id": "93b23d74",
   "metadata": {},
   "outputs": [
    {
     "name": "stdout",
     "output_type": "stream",
     "text": [
      "POR LO MENOS 1 vez encontró un número diferente\n"
     ]
    }
   ],
   "source": [
    "n = 0\n",
    "for i,j in enumerate(matriz1):\n",
    "    for i1,j1 in enumerate(j):\n",
    "        if matriz1 [ i ][ i1 ] != matriz2 [ i ][ i1 ]:\n",
    "             n += 1\n",
    "        \n",
    "if n != 0:\n",
    "    print('POR LO MENOS 1 vez encontró un número diferente')\n",
    "else:\n",
    "    print('Son todos iguales --> matriz1 = matriz2')\n",
    "    \n"
   ]
  },
  {
   "cell_type": "code",
   "execution_count": null,
   "id": "da8fc5fa",
   "metadata": {},
   "outputs": [],
   "source": []
  }
 ],
 "metadata": {
  "kernelspec": {
   "display_name": "Python 3 (ipykernel)",
   "language": "python",
   "name": "python3"
  },
  "language_info": {
   "codemirror_mode": {
    "name": "ipython",
    "version": 3
   },
   "file_extension": ".py",
   "mimetype": "text/x-python",
   "name": "python",
   "nbconvert_exporter": "python",
   "pygments_lexer": "ipython3",
   "version": "3.10.6"
  }
 },
 "nbformat": 4,
 "nbformat_minor": 5
}
