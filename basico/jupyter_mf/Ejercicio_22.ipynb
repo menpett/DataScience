{
 "cells": [
  {
   "cell_type": "markdown",
   "id": "be649e59",
   "metadata": {},
   "source": [
    "# EJERCICIO 1\n",
    "\n",
    "    Escribir una función que aplique un descuento a un precio y otra que aplique el IVA a un precio.\n",
    "    Escribir una tercera función que reciba un diccionario con los precios y porcentajes de una cesta de la compra, y una de las funciones anteriores, y utilice la función pasada para aplicar los descuentos o el IVA a los productos de la cesta y devolver el precio final de la cesta.\n",
    "    Ejemplo de diccionario: {1000:20, 500:10, 100:1}"
   ]
  },
  {
   "cell_type": "code",
   "execution_count": 81,
   "id": "281c605d",
   "metadata": {},
   "outputs": [],
   "source": [
    "def descuento(precio,descuento):\n",
    "    return float(precio)*(1 - (descuento/100))"
   ]
  },
  {
   "cell_type": "code",
   "execution_count": 82,
   "id": "125ba952",
   "metadata": {},
   "outputs": [],
   "source": [
    "def iva(precio):\n",
    "    return float(precio)*(1-0.21)"
   ]
  },
  {
   "cell_type": "code",
   "execution_count": 86,
   "id": "0a0d92bb",
   "metadata": {},
   "outputs": [],
   "source": [
    "def imprimir(dicc,funcion):\n",
    "    precio = []\n",
    "    for key,value in dicc.items():\n",
    "        if funcion == 'descuento':\n",
    "            valor = descuento(key,value)\n",
    "            print(f'Precio inicial:... {key}...Precio final:... {valor}')\n",
    "            precio.append(int(valor))\n",
    "        elif funcion == 'iva':\n",
    "            valor = iva(key)\n",
    "            print(f'Precio inicial:... {key}...Precio final:... {valor}')\n",
    "            precio.append(int(valor))\n",
    "    \n",
    "    return f'El precio final de la cesta es: ... {sum(precio)}'\n",
    "            \n",
    "        "
   ]
  },
  {
   "cell_type": "code",
   "execution_count": 87,
   "id": "e90e1869",
   "metadata": {},
   "outputs": [
    {
     "name": "stdout",
     "output_type": "stream",
     "text": [
      "Precio inicial:... 1000...Precio final:... 800.0\n",
      "Precio inicial:... 500...Precio final:... 450.0\n",
      "Precio inicial:... 100...Precio final:... 99.0\n"
     ]
    },
    {
     "data": {
      "text/plain": [
       "'El precio final de la cesta es: ... 1349'"
      ]
     },
     "execution_count": 87,
     "metadata": {},
     "output_type": "execute_result"
    }
   ],
   "source": [
    "imprimir({'1000':20, '500':10, '100':1},'descuento')"
   ]
  },
  {
   "cell_type": "code",
   "execution_count": 88,
   "id": "0bec624c",
   "metadata": {},
   "outputs": [
    {
     "name": "stdout",
     "output_type": "stream",
     "text": [
      "Precio inicial:... 1000...Precio final:... 790.0\n",
      "Precio inicial:... 500...Precio final:... 395.0\n",
      "Precio inicial:... 100...Precio final:... 79.0\n"
     ]
    },
    {
     "data": {
      "text/plain": [
       "'El precio final de la cesta es: ... 1264'"
      ]
     },
     "execution_count": 88,
     "metadata": {},
     "output_type": "execute_result"
    }
   ],
   "source": [
    "imprimir({'1000':20, '500':10, '100':1},'iva')"
   ]
  },
  {
   "cell_type": "markdown",
   "id": "552df0e3",
   "metadata": {},
   "source": [
    "# EJERCICIO 2\n",
    "\n",
    "    Escribir una función que reciba otra función y una lista,\n",
    "    y devuelva otra lista con el resultado de aplicar\n",
    "    la función dada a cada uno de los elementos de la lista."
   ]
  },
  {
   "cell_type": "code",
   "execution_count": 91,
   "id": "c7ef35e5",
   "metadata": {},
   "outputs": [],
   "source": [
    "def funcion_de_funcion(funcion,lista):\n",
    "    lista1 = []\n",
    "    for i in lista:\n",
    "        valor = funcion(i)\n",
    "        lista1.append(valor)\n",
    "    return f'La nueva lista es: ...{lista1}'"
   ]
  },
  {
   "cell_type": "code",
   "execution_count": 92,
   "id": "79ed7783",
   "metadata": {},
   "outputs": [
    {
     "data": {
      "text/plain": [
       "'la nueva lista es: ...[0.79, 1.58, 2.37, 3.16]'"
      ]
     },
     "execution_count": 92,
     "metadata": {},
     "output_type": "execute_result"
    }
   ],
   "source": [
    "funcion_de_funcion(iva,[1, 2, 3, 4])"
   ]
  },
  {
   "cell_type": "markdown",
   "id": "cee3bbb8",
   "metadata": {},
   "source": [
    "# EJERCICIO 3\n",
    "\n",
    "    Escribir una función que reciba una frase y\n",
    "    devuelva un diccionario con las palabras que contiene y su longitud.\n",
    "    Ejemplo: \"Hola Mundo\" --> {\"Hola\": 4, \"Mundo\": 5}"
   ]
  },
  {
   "cell_type": "code",
   "execution_count": 103,
   "id": "951d5be1",
   "metadata": {},
   "outputs": [],
   "source": [
    "def funcion_frase(frase):\n",
    "    \n",
    "    lista = frase.split(' ') \n",
    "    long = []\n",
    "    for i in lista:\n",
    "        long.append(len(i))\n",
    "    dicc = list(zip(lista,long))\n",
    "    \n",
    "    return f'El diccionario es: ... {dict(dicc)}'\n",
    "    "
   ]
  },
  {
   "cell_type": "code",
   "execution_count": 104,
   "id": "76ae06ea",
   "metadata": {},
   "outputs": [
    {
     "name": "stdout",
     "output_type": "stream",
     "text": [
      "[8]\n",
      "[8, 3]\n",
      "[8, 3, 7]\n",
      "[8, 3, 7, 3]\n",
      "[8, 3, 7, 3, 6]\n",
      "[8, 3, 7, 3, 6, 3]\n",
      "[8, 3, 7, 3, 6, 3, 5]\n"
     ]
    },
    {
     "data": {
      "text/plain": [
       "\"El diccionario es: ... {'Escribir': 8, 'una': 3, 'función': 7, 'que': 3, 'reciba': 6, 'frase': 5}\""
      ]
     },
     "execution_count": 104,
     "metadata": {},
     "output_type": "execute_result"
    }
   ],
   "source": [
    "funcion_frase('Escribir una función que reciba una frase')"
   ]
  },
  {
   "cell_type": "markdown",
   "id": "665ea7cd",
   "metadata": {},
   "source": [
    "# EJERCICIO 4\n",
    "\n",
    "    Escribir una función reciba una lista de notas y devuelva la lista de calificaciones correspondientes a esas notas.\n",
    "    Suspenso < 5\n",
    "    Aprobado = 5\n",
    "    Suficiente entre 5 - 7\n",
    "    Notable 7-9\n",
    "    Sobresaliente > 9"
   ]
  },
  {
   "cell_type": "code",
   "execution_count": 108,
   "id": "ae7e1f26",
   "metadata": {},
   "outputs": [],
   "source": [
    "def lista_notas(lista):\n",
    "    calificacion = []\n",
    "    for i in lista:\n",
    "        if i < 5:\n",
    "            calificacion.append('Suspenso')\n",
    "        elif i == 5:\n",
    "            calificacion.append('Aprobado')\n",
    "        elif (i > 5) and (i < 7):\n",
    "            calificacion.append('Suficiente')\n",
    "        elif (i >= 7) and (i < 9):\n",
    "            calificacion.append('Notable')\n",
    "        else:\n",
    "            calificacion.append('Sobresaliente')\n",
    "            \n",
    "    return f'Las notas son: {list(zip(calificacion,lista))}'\n",
    "            "
   ]
  },
  {
   "cell_type": "code",
   "execution_count": 109,
   "id": "79bb2350",
   "metadata": {},
   "outputs": [
    {
     "data": {
      "text/plain": [
       "\"Las notas son: [('Suficiente', 6.5), ('Aprobado', 5), ('Suspenso', 3.4), ('Notable', 8.2), ('Suspenso', 2.1), ('Sobresaliente', 9.7), ('Sobresaliente', 10)]\""
      ]
     },
     "execution_count": 109,
     "metadata": {},
     "output_type": "execute_result"
    }
   ],
   "source": [
    "lista_notas([6.5, 5, 3.4, 8.2, 2.1, 9.7, 10])"
   ]
  },
  {
   "cell_type": "markdown",
   "id": "401300ff",
   "metadata": {},
   "source": [
    "# EJERCICIO 5\n",
    "\n",
    "    Escribir una función que reciba un diccionario con las asignaturas y\n",
    "    las notas de un alumno y devuelva otro diccionario con las asignaturas en mayúsculas\n",
    "    y las calificaciones correspondientes a las notas."
   ]
  },
  {
   "cell_type": "code",
   "execution_count": 114,
   "id": "3142c894",
   "metadata": {},
   "outputs": [],
   "source": [
    "def reciba_diccionario(dicc):\n",
    "    calificacion = []\n",
    "    for i in dicc.values():\n",
    "        if i < 5:\n",
    "            calificacion.append('Suspenso')\n",
    "        elif i == 5:\n",
    "            calificacion.append('Aprobado')\n",
    "        elif (i > 5) and (i < 7):\n",
    "            calificacion.append('Suficiente')\n",
    "        elif (i >= 7) and (i < 9):\n",
    "            calificacion.append('Notable')\n",
    "        else:\n",
    "            calificacion.append('Sobresaliente')\n",
    "    asignaturas = []        \n",
    "    for key in dicc.keys():\n",
    "        asignaturas.append(key.upper())\n",
    "    dicc1 = list(zip(asignaturas,calificacion))    \n",
    "    return f'El nuevo diccionario es: ... {dict(dicc1)}'\n",
    "        "
   ]
  },
  {
   "cell_type": "code",
   "execution_count": 115,
   "id": "02709a60",
   "metadata": {},
   "outputs": [
    {
     "data": {
      "text/plain": [
       "\"El nuevo diccionario es: ... {'MATEMÁTICAS': 'Suficiente', 'FÍSICA': 'Aprobado', 'QUÍMICA': 'Suspenso', 'ECONOMÍA': 'Notable', 'HISTORIA': 'Sobresaliente', 'PROGRAMACIÓN': 'Sobresaliente'}\""
      ]
     },
     "execution_count": 115,
     "metadata": {},
     "output_type": "execute_result"
    }
   ],
   "source": [
    "reciba_diccionario({'Matemáticas':6.5, 'Física':5, 'Química':3.4, 'Economía':8.2, 'Historia':9.7, 'Programación':10})"
   ]
  },
  {
   "cell_type": "markdown",
   "id": "7f611ec0",
   "metadata": {},
   "source": [
    "# EJERCICIO 6\n",
    "\n",
    "    Escribir un programa que almacene la cadena de caracteres contraseña en una variable,\n",
    "    pregunte al usuario por la contraseña e imprima por pantalla si la contraseña introducida\n",
    "    por el usuario coincide con la guardada en la variable sin tener en cuenta mayúsculas y minúsculas."
   ]
  },
  {
   "cell_type": "code",
   "execution_count": 118,
   "id": "4c6fc179",
   "metadata": {},
   "outputs": [],
   "source": [
    "def almacene_cadena():\n",
    "    contrasena = []\n",
    "    caracter = input('Introduzca un caracter o presione 9999 para finalizar:...')\n",
    "    if caracter == '9999':\n",
    "        return 'Contraseña guardada',contraseña\n",
    "    else:\n",
    "        contrasena.append(caracter)    \n",
    "        return almacene_cadena()\n",
    "    "
   ]
  },
  {
   "cell_type": "code",
   "execution_count": 119,
   "id": "3c461a61",
   "metadata": {},
   "outputs": [
    {
     "name": "stdout",
     "output_type": "stream",
     "text": [
      "Introduzca un caracter o presione 9999 para finalizar:...a\n",
      "Introduzca un caracter o presione 9999 para finalizar:...a\n",
      "Introduzca un caracter o presione 9999 para finalizar:...b\n",
      "Introduzca un caracter o presione 9999 para finalizar:...9999\n"
     ]
    },
    {
     "data": {
      "text/plain": [
       "'Guardada contraseña'"
      ]
     },
     "execution_count": 119,
     "metadata": {},
     "output_type": "execute_result"
    }
   ],
   "source": [
    "almacene_cadena()"
   ]
  },
  {
   "cell_type": "code",
   "execution_count": null,
   "id": "728cbfae",
   "metadata": {},
   "outputs": [],
   "source": [
    "def verificar"
   ]
  }
 ],
 "metadata": {
  "kernelspec": {
   "display_name": "Python 3 (ipykernel)",
   "language": "python",
   "name": "python3"
  },
  "language_info": {
   "codemirror_mode": {
    "name": "ipython",
    "version": 3
   },
   "file_extension": ".py",
   "mimetype": "text/x-python",
   "name": "python",
   "nbconvert_exporter": "python",
   "pygments_lexer": "ipython3",
   "version": "3.10.6"
  }
 },
 "nbformat": 4,
 "nbformat_minor": 5
}
