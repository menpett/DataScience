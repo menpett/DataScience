{
 "cells": [
  {
   "cell_type": "code",
   "execution_count": null,
   "id": "0ea82912",
   "metadata": {},
   "outputs": [],
   "source": [
    "import pandas as pd"
   ]
  },
  {
   "cell_type": "markdown",
   "id": "acff0fcb",
   "metadata": {},
   "source": [
    "# Ejercicio 1\n",
    "\n",
    "    Desarrolla el siguiente ejercicios de POO:\n",
    "   * Alumnos  -> Es la clase.\n",
    "   * __init__ -> Es el método init\n",
    "   * nombre, edad, asignatura y nota son las propiedades\n",
    "   * Instanciamos..\n",
    "   * los posibles alumnos (alumno1, alumno2, alumno3..) --> son los \"objetos\"\n",
    "   * y el.__init__ los inicializa\n",
    "   A continuación muestra la edad del alumno 2 y el alumno 3 y sus notas"
   ]
  },
  {
   "cell_type": "markdown",
   "id": "be79a8c2",
   "metadata": {},
   "source": [
    "# Ejercicio 2\n",
    "\n",
    "    Escribir un programa que pregunte al usuario su edad y muestre por pantalla todos los años que ha cumplido (desde 1 hasta su edad)."
   ]
  },
  {
   "cell_type": "code",
   "execution_count": null,
   "id": "b84b0db4",
   "metadata": {},
   "outputs": [],
   "source": []
  },
  {
   "cell_type": "markdown",
   "id": "22eb5e92",
   "metadata": {},
   "source": [
    "# Ejercicio 3\n",
    "\n",
    "    Escribir un programa que pida al usuario una palabra y luego muestre por pantalla una a una las letras de la palabra introducida empezando por la última."
   ]
  },
  {
   "cell_type": "code",
   "execution_count": 22,
   "id": "990b6453",
   "metadata": {},
   "outputs": [],
   "source": [
    "def pida_palabra():\n",
    "    palabra = input('Escriba una palabra: ... ')\n",
    "    i = 1\n",
    "    while i <= len(palabra):\n",
    "        print(f'{palabra[-i]}')\n",
    "        i += 1"
   ]
  },
  {
   "cell_type": "code",
   "execution_count": 23,
   "id": "0b0a635d",
   "metadata": {},
   "outputs": [
    {
     "name": "stdout",
     "output_type": "stream",
     "text": [
      "Escriba una palabra: ... pantalla\n",
      "a\n",
      "l\n",
      "l\n",
      "a\n",
      "t\n",
      "n\n",
      "a\n",
      "p\n"
     ]
    }
   ],
   "source": [
    "pida_palabra()"
   ]
  },
  {
   "cell_type": "markdown",
   "id": "ba264b5b",
   "metadata": {},
   "source": [
    "# Ejercicio 4\n",
    "\n",
    "    Escribir un programa que pregunte el nombre completo del usuario en la consola y\n",
    "    después muestre por pantalla el nombre completo del usuario tres veces,\n",
    "    una con todas las letras minúsculas, otra con todas las letras mayúsculas y otra solo con la primera letra del nombre y de los apellidos en mayúscula.\n",
    "    El usuario puede introducir su nombre combinando mayúsculas y minúsculas como quiera."
   ]
  },
  {
   "cell_type": "code",
   "execution_count": 1,
   "id": "ae5fbae0",
   "metadata": {},
   "outputs": [],
   "source": [
    "def nombre_completo():\n",
    "    nombre = input('Escriba su nombre completo de usuario: ... ')\n",
    "    return f'Su nombre completo es: {nombre.lower()}, {nombre.upper()}, {nombre.title()}'"
   ]
  },
  {
   "cell_type": "code",
   "execution_count": 2,
   "id": "b6f05dee",
   "metadata": {},
   "outputs": [
    {
     "name": "stdout",
     "output_type": "stream",
     "text": [
      "Escriba su nombre completo de usuario: ... Maria Mendoza\n"
     ]
    },
    {
     "data": {
      "text/plain": [
       "'Su nombre completo es: maria mendoza, MARIA MENDOZA, Maria Mendoza'"
      ]
     },
     "execution_count": 2,
     "metadata": {},
     "output_type": "execute_result"
    }
   ],
   "source": [
    "nombre_completo()"
   ]
  },
  {
   "cell_type": "markdown",
   "id": "2e01d154",
   "metadata": {},
   "source": [
    "# Ejercicio 5\n",
    "\n",
    "    Los teléfonos de una empresa tienen el siguiente formato prefijo-número-extension donde el prefijo es el código del país +34, y la extensión tiene dos dígitos (por ejemplo +34-913724710-56).\n",
    "    Escribir un programa que pregunte por un número de teléfono con este formato y muestre por pantalla el número de teléfono sin el prefijo y la extensión."
   ]
  },
  {
   "cell_type": "code",
   "execution_count": 27,
   "id": "56e0b065",
   "metadata": {},
   "outputs": [],
   "source": [
    "def telefonos_empresa():\n",
    "    tlf = input('Escriba el número de teléfono con este formato - prefijo-número-extension -: ... ')\n",
    "    tlf1 = []\n",
    "    \n",
    "    for i in tlf:\n",
    "        if i not in [' ', '-', '+']:\n",
    "            tlf1.append(i)\n",
    "            \n",
    "    if len(tlf1)==13:\n",
    "        pre = tlf1[0:2]\n",
    "        num = tlf1[2:11]\n",
    "        ext = tlf1[11:13]\n",
    "    else:\n",
    "        print('\\n')\n",
    "        print('Verifique el numero, vuelva a intentarlo...')\n",
    "        return telefonos_empresa()\n",
    "    \n",
    "            \n",
    "    print(f'El prefijo es {\"\".join(pre)}')\n",
    "    print('\\n')\n",
    "    print(f'El número es {\"\".join(num)}')\n",
    "    print('\\n')\n",
    "    print(f'La extension es {\"\".join(ext)}')\n",
    "    "
   ]
  },
  {
   "cell_type": "code",
   "execution_count": 26,
   "id": "08269acf",
   "metadata": {},
   "outputs": [
    {
     "name": "stdout",
     "output_type": "stream",
     "text": [
      "Escriba el número de teléfono con este formato - prefijo-número-extension -: ... +34-913724710-5\n",
      "Verifique el numero, vuelva a intentarlo...\n",
      "Escriba el número de teléfono con este formato - prefijo-número-extension -: ... +34-913724710-56\n",
      "El prefijo es 34\n",
      "\n",
      "\n",
      "El número es 913724710\n",
      "\n",
      "\n",
      "La extension es 56\n"
     ]
    }
   ],
   "source": [
    "telefonos_empresa()"
   ]
  },
  {
   "cell_type": "markdown",
   "id": "66fdf67c",
   "metadata": {},
   "source": [
    "# Ejercicio 6\n",
    "\n",
    "    Escribir un programa que pida al usuario que introduzca una frase en la consola y una vocal,\n",
    "    y después muestre por pantalla la misma frase pero con la vocal introducida en mayúscula.\n",
    "    ejemplo geranio --> e --> gEranio"
   ]
  },
  {
   "cell_type": "code",
   "execution_count": null,
   "id": "42d7ab3d",
   "metadata": {},
   "outputs": [],
   "source": [
    "def pida_frase():\n",
    "    frase = input('Introduzca una frase en la consola: ...')\n",
    "    vocal = input('Introduzca una vocal en la consola: ...')\n",
    "    \n",
    "    "
   ]
  },
  {
   "cell_type": "markdown",
   "id": "d255491a",
   "metadata": {},
   "source": [
    "# Ejercicio 7\n",
    "\n",
    "    Escribir un programa que pregunte por consola el precio de un producto en euros con dos decimales\n",
    "    y muestre por pantalla el número de euros y el número de céntimos del precio introducido.\n",
    "    Ejemplo: 24.75 --> 24 Euros con 75 Centimos"
   ]
  },
  {
   "cell_type": "markdown",
   "id": "3fc59889",
   "metadata": {},
   "source": [
    "# Ejercicio 8\n",
    "\n",
    "    Escribir programa que genere y muestre por pantalla un DataFrame con los datos de la tabla siguiente:\n",
    "    Mes Ventas Gastos\n",
    "    Enero 30500 22000\n",
    "    Febrero 35600 23400\n",
    "    Marzo 28300 18100\n",
    "    Abril 33900 20700"
   ]
  },
  {
   "cell_type": "code",
   "execution_count": 61,
   "id": "8949368e",
   "metadata": {},
   "outputs": [],
   "source": [
    "import pandas as pd\n",
    "\n",
    "Meses = ['Enero','Febrero','Marzo','Abril']\n",
    "Ventas = [30500,35600,28300,33900]\n",
    "Gastos = [22000,23400,18100,20700]\n",
    "\n",
    "\n",
    "\n",
    "def genere_DataFrame(Meses,Ventas,Gastos):  \n",
    "    \n",
    "    df = pd.DataFrame()\n",
    "\n",
    "    df['Mes'] = Meses\n",
    "    df['Ventas'] = Ventas\n",
    "    df['Gastos'] = Gastos\n",
    "\n",
    "    return df"
   ]
  },
  {
   "cell_type": "code",
   "execution_count": 60,
   "id": "54d67315",
   "metadata": {},
   "outputs": [
    {
     "name": "stdout",
     "output_type": "stream",
     "text": [
      "[22000, 23400, 18100, 20700] <class 'list'>\n"
     ]
    },
    {
     "data": {
      "text/html": [
       "<div>\n",
       "<style scoped>\n",
       "    .dataframe tbody tr th:only-of-type {\n",
       "        vertical-align: middle;\n",
       "    }\n",
       "\n",
       "    .dataframe tbody tr th {\n",
       "        vertical-align: top;\n",
       "    }\n",
       "\n",
       "    .dataframe thead th {\n",
       "        text-align: right;\n",
       "    }\n",
       "</style>\n",
       "<table border=\"1\" class=\"dataframe\">\n",
       "  <thead>\n",
       "    <tr style=\"text-align: right;\">\n",
       "      <th></th>\n",
       "      <th>Mes</th>\n",
       "      <th>Ventas</th>\n",
       "      <th>Gastos</th>\n",
       "    </tr>\n",
       "  </thead>\n",
       "  <tbody>\n",
       "    <tr>\n",
       "      <th>0</th>\n",
       "      <td>Enero</td>\n",
       "      <td>30500</td>\n",
       "      <td>22000</td>\n",
       "    </tr>\n",
       "    <tr>\n",
       "      <th>1</th>\n",
       "      <td>Febrero</td>\n",
       "      <td>35600</td>\n",
       "      <td>23400</td>\n",
       "    </tr>\n",
       "    <tr>\n",
       "      <th>2</th>\n",
       "      <td>Marzo</td>\n",
       "      <td>28300</td>\n",
       "      <td>18100</td>\n",
       "    </tr>\n",
       "    <tr>\n",
       "      <th>3</th>\n",
       "      <td>Abril</td>\n",
       "      <td>33900</td>\n",
       "      <td>20700</td>\n",
       "    </tr>\n",
       "  </tbody>\n",
       "</table>\n",
       "</div>"
      ],
      "text/plain": [
       "       Mes  Ventas  Gastos\n",
       "0    Enero   30500   22000\n",
       "1  Febrero   35600   23400\n",
       "2    Marzo   28300   18100\n",
       "3    Abril   33900   20700"
      ]
     },
     "execution_count": 60,
     "metadata": {},
     "output_type": "execute_result"
    }
   ],
   "source": [
    "df = genere_DataFrame(Meses,Ventas,Gastos)\n",
    "df"
   ]
  },
  {
   "cell_type": "markdown",
   "id": "b443b541",
   "metadata": {},
   "source": [
    "# Ejercicio 9\n",
    "\n",
    "    Escribir una función que reciba un DataFrame con el formato del ejercicio anterior,\n",
    "    una lista de meses, y devuelva el balance (ventas - gastos) total en los meses indicados."
   ]
  },
  {
   "cell_type": "code",
   "execution_count": 67,
   "id": "da1e6e35",
   "metadata": {},
   "outputs": [],
   "source": [
    "def genere_DataFrame1(df): \n",
    "    df_1 =df[['Mes']] \n",
    "    df_1['Balance'] = df.Ventas - df.Gastos\n",
    "    return df_1"
   ]
  },
  {
   "cell_type": "code",
   "execution_count": 68,
   "id": "4e8d7d41",
   "metadata": {},
   "outputs": [
    {
     "name": "stderr",
     "output_type": "stream",
     "text": [
      "C:\\Users\\Leandro Vargas\\AppData\\Local\\Temp\\ipykernel_13904\\2762426622.py:3: SettingWithCopyWarning: \n",
      "A value is trying to be set on a copy of a slice from a DataFrame.\n",
      "Try using .loc[row_indexer,col_indexer] = value instead\n",
      "\n",
      "See the caveats in the documentation: https://pandas.pydata.org/pandas-docs/stable/user_guide/indexing.html#returning-a-view-versus-a-copy\n",
      "  df_1['Balance'] = df.Ventas - df.Gastos\n"
     ]
    },
    {
     "data": {
      "text/html": [
       "<div>\n",
       "<style scoped>\n",
       "    .dataframe tbody tr th:only-of-type {\n",
       "        vertical-align: middle;\n",
       "    }\n",
       "\n",
       "    .dataframe tbody tr th {\n",
       "        vertical-align: top;\n",
       "    }\n",
       "\n",
       "    .dataframe thead th {\n",
       "        text-align: right;\n",
       "    }\n",
       "</style>\n",
       "<table border=\"1\" class=\"dataframe\">\n",
       "  <thead>\n",
       "    <tr style=\"text-align: right;\">\n",
       "      <th></th>\n",
       "      <th>Mes</th>\n",
       "      <th>Balance</th>\n",
       "    </tr>\n",
       "  </thead>\n",
       "  <tbody>\n",
       "    <tr>\n",
       "      <th>0</th>\n",
       "      <td>Enero</td>\n",
       "      <td>8500</td>\n",
       "    </tr>\n",
       "    <tr>\n",
       "      <th>1</th>\n",
       "      <td>Febrero</td>\n",
       "      <td>12200</td>\n",
       "    </tr>\n",
       "    <tr>\n",
       "      <th>2</th>\n",
       "      <td>Marzo</td>\n",
       "      <td>10200</td>\n",
       "    </tr>\n",
       "    <tr>\n",
       "      <th>3</th>\n",
       "      <td>Abril</td>\n",
       "      <td>13200</td>\n",
       "    </tr>\n",
       "  </tbody>\n",
       "</table>\n",
       "</div>"
      ],
      "text/plain": [
       "       Mes  Balance\n",
       "0    Enero     8500\n",
       "1  Febrero    12200\n",
       "2    Marzo    10200\n",
       "3    Abril    13200"
      ]
     },
     "execution_count": 68,
     "metadata": {},
     "output_type": "execute_result"
    }
   ],
   "source": [
    "genere_DataFrame1(df)"
   ]
  },
  {
   "cell_type": "markdown",
   "id": "57d984c7",
   "metadata": {},
   "source": [
    "# Ejercicio 10\n",
    "\n",
    "    Escribir un programa que almacene las asignaturas de un curso\n",
    "    (por ejemplo Matemáticas, Física, Química, Historia y Lengua) en una lista,\n",
    "    pregunte al usuario la nota que ha sacado en cada asignatura,\n",
    "    y después las muestre por pantalla con el mensaje \"Has sacado ASIGNATURA la nota de NOTA\"\n",
    "    donde es cada una de las asignaturas de la lista y cada una de las correspondientes notas introducidas por el usuario."
   ]
  },
  {
   "cell_type": "code",
   "execution_count": null,
   "id": "5cd627fa",
   "metadata": {},
   "outputs": [],
   "source": []
  }
 ],
 "metadata": {
  "kernelspec": {
   "display_name": "Python 3 (ipykernel)",
   "language": "python",
   "name": "python3"
  },
  "language_info": {
   "codemirror_mode": {
    "name": "ipython",
    "version": 3
   },
   "file_extension": ".py",
   "mimetype": "text/x-python",
   "name": "python",
   "nbconvert_exporter": "python",
   "pygments_lexer": "ipython3",
   "version": "3.10.6"
  }
 },
 "nbformat": 4,
 "nbformat_minor": 5
}
