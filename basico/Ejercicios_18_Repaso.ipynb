{
 "cells": [
  {
   "cell_type": "markdown",
   "id": "db32e5e3",
   "metadata": {},
   "source": [
    "*Creado por:*\n",
    "\n",
    "*Isabel Maniega*"
   ]
  },
  {
   "cell_type": "markdown",
   "id": "08fe4d0c",
   "metadata": {},
   "source": [
    "### TODOS los ejercicios se deben realizar en formato script con Visual Studio Code"
   ]
  },
  {
   "cell_type": "markdown",
   "id": "30b72e84",
   "metadata": {},
   "source": [
    "**1)**- Definir una función max() que tome como argumento dos números y devuelva el mayor de ellos. (Es cierto que python tiene una función max() incorporada, pero hacerla nosotros mismos es un muy buen ejercicio.\n",
    "\n",
    "**2)** - Definir una función max_de_tres(), que tome tres números como argumentos y devuelva el mayor de ellos.\n",
    "\n",
    "**3)** - Definir una función que calcule la longitud de una lista o una cadena dada. (Es cierto que python tiene la función len() incorporada, pero escribirla por nosotros mismos resulta un muy buen ejercicio.\n",
    "\n",
    "**4)** - Escribir una función que tome un carácter y devuelva True si es una vocal, de lo contrario devuelve False.\n",
    "\n",
    "**5)** - Escribir una función sum() y una función multip() que sumen y multipliquen respectivamente todos los números de una lista. Por ejemplo: sum([1,2,3,4]) debería devolver 10 y multip([1,2,3,4]) debería devolver 24."
   ]
  },
  {
   "cell_type": "markdown",
   "id": "759dd29e",
   "metadata": {},
   "source": [
    "*Creado por:*\n",
    "\n",
    "*Isabel Maniega*"
   ]
  }
 ],
 "metadata": {
  "kernelspec": {
   "display_name": "Python 3",
   "language": "python",
   "name": "python3"
  },
  "language_info": {
   "codemirror_mode": {
    "name": "ipython",
    "version": 3
   },
   "file_extension": ".py",
   "mimetype": "text/x-python",
   "name": "python",
   "nbconvert_exporter": "python",
   "pygments_lexer": "ipython3",
   "version": "3.8.10"
  }
 },
 "nbformat": 4,
 "nbformat_minor": 5
}
